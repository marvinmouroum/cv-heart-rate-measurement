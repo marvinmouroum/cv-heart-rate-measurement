{
  "nbformat": 4,
  "nbformat_minor": 0,
  "metadata": {
    "colab": {
      "name": "Copy of cv-heart-rate-measurement.ipynb",
      "provenance": [],
      "collapsed_sections": [
        "NeG8b11c8351"
      ],
      "include_colab_link": true
    },
    "kernelspec": {
      "name": "python3",
      "display_name": "Python 3"
    },
    "language_info": {
      "codemirror_mode": {
        "name": "ipython",
        "version": 3
      },
      "file_extension": ".py",
      "mimetype": "text/x-python",
      "name": "python",
      "nbconvert_exporter": "python",
      "pygments_lexer": "ipython3",
      "version": "3.5.2"
    },
    "accelerator": "GPU"
  },
  "cells": [
    {
      "cell_type": "markdown",
      "metadata": {
        "id": "view-in-github",
        "colab_type": "text"
      },
      "source": [
        "<a href=\"https://colab.research.google.com/github/marvinmouroum/cv-heart-rate-measurement/blob/master/cv_heart_rate_measurement.ipynb\" target=\"_parent\"><img src=\"https://colab.research.google.com/assets/colab-badge.svg\" alt=\"Open In Colab\"/></a>"
      ]
    },
    {
      "cell_type": "markdown",
      "metadata": {
        "colab_type": "text",
        "id": "yPlqJBezCi4H"
      },
      "source": [
        "# Face detection"
      ]
    },
    {
      "cell_type": "markdown",
      "metadata": {
        "id": "CRuoy4ARqQQ0",
        "colab_type": "text"
      },
      "source": [
        "### Initialize the Code"
      ]
    },
    {
      "cell_type": "code",
      "metadata": {
        "colab_type": "code",
        "id": "r5RaNFXcCTVe",
        "colab": {}
      },
      "source": [
        "import os\n",
        "import cv2\n",
        "import numpy as np\n",
        "from pydrive.auth import GoogleAuth\n",
        "from pydrive.drive import GoogleDrive\n",
        "from google.colab import auth\n",
        "from oauth2client.client import GoogleCredentials\n",
        "import io\n",
        "from googleapiclient.http import MediaIoBaseDownload\n",
        "from google.colab import drive as gdrive\n",
        "\n",
        "import matplotlib.pyplot as plt\n",
        "plt.style.use('seaborn-whitegrid')\n",
        "import statistics\n",
        "\n",
        "from IPython.display import Math, HTML"
      ],
      "execution_count": 0,
      "outputs": []
    },
    {
      "cell_type": "code",
      "metadata": {
        "colab_type": "code",
        "id": "Dxd9JfOXDeNe",
        "outputId": "2c22cd2e-82b4-4dbd-fab7-ede10bf30415",
        "colab": {
          "base_uri": "https://localhost:8080/",
          "height": 122
        }
      },
      "source": [
        "gdrive.mount('/content/gdrive')\n",
        "root_path = 'gdrive/My Drive/Project/'\n",
        "source_path = 'gdrive/My Drive/cohface/'\n",
        "\n",
        "auth.authenticate_user()\n",
        "gauth = GoogleAuth()\n",
        "gauth.credentials = GoogleCredentials.get_application_default()\n",
        "drive = GoogleDrive(gauth)"
      ],
      "execution_count": 2,
      "outputs": [
        {
          "output_type": "stream",
          "text": [
            "Go to this URL in a browser: https://accounts.google.com/o/oauth2/auth?client_id=947318989803-6bn6qk8qdgf4n4g3pfee6491hc0brc4i.apps.googleusercontent.com&redirect_uri=urn%3aietf%3awg%3aoauth%3a2.0%3aoob&response_type=code&scope=email%20https%3a%2f%2fwww.googleapis.com%2fauth%2fdocs.test%20https%3a%2f%2fwww.googleapis.com%2fauth%2fdrive%20https%3a%2f%2fwww.googleapis.com%2fauth%2fdrive.photos.readonly%20https%3a%2f%2fwww.googleapis.com%2fauth%2fpeopleapi.readonly\n",
            "\n",
            "Enter your authorization code:\n",
            "··········\n",
            "Mounted at /content/gdrive\n"
          ],
          "name": "stdout"
        }
      ]
    },
    {
      "cell_type": "code",
      "metadata": {
        "colab_type": "code",
        "id": "PpKV4LRdCoeg",
        "colab": {}
      },
      "source": [
        "# Define paths\n",
        "prototxt_path = os.path.join(root_path + 'deploy.prototxt')\n",
        "caffemodel_path = os.path.join(root_path + 'weights.caffemodel')\n",
        "\n",
        "prototxt_path_id = '1-zfDOBY5fVcEzwii2JlrIDFyhLyvu5m5'\n",
        "caffemodel_path_id = '1jxuFoSukXr78rLfBgkLwn2qiWNUfoONf'\n",
        "image_id = '1wb8whYMorQNU2YvmHZsZGFeUTDc-95DN'\n",
        "\n",
        "downloaded = drive.CreateFile({'id': prototxt_path_id})\n",
        "downloaded.GetContentFile('deploy.prototxt')\n",
        "\n",
        "downloaded = drive.CreateFile({'id': caffemodel_path_id})\n",
        "downloaded.GetContentFile('weights.caffemodel')\n",
        "\n",
        "# Read the model\n",
        "model = cv2.dnn.readNetFromCaffe(prototxt_path, caffemodel_path)"
      ],
      "execution_count": 0,
      "outputs": []
    },
    {
      "cell_type": "markdown",
      "metadata": {
        "colab_type": "text",
        "id": "NeG8b11c8351"
      },
      "source": [
        "### Proof of Concept\n",
        "\n",
        "Not needed for running for the detection"
      ]
    },
    {
      "cell_type": "code",
      "metadata": {
        "colab_type": "code",
        "id": "jgKG3CzNHfDJ",
        "outputId": "988590c8-904f-42cb-d616-83c4eb4113e8",
        "colab": {
          "base_uri": "https://localhost:8080/",
          "height": 34
        }
      },
      "source": [
        "!ls gdrive/My\\ Drive/Project"
      ],
      "execution_count": 0,
      "outputs": [
        {
          "output_type": "stream",
          "text": [
            "deploy.prototxt  example.jpg  weights.caffemodel\n"
          ],
          "name": "stdout"
        }
      ]
    },
    {
      "cell_type": "code",
      "metadata": {
        "colab_type": "code",
        "id": "RAi_gPq0CwCy",
        "outputId": "763a725a-e7d2-4e22-863a-cb66a8d36654",
        "colab": {
          "base_uri": "https://localhost:8080/",
          "height": 34
        }
      },
      "source": [
        "# Create directory 'updated_images' if it does not exist\n",
        "if not os.path.exists('updated_images'):\n",
        "\tprint(\"New directory created\")\n",
        "\tos.makedirs('updated_images')"
      ],
      "execution_count": 0,
      "outputs": [
        {
          "output_type": "stream",
          "text": [
            "New directory created\n"
          ],
          "name": "stdout"
        }
      ]
    },
    {
      "cell_type": "code",
      "metadata": {
        "colab_type": "code",
        "id": "Jbib6vYrCwlA",
        "outputId": "33c6dfd8-e049-4330-fc8e-10de15c97d6d",
        "colab": {
          "base_uri": "https://localhost:8080/",
          "height": 34
        }
      },
      "source": [
        "# Create directory 'faces' if it does not exist\n",
        "if not os.path.exists('faces'):\n",
        "\tprint(\"New directory created\")\n",
        "\tos.makedirs('faces')"
      ],
      "execution_count": 0,
      "outputs": [
        {
          "output_type": "stream",
          "text": [
            "New directory created\n"
          ],
          "name": "stdout"
        }
      ]
    },
    {
      "cell_type": "code",
      "metadata": {
        "colab_type": "code",
        "id": "bBV29KjSLd7y",
        "outputId": "41de866b-4107-48a4-baca-9c9c8b83ce7b",
        "colab": {
          "base_uri": "https://localhost:8080/",
          "height": 34
        }
      },
      "source": [
        "!ls images"
      ],
      "execution_count": 0,
      "outputs": [
        {
          "output_type": "stream",
          "text": [
            "ls: cannot access 'images': No such file or directory\n"
          ],
          "name": "stdout"
        }
      ]
    },
    {
      "cell_type": "code",
      "metadata": {
        "colab_type": "code",
        "id": "99zPtf5kC234",
        "outputId": "c8dd1e5d-6eca-4cf9-a112-1c60bdae9368",
        "colab": {
          "base_uri": "https://localhost:8080/",
          "height": 215
        }
      },
      "source": [
        "# Loop through all images and save images with marked faces\n",
        "for file in os.listdir('images'):\n",
        "\tfile_name, file_extension = os.path.splitext(file)\n",
        "\tif (file_extension in ['.png','.jpg']):\n",
        "\t\tprint(\"Image path: {}\".format('images/' + file))"
      ],
      "execution_count": 0,
      "outputs": [
        {
          "output_type": "error",
          "ename": "FileNotFoundError",
          "evalue": "ignored",
          "traceback": [
            "\u001b[0;31m---------------------------------------------------------------------------\u001b[0m",
            "\u001b[0;31mFileNotFoundError\u001b[0m                         Traceback (most recent call last)",
            "\u001b[0;32m<ipython-input-8-8bf837c853c6>\u001b[0m in \u001b[0;36m<module>\u001b[0;34m()\u001b[0m\n\u001b[0;32m----> 1\u001b[0;31m \u001b[0;32mfor\u001b[0m \u001b[0mfile\u001b[0m \u001b[0;32min\u001b[0m \u001b[0mos\u001b[0m\u001b[0;34m.\u001b[0m\u001b[0mlistdir\u001b[0m\u001b[0;34m(\u001b[0m\u001b[0;34m'images'\u001b[0m\u001b[0;34m)\u001b[0m\u001b[0;34m:\u001b[0m\u001b[0;34m\u001b[0m\u001b[0;34m\u001b[0m\u001b[0m\n\u001b[0m\u001b[1;32m      2\u001b[0m         \u001b[0mfile_name\u001b[0m\u001b[0;34m,\u001b[0m \u001b[0mfile_extension\u001b[0m \u001b[0;34m=\u001b[0m \u001b[0mos\u001b[0m\u001b[0;34m.\u001b[0m\u001b[0mpath\u001b[0m\u001b[0;34m.\u001b[0m\u001b[0msplitext\u001b[0m\u001b[0;34m(\u001b[0m\u001b[0mfile\u001b[0m\u001b[0;34m)\u001b[0m\u001b[0;34m\u001b[0m\u001b[0;34m\u001b[0m\u001b[0m\n\u001b[1;32m      3\u001b[0m         \u001b[0;32mif\u001b[0m \u001b[0;34m(\u001b[0m\u001b[0mfile_extension\u001b[0m \u001b[0;32min\u001b[0m \u001b[0;34m[\u001b[0m\u001b[0;34m'.png'\u001b[0m\u001b[0;34m,\u001b[0m\u001b[0;34m'.jpg'\u001b[0m\u001b[0;34m]\u001b[0m\u001b[0;34m)\u001b[0m\u001b[0;34m:\u001b[0m\u001b[0;34m\u001b[0m\u001b[0;34m\u001b[0m\u001b[0m\n\u001b[1;32m      4\u001b[0m                 \u001b[0mprint\u001b[0m\u001b[0;34m(\u001b[0m\u001b[0;34m\"Image path: {}\"\u001b[0m\u001b[0;34m.\u001b[0m\u001b[0mformat\u001b[0m\u001b[0;34m(\u001b[0m\u001b[0;34m'images/'\u001b[0m \u001b[0;34m+\u001b[0m \u001b[0mfile\u001b[0m\u001b[0;34m)\u001b[0m\u001b[0;34m)\u001b[0m\u001b[0;34m\u001b[0m\u001b[0;34m\u001b[0m\u001b[0m\n",
            "\u001b[0;31mFileNotFoundError\u001b[0m: [Errno 2] No such file or directory: 'images'"
          ]
        }
      ]
    },
    {
      "cell_type": "code",
      "metadata": {
        "colab_type": "code",
        "id": "wqjpDFJVC5FV",
        "colab": {}
      },
      "source": [
        "image = cv2.imread('images/' + file)\n",
        "\n",
        "(h, w) = image.shape[:2]\n",
        "blob = cv2.dnn.blobFromImage(cv2.resize(image, (300, 300)), 1.0, (300, 300), (104.0, 177.0, 123.0))\n",
        "\n",
        "model.setInput(blob)\n",
        "detections = model.forward()"
      ],
      "execution_count": 0,
      "outputs": []
    },
    {
      "cell_type": "code",
      "metadata": {
        "colab_type": "code",
        "id": "KEH4wDdxC8AL",
        "colab": {}
      },
      "source": [
        "# Create frame around face\n",
        "for i in range(0, detections.shape[2]):\n",
        "  box = detections[0, 0, i, 3:7] * np.array([w, h, w, h])\n",
        "  (startX, startY, endX, endY) = box.astype(\"int\")\n",
        "\n",
        "  confidence = detections[0, 0, i, 2]\n",
        "\n",
        "  # If confidence > 0.5, show box around face\n",
        "  if (confidence > 0.5):\n",
        "    cv2.rectangle(image, (startX, startY), (endX, endY), (255, 255, 255), 2)\n",
        "\n",
        "cv2.imwrite('updated_images/' + file, image)\n",
        "print(\"Image \" + file + \" converted successfully\")"
      ],
      "execution_count": 0,
      "outputs": []
    },
    {
      "cell_type": "code",
      "metadata": {
        "colab_type": "code",
        "id": "TrMDH_cQDDP8",
        "colab": {}
      },
      "source": [
        "count = 0\n",
        "# Identify each face\n",
        "for i in range(0, detections.shape[2]):\n",
        "  box = detections[0, 0, i, 3:7] * np.array([w, h, w, h])\n",
        "  (startX, startY, endX, endY) = box.astype(\"int\")\n",
        "\n",
        "  confidence = detections[0, 0, i, 2]\n",
        "\n",
        "  # If confidence > 0.5, save it as a separate file\n",
        "  if (confidence > 0.5):\n",
        "    count += 1\n",
        "    frame = image[startY:endY, startX:endX]\n",
        "    cv2.imwrite('faces/' + str(i) + '_' + file, frame)"
      ],
      "execution_count": 0,
      "outputs": []
    },
    {
      "cell_type": "code",
      "metadata": {
        "colab_type": "code",
        "id": "5JYmD2i4New2",
        "colab": {}
      },
      "source": [
        "!ls updated_images"
      ],
      "execution_count": 0,
      "outputs": []
    },
    {
      "cell_type": "code",
      "metadata": {
        "colab_type": "code",
        "id": "5WLdBEaLNk29",
        "colab": {}
      },
      "source": [
        "from IPython.display import Image\n",
        "display(Image('updated_images/image.jpg'))\n",
        "display(Image('faces/0_image.jpg'))"
      ],
      "execution_count": 0,
      "outputs": []
    },
    {
      "cell_type": "code",
      "metadata": {
        "colab_type": "code",
        "id": "dOZyGFX_RU0c",
        "colab": {}
      },
      "source": [
        "downloaded = drive.CreateFile({'id': '10d5-_YC2lX09LfnbbvraW0GoAKeqXUDu'})\n",
        "downloaded.GetContentFile('videos/data.avi')"
      ],
      "execution_count": 0,
      "outputs": []
    },
    {
      "cell_type": "markdown",
      "metadata": {
        "colab_type": "text",
        "id": "3GudD3Ta8-jK"
      },
      "source": [
        "## Video Implementation"
      ]
    },
    {
      "cell_type": "markdown",
      "metadata": {
        "id": "Cdw6WrXnlI5x",
        "colab_type": "text"
      },
      "source": [
        "### This sections creates a local document structure in order to \n",
        "\n",
        "*   save a video locally in *temp_video*\n",
        "*   extract the face and save the image with bounding box locally in *bounding*\n",
        "*   extract the face and save it in a specified folder *faces/videoID*\n",
        "*   resize the face and save it in the directory *resized/videoID\n",
        "\n",
        "\n",
        "\n",
        "\n"
      ]
    },
    {
      "cell_type": "code",
      "metadata": {
        "id": "FA1A-VGEmgIi",
        "colab_type": "code",
        "colab": {}
      },
      "source": [
        "#This will clean the creates data\n",
        "def clean(temp='temp_video',bound='bounding',faces='faces',resized='resized'):\n",
        "  !rm -r $temp\n",
        "  !rm -r $bound\n",
        "  !rm -r $faces\n",
        "  !rm -r $resized \n",
        "\n",
        "#This will create all the necessary directories in order to perform the preprocessing\n",
        "def create_infrastructure(temp='temp_video',bound='bounding',faces='faces',resized='resized'):\n",
        "  !mkdir $temp\n",
        "  !mkdir $bound\n",
        "  !mkdir $faces\n",
        "  !mkdir $resized\n",
        "  !mkdir 'gdrive/My Drive/cohface/frames'\n",
        "\n",
        "#This will copy a video from the drive in the respective directory and create a folder dedicated to it's id\n",
        "def getVideo(path,id,faces='faces',bound='bounding',resized='resized',temp='temp_video'):\n",
        "  !mkdir $faces/$id\n",
        "  !mkdir $bound/$id\n",
        "  !mkdir $resized/$id\n",
        "  filetype = path.split('.')[-1]\n",
        "  target   = \"'\" + temp + '/' + id + '.' + filetype + \"'\"\n",
        "  source   = \"'\" + path + \"'\"\n",
        "  #print(\"!cp\" + \" \" + source + \" \" + target)\n",
        "  !cp $path $target\n",
        "  return temp + '/' + id + '.' + filetype"
      ],
      "execution_count": 0,
      "outputs": []
    },
    {
      "cell_type": "code",
      "metadata": {
        "id": "rKxLOyZCEBew",
        "colab_type": "code",
        "colab": {}
      },
      "source": [
        "def resize_img(img,destination):\n",
        "  # Create square images from pepes by adding black margins preserving original aspect ratio\n",
        "  #Importing modules opencv + numpy\n",
        "  import cv2\n",
        "  import numpy as np\n",
        "\n",
        "  w = 128\n",
        "  h = 192\n",
        "\n",
        "  #Reading an image (you can use PNG or JPG)\n",
        "  name = img\n",
        "  img = cv2.imread(img)\n",
        "\n",
        "  if(img.shape[0] > h or img.shape[1] > w):\n",
        "    #print(\"bigger image detected\")\n",
        "    img = cv2.resize(img,(w,h))\n",
        "\n",
        "  if img is None:\n",
        "    print(\"Could not read image \", name)\n",
        "    return False\n",
        "\n",
        "  #Creating a dark square with NUMPY  \n",
        "  f = np.zeros((h,w,3),np.uint8)\n",
        "\n",
        "  #Getting the centering position\n",
        "  ax,ay = (w - img.shape[1])//2,(h - img.shape[0])//2\n",
        "\n",
        "  #Pasting the 'image' in a centering position\n",
        "  f[ay:img.shape[0]+ay,ax:ax+img.shape[1]] = img\n",
        "  \n",
        "\n",
        "  #Saving the image\n",
        "  f = cv2.resize(f,(w,h),interpolation=cv2.INTER_NEAREST)\n",
        "  cv2.imwrite(destination,f)\n",
        "  cv2.destroyAllWindows() \n",
        "  return True"
      ],
      "execution_count": 0,
      "outputs": []
    },
    {
      "cell_type": "code",
      "metadata": {
        "colab_type": "code",
        "id": "6ynbTkvZ6QwC",
        "colab": {}
      },
      "source": [
        "def find_face(image,id,fileID,bound='bounding',faces='faces'):\n",
        "\n",
        "  count = 0\n",
        "\n",
        "  (h, w) = image.shape[:2]\n",
        "  blob = cv2.dnn.blobFromImage(cv2.resize(image, (300, 300)), 1.0, (300, 300), (104.0, 177.0, 123.0))\n",
        "\n",
        "  model.setInput(blob)\n",
        "  detections = model.forward()\n",
        "  # Create frame around face\n",
        "  for i in range(0, detections.shape[2]):\n",
        "    box = detections[0, 0, i, 3:7] * np.array([w, h, w, h])\n",
        "    (startX, startY, endX, endY) = box.astype(\"int\")\n",
        "\n",
        "    confidence = detections[0, 0, i, 2]\n",
        "\n",
        "    # If confidence > 0.5, show box around face\n",
        "    if (confidence > 0.5):\n",
        "      cv2.rectangle(image, (startX, startY), (endX, endY), (255, 255, 255), 2)\n",
        "      #print(endX-startX)\n",
        "      #print(endY-startY)\n",
        "    \n",
        "  cv2.imwrite( bound + '/' + id + '/' + fileID + '.png', image)\n",
        "\n",
        "    # Identify each face#\n",
        "  for i in range(0, detections.shape[2]):\n",
        "    box = detections[0, 0, i, 3:7] * np.array([w, h, w, h])\n",
        "    (startX, startY, endX, endY) = box.astype(\"int\")\n",
        "\n",
        "    confidence = detections[0, 0, i, 2]\n",
        "\n",
        "    # If confidence > 0.5, save it as a separate file\n",
        "    if (confidence > 0.5):\n",
        "      count += 1\n",
        "      frame = image[startY:endY, startX:endX]\n",
        "      #print(faces + '/' + id + '/' + fileID + '.png')\n",
        "      cv2.imwrite( faces + '/' + id + '/' + fileID + '.png', frame)\n",
        "      #cv2_imshow(frame)\n",
        "      resize_img(faces + '/' + id + '/' + fileID + '.png','resized/' + id + '/' + fileID + '.png')\n",
        "  \n",
        "  if count == 0:\n",
        "    print(\"did not find face for \" , fileID)\n",
        "    return\n",
        "  else:\n",
        "    return 'resized/' + id + '/' + fileID + '.png'\n"
      ],
      "execution_count": 0,
      "outputs": []
    },
    {
      "cell_type": "code",
      "metadata": {
        "colab_type": "code",
        "id": "73LJ5-kWJEA3",
        "colab": {}
      },
      "source": [
        "def analyze_video(video,id,temp='temp_video'):\n",
        "\n",
        "  # load video stream\n",
        "  VIDEO_STREAM =  temp + '/' + video\n",
        "\n",
        "  # Initialize the video stream and pointer to output video file\n",
        "  vs = cv2.VideoCapture(VIDEO_STREAM)\n",
        "  writer = None\n",
        "  vs.set(cv2.CAP_PROP_POS_FRAMES, 1);\n",
        "  length = int(vs.get(cv2.CAP_PROP_FRAME_COUNT))\n",
        "  print( \"frame has length of \" , length )\n",
        "  i = 0\n",
        "  frames = []\n",
        "  while i < length:\n",
        "    # read the next frame from the file\n",
        "    (grabbed, frame) = vs.read()\n",
        "    i += 1\n",
        "    # If the frame was not grabbed, then we have reached the end\n",
        "    # of the stream\n",
        "    if not grabbed:\n",
        "      print(\"Not grabbed.\")\n",
        "      break;\n",
        "    newID = id + str(i)\n",
        "    img = find_face(frame,id,newID)\n",
        "    \n",
        "    if img is None:\n",
        "      print(\"image \"+str(id)+\" was not saved correctly\")\n",
        "      continue\n",
        "\n",
        "    img_array = cv2.imread(img)\n",
        "\n",
        "    if img_array is None:\n",
        "      print(\"array is none - black image appended\")\n",
        "      frames.append( np.zeros((192, 128, 3)) )\n",
        "      continue\n",
        "\n",
        "    frames.append( img_array )\n",
        "    \n",
        "    if i%100 == 0:\n",
        "      print(i)\n",
        "    #break\n",
        "  return frames"
      ],
      "execution_count": 0,
      "outputs": []
    },
    {
      "cell_type": "markdown",
      "metadata": {
        "id": "zWLaQh6epZuf",
        "colab_type": "text"
      },
      "source": [
        "### This section generates frames only of the face and saves them in a folder on the drive and local storage"
      ]
    },
    {
      "cell_type": "code",
      "metadata": {
        "colab_type": "code",
        "id": "v3Fj3puONz0W",
        "colab": {}
      },
      "source": [
        "from google.colab.patches import cv2_imshow\n",
        "\n",
        "def save_face_for(subject,folder):\n",
        "  myid = str(subject)+'_'+str(folder)\n",
        "  clean()\n",
        "  create_infrastructure()\n",
        "  filepath = getVideo('gdrive/My\\ Drive/cohface/'+str(subject)+'/'+str(folder)+'/data.avi',myid)\n",
        "  filename = filepath.split(\"/\")[-1]\n",
        "  frames = analyze_video(filename,myid)\n",
        "\n",
        "  destination = 'gdrive/My\\ Drive/cohface/frames/' + myid\n",
        "  _destination = \"'\" + 'gdrive/My Drive/cohface/frames/' + myid + \"'\" \n",
        "  _source = \"'resized/\"+myid+\"/.'\"\n",
        "  !mkdir $destination\n",
        "  !cp -a $_source $_destination\n",
        "  return frames\n",
        "\n",
        "def get_saved_face_for(subject,folder):\n",
        "  myid = str(subject)+'_'+str(folder)\n",
        "  source = 'gdrive/My Drive/cohface/frames/' + myid\n",
        "\n",
        "  return list(map(lambda x:source + '/' + x, os.listdir(source)))\n"
      ],
      "execution_count": 0,
      "outputs": []
    },
    {
      "cell_type": "code",
      "metadata": {
        "id": "o23EUc5XquP6",
        "colab_type": "code",
        "colab": {
          "base_uri": "https://localhost:8080/",
          "height": 54
        },
        "outputId": "24657631-15a4-4803-bf5e-717eb664d192"
      },
      "source": [
        "get_saved_face_for(1,0)"
      ],
      "execution_count": 21,
      "outputs": [
        {
          "output_type": "stream",
          "text": [
            "['gdrive/My Drive/cohface/frames/1_0/1_0209.png', 'gdrive/My Drive/cohface/frames/1_0/1_0214.png', 'gdrive/My Drive/cohface/frames/1_0/1_0217.png', 'gdrive/My Drive/cohface/frames/1_0/1_0200.png', 'gdrive/My Drive/cohface/frames/1_0/1_0193.png', 'gdrive/My Drive/cohface/frames/1_0/1_0215.png', 'gdrive/My Drive/cohface/frames/1_0/1_0210.png', 'gdrive/My Drive/cohface/frames/1_0/1_0201.png', 'gdrive/My Drive/cohface/frames/1_0/1_0218.png', 'gdrive/My Drive/cohface/frames/1_0/1_0194.png', 'gdrive/My Drive/cohface/frames/1_0/1_0220.png', 'gdrive/My Drive/cohface/frames/1_0/1_0228.png', 'gdrive/My Drive/cohface/frames/1_0/1_0202.png', 'gdrive/My Drive/cohface/frames/1_0/1_0219.png', 'gdrive/My Drive/cohface/frames/1_0/1_0195.png', 'gdrive/My Drive/cohface/frames/1_0/1_0229.png', 'gdrive/My Drive/cohface/frames/1_0/1_0221.png', 'gdrive/My Drive/cohface/frames/1_0/1_0231.png', 'gdrive/My Drive/cohface/frames/1_0/1_0203.png', 'gdrive/My Drive/cohface/frames/1_0/1_0230.png', 'gdrive/My Drive/cohface/frames/1_0/1_0237.png', 'gdrive/My Drive/cohface/frames/1_0/1_0235.png', 'gdrive/My Drive/cohface/frames/1_0/1_0238.png', 'gdrive/My Drive/cohface/frames/1_0/1_0222.png', 'gdrive/My Drive/cohface/frames/1_0/1_0232.png', 'gdrive/My Drive/cohface/frames/1_0/1_0204.png', 'gdrive/My Drive/cohface/frames/1_0/1_0239.png', 'gdrive/My Drive/cohface/frames/1_0/1_0236.png', 'gdrive/My Drive/cohface/frames/1_0/1_0223.png', 'gdrive/My Drive/cohface/frames/1_0/1_0244.png', 'gdrive/My Drive/cohface/frames/1_0/1_0245.png', 'gdrive/My Drive/cohface/frames/1_0/1_0233.png', 'gdrive/My Drive/cohface/frames/1_0/1_0246.png', 'gdrive/My Drive/cohface/frames/1_0/1_0247.png', 'gdrive/My Drive/cohface/frames/1_0/1_0240.png', 'gdrive/My Drive/cohface/frames/1_0/1_0224.png', 'gdrive/My Drive/cohface/frames/1_0/1_0249.png', 'gdrive/My Drive/cohface/frames/1_0/1_0234.png', 'gdrive/My Drive/cohface/frames/1_0/1_0251.png', 'gdrive/My Drive/cohface/frames/1_0/1_0253.png', 'gdrive/My Drive/cohface/frames/1_0/1_0248.png', 'gdrive/My Drive/cohface/frames/1_0/1_0241.png', 'gdrive/My Drive/cohface/frames/1_0/1_0225.png', 'gdrive/My Drive/cohface/frames/1_0/1_0250.png', 'gdrive/My Drive/cohface/frames/1_0/1_0254.png', 'gdrive/My Drive/cohface/frames/1_0/1_0252.png', 'gdrive/My Drive/cohface/frames/1_0/1_0257.png', 'gdrive/My Drive/cohface/frames/1_0/1_0242.png', 'gdrive/My Drive/cohface/frames/1_0/1_0226.png', 'gdrive/My Drive/cohface/frames/1_0/1_0255.png', 'gdrive/My Drive/cohface/frames/1_0/1_0259.png', 'gdrive/My Drive/cohface/frames/1_0/1_0258.png', 'gdrive/My Drive/cohface/frames/1_0/1_0243.png', 'gdrive/My Drive/cohface/frames/1_0/1_0227.png', 'gdrive/My Drive/cohface/frames/1_0/1_0256.png', 'gdrive/My Drive/cohface/frames/1_0/1_0260.png', 'gdrive/My Drive/cohface/frames/1_0/1_0265.png', 'gdrive/My Drive/cohface/frames/1_0/1_0266.png', 'gdrive/My Drive/cohface/frames/1_0/1_0267.png', 'gdrive/My Drive/cohface/frames/1_0/1_0261.png', 'gdrive/My Drive/cohface/frames/1_0/1_0268.png', 'gdrive/My Drive/cohface/frames/1_0/1_0270.png', 'gdrive/My Drive/cohface/frames/1_0/1_0262.png', 'gdrive/My Drive/cohface/frames/1_0/1_0273.png', 'gdrive/My Drive/cohface/frames/1_0/1_0269.png', 'gdrive/My Drive/cohface/frames/1_0/1_0271.png', 'gdrive/My Drive/cohface/frames/1_0/1_0274.png', 'gdrive/My Drive/cohface/frames/1_0/1_0263.png', 'gdrive/My Drive/cohface/frames/1_0/1_0275.png', 'gdrive/My Drive/cohface/frames/1_0/1_0272.png', 'gdrive/My Drive/cohface/frames/1_0/1_0264.png', 'gdrive/My Drive/cohface/frames/1_0/1_0281.png', 'gdrive/My Drive/cohface/frames/1_0/1_0276.png', 'gdrive/My Drive/cohface/frames/1_0/1_0286.png', 'gdrive/My Drive/cohface/frames/1_0/1_0287.png', 'gdrive/My Drive/cohface/frames/1_0/1_0288.png', 'gdrive/My Drive/cohface/frames/1_0/1_0282.png', 'gdrive/My Drive/cohface/frames/1_0/1_0277.png', 'gdrive/My Drive/cohface/frames/1_0/1_0290.png', 'gdrive/My Drive/cohface/frames/1_0/1_0291.png', 'gdrive/My Drive/cohface/frames/1_0/1_0289.png', 'gdrive/My Drive/cohface/frames/1_0/1_0283.png', 'gdrive/My Drive/cohface/frames/1_0/1_0278.png', 'gdrive/My Drive/cohface/frames/1_0/1_0293.png', 'gdrive/My Drive/cohface/frames/1_0/1_0292.png', 'gdrive/My Drive/cohface/frames/1_0/1_0284.png', 'gdrive/My Drive/cohface/frames/1_0/1_0296.png', 'gdrive/My Drive/cohface/frames/1_0/1_0279.png', 'gdrive/My Drive/cohface/frames/1_0/1_0301.png', 'gdrive/My Drive/cohface/frames/1_0/1_0294.png', 'gdrive/My Drive/cohface/frames/1_0/1_0285.png', 'gdrive/My Drive/cohface/frames/1_0/1_0297.png', 'gdrive/My Drive/cohface/frames/1_0/1_0303.png', 'gdrive/My Drive/cohface/frames/1_0/1_0295.png', 'gdrive/My Drive/cohface/frames/1_0/1_0302.png', 'gdrive/My Drive/cohface/frames/1_0/1_0280.png', 'gdrive/My Drive/cohface/frames/1_0/1_0308.png', 'gdrive/My Drive/cohface/frames/1_0/1_0298.png', 'gdrive/My Drive/cohface/frames/1_0/1_0304.png', 'gdrive/My Drive/cohface/frames/1_0/1_0309.png', 'gdrive/My Drive/cohface/frames/1_0/1_0310.png', 'gdrive/My Drive/cohface/frames/1_0/1_0315.png', 'gdrive/My Drive/cohface/frames/1_0/1_0299.png', 'gdrive/My Drive/cohface/frames/1_0/1_0305.png', 'gdrive/My Drive/cohface/frames/1_0/1_0311.png', 'gdrive/My Drive/cohface/frames/1_0/1_0316.png', 'gdrive/My Drive/cohface/frames/1_0/1_0300.png', 'gdrive/My Drive/cohface/frames/1_0/1_0306.png', 'gdrive/My Drive/cohface/frames/1_0/1_0312.png', 'gdrive/My Drive/cohface/frames/1_0/1_0317.png', 'gdrive/My Drive/cohface/frames/1_0/1_0320.png', 'gdrive/My Drive/cohface/frames/1_0/1_0307.png', 'gdrive/My Drive/cohface/frames/1_0/1_0326.png', 'gdrive/My Drive/cohface/frames/1_0/1_0313.png', 'gdrive/My Drive/cohface/frames/1_0/1_0318.png', 'gdrive/My Drive/cohface/frames/1_0/1_0321.png', 'gdrive/My Drive/cohface/frames/1_0/1_0327.png', 'gdrive/My Drive/cohface/frames/1_0/1_0333.png', 'gdrive/My Drive/cohface/frames/1_0/1_0314.png', 'gdrive/My Drive/cohface/frames/1_0/1_0322.png', 'gdrive/My Drive/cohface/frames/1_0/1_0319.png', 'gdrive/My Drive/cohface/frames/1_0/1_0328.png', 'gdrive/My Drive/cohface/frames/1_0/1_0334.png', 'gdrive/My Drive/cohface/frames/1_0/1_0340.png', 'gdrive/My Drive/cohface/frames/1_0/1_0323.png', 'gdrive/My Drive/cohface/frames/1_0/1_0329.png', 'gdrive/My Drive/cohface/frames/1_0/1_0335.png', 'gdrive/My Drive/cohface/frames/1_0/1_0343.png', 'gdrive/My Drive/cohface/frames/1_0/1_0341.png', 'gdrive/My Drive/cohface/frames/1_0/1_0324.png', 'gdrive/My Drive/cohface/frames/1_0/1_0330.png', 'gdrive/My Drive/cohface/frames/1_0/1_0336.png', 'gdrive/My Drive/cohface/frames/1_0/1_0325.png', 'gdrive/My Drive/cohface/frames/1_0/1_0331.png', 'gdrive/My Drive/cohface/frames/1_0/1_0342.png', 'gdrive/My Drive/cohface/frames/1_0/1_0337.png', 'gdrive/My Drive/cohface/frames/1_0/1_0344.png', 'gdrive/My Drive/cohface/frames/1_0/1_0332.png', 'gdrive/My Drive/cohface/frames/1_0/1_0338.png', 'gdrive/My Drive/cohface/frames/1_0/1_0349.png', 'gdrive/My Drive/cohface/frames/1_0/1_0345.png', 'gdrive/My Drive/cohface/frames/1_0/1_0361.png', 'gdrive/My Drive/cohface/frames/1_0/1_0339.png', 'gdrive/My Drive/cohface/frames/1_0/1_0350.png', 'gdrive/My Drive/cohface/frames/1_0/1_0364.png', 'gdrive/My Drive/cohface/frames/1_0/1_0368.png', 'gdrive/My Drive/cohface/frames/1_0/1_0346.png', 'gdrive/My Drive/cohface/frames/1_0/1_0362.png', 'gdrive/My Drive/cohface/frames/1_0/1_0351.png', 'gdrive/My Drive/cohface/frames/1_0/1_0369.png', 'gdrive/My Drive/cohface/frames/1_0/1_0371.png', 'gdrive/My Drive/cohface/frames/1_0/1_0365.png', 'gdrive/My Drive/cohface/frames/1_0/1_0347.png', 'gdrive/My Drive/cohface/frames/1_0/1_0363.png', 'gdrive/My Drive/cohface/frames/1_0/1_0352.png', 'gdrive/My Drive/cohface/frames/1_0/1_0370.png', 'gdrive/My Drive/cohface/frames/1_0/1_0372.png', 'gdrive/My Drive/cohface/frames/1_0/1_0366.png', 'gdrive/My Drive/cohface/frames/1_0/1_0374.png', 'gdrive/My Drive/cohface/frames/1_0/1_0348.png', 'gdrive/My Drive/cohface/frames/1_0/1_0353.png', 'gdrive/My Drive/cohface/frames/1_0/1_0373.png', 'gdrive/My Drive/cohface/frames/1_0/1_0367.png', 'gdrive/My Drive/cohface/frames/1_0/1_0375.png', 'gdrive/My Drive/cohface/frames/1_0/1_0354.png', 'gdrive/My Drive/cohface/frames/1_0/1_0381.png', 'gdrive/My Drive/cohface/frames/1_0/1_0383.png', 'gdrive/My Drive/cohface/frames/1_0/1_0384.png', 'gdrive/My Drive/cohface/frames/1_0/1_0376.png', 'gdrive/My Drive/cohface/frames/1_0/1_0382.png', 'gdrive/My Drive/cohface/frames/1_0/1_0355.png', 'gdrive/My Drive/cohface/frames/1_0/1_0385.png', 'gdrive/My Drive/cohface/frames/1_0/1_0389.png', 'gdrive/My Drive/cohface/frames/1_0/1_0377.png', 'gdrive/My Drive/cohface/frames/1_0/1_0356.png', 'gdrive/My Drive/cohface/frames/1_0/1_0390.png', 'gdrive/My Drive/cohface/frames/1_0/1_0386.png', 'gdrive/My Drive/cohface/frames/1_0/1_0378.png', 'gdrive/My Drive/cohface/frames/1_0/1_0392.png', 'gdrive/My Drive/cohface/frames/1_0/1_0357.png', 'gdrive/My Drive/cohface/frames/1_0/1_0391.png', 'gdrive/My Drive/cohface/frames/1_0/1_0387.png', 'gdrive/My Drive/cohface/frames/1_0/1_0379.png', 'gdrive/My Drive/cohface/frames/1_0/1_0393.png', 'gdrive/My Drive/cohface/frames/1_0/1_0358.png', 'gdrive/My Drive/cohface/frames/1_0/1_0394.png', 'gdrive/My Drive/cohface/frames/1_0/1_0388.png', 'gdrive/My Drive/cohface/frames/1_0/1_0380.png', 'gdrive/My Drive/cohface/frames/1_0/1_0401.png', 'gdrive/My Drive/cohface/frames/1_0/1_0395.png', 'gdrive/My Drive/cohface/frames/1_0/1_0359.png', 'gdrive/My Drive/cohface/frames/1_0/1_0406.png', 'gdrive/My Drive/cohface/frames/1_0/1_0407.png', 'gdrive/My Drive/cohface/frames/1_0/1_0402.png', 'gdrive/My Drive/cohface/frames/1_0/1_0396.png', 'gdrive/My Drive/cohface/frames/1_0/1_0360.png', 'gdrive/My Drive/cohface/frames/1_0/1_0408.png', 'gdrive/My Drive/cohface/frames/1_0/1_0409.png', 'gdrive/My Drive/cohface/frames/1_0/1_0403.png', 'gdrive/My Drive/cohface/frames/1_0/1_0397.png', 'gdrive/My Drive/cohface/frames/1_0/1_0414.png', 'gdrive/My Drive/cohface/frames/1_0/1_0418.png', 'gdrive/My Drive/cohface/frames/1_0/1_0410.png', 'gdrive/My Drive/cohface/frames/1_0/1_0404.png', 'gdrive/My Drive/cohface/frames/1_0/1_0398.png', 'gdrive/My Drive/cohface/frames/1_0/1_0419.png', 'gdrive/My Drive/cohface/frames/1_0/1_0415.png', 'gdrive/My Drive/cohface/frames/1_0/1_0423.png', 'gdrive/My Drive/cohface/frames/1_0/1_0411.png', 'gdrive/My Drive/cohface/frames/1_0/1_0405.png', 'gdrive/My Drive/cohface/frames/1_0/1_0420.png', 'gdrive/My Drive/cohface/frames/1_0/1_0399.png', 'gdrive/My Drive/cohface/frames/1_0/1_0416.png', 'gdrive/My Drive/cohface/frames/1_0/1_0424.png', 'gdrive/My Drive/cohface/frames/1_0/1_0412.png', 'gdrive/My Drive/cohface/frames/1_0/1_0417.png', 'gdrive/My Drive/cohface/frames/1_0/1_0425.png', 'gdrive/My Drive/cohface/frames/1_0/1_0421.png', 'gdrive/My Drive/cohface/frames/1_0/1_0400.png', 'gdrive/My Drive/cohface/frames/1_0/1_0434.png', 'gdrive/My Drive/cohface/frames/1_0/1_0413.png', 'gdrive/My Drive/cohface/frames/1_0/1_0426.png', 'gdrive/My Drive/cohface/frames/1_0/1_0422.png', 'gdrive/My Drive/cohface/frames/1_0/1_0436.png', 'gdrive/My Drive/cohface/frames/1_0/1_0435.png', 'gdrive/My Drive/cohface/frames/1_0/1_0439.png', 'gdrive/My Drive/cohface/frames/1_0/1_0441.png', 'gdrive/My Drive/cohface/frames/1_0/1_0427.png', 'gdrive/My Drive/cohface/frames/1_0/1_0442.png', 'gdrive/My Drive/cohface/frames/1_0/1_0437.png', 'gdrive/My Drive/cohface/frames/1_0/1_0443.png', 'gdrive/My Drive/cohface/frames/1_0/1_0440.png', 'gdrive/My Drive/cohface/frames/1_0/1_0445.png', 'gdrive/My Drive/cohface/frames/1_0/1_0428.png', 'gdrive/My Drive/cohface/frames/1_0/1_0438.png', 'gdrive/My Drive/cohface/frames/1_0/1_0447.png', 'gdrive/My Drive/cohface/frames/1_0/1_0444.png', 'gdrive/My Drive/cohface/frames/1_0/1_0446.png', 'gdrive/My Drive/cohface/frames/1_0/1_0429.png', 'gdrive/My Drive/cohface/frames/1_0/1_0449.png', 'gdrive/My Drive/cohface/frames/1_0/1_0448.png', 'gdrive/My Drive/cohface/frames/1_0/1_0453.png', 'gdrive/My Drive/cohface/frames/1_0/1_0430.png', 'gdrive/My Drive/cohface/frames/1_0/1_0450.png', 'gdrive/My Drive/cohface/frames/1_0/1_0456.png', 'gdrive/My Drive/cohface/frames/1_0/1_0454.png', 'gdrive/My Drive/cohface/frames/1_0/1_0459.png', 'gdrive/My Drive/cohface/frames/1_0/1_0451.png', 'gdrive/My Drive/cohface/frames/1_0/1_0431.png', 'gdrive/My Drive/cohface/frames/1_0/1_0457.png', 'gdrive/My Drive/cohface/frames/1_0/1_0460.png', 'gdrive/My Drive/cohface/frames/1_0/1_0432.png', 'gdrive/My Drive/cohface/frames/1_0/1_0455.png', 'gdrive/My Drive/cohface/frames/1_0/1_0452.png', 'gdrive/My Drive/cohface/frames/1_0/1_0458.png', 'gdrive/My Drive/cohface/frames/1_0/1_0461.png', 'gdrive/My Drive/cohface/frames/1_0/1_0433.png', 'gdrive/My Drive/cohface/frames/1_0/1_0462.png', 'gdrive/My Drive/cohface/frames/1_0/1_0473.png', 'gdrive/My Drive/cohface/frames/1_0/1_0476.png', 'gdrive/My Drive/cohface/frames/1_0/1_0463.png', 'gdrive/My Drive/cohface/frames/1_0/1_0477.png', 'gdrive/My Drive/cohface/frames/1_0/1_0480.png', 'gdrive/My Drive/cohface/frames/1_0/1_0474.png', 'gdrive/My Drive/cohface/frames/1_0/1_0464.png', 'gdrive/My Drive/cohface/frames/1_0/1_0478.png', 'gdrive/My Drive/cohface/frames/1_0/1_0481.png', 'gdrive/My Drive/cohface/frames/1_0/1_0465.png', 'gdrive/My Drive/cohface/frames/1_0/1_0475.png', 'gdrive/My Drive/cohface/frames/1_0/1_0479.png', 'gdrive/My Drive/cohface/frames/1_0/1_0466.png', 'gdrive/My Drive/cohface/frames/1_0/1_0484.png', 'gdrive/My Drive/cohface/frames/1_0/1_0499.png', 'gdrive/My Drive/cohface/frames/1_0/1_0482.png', 'gdrive/My Drive/cohface/frames/1_0/1_0502.png', 'gdrive/My Drive/cohface/frames/1_0/1_0503.png', 'gdrive/My Drive/cohface/frames/1_0/1_0467.png', 'gdrive/My Drive/cohface/frames/1_0/1_0485.png', 'gdrive/My Drive/cohface/frames/1_0/1_0500.png', 'gdrive/My Drive/cohface/frames/1_0/1_0483.png', 'gdrive/My Drive/cohface/frames/1_0/1_0505.png', 'gdrive/My Drive/cohface/frames/1_0/1_0468.png', 'gdrive/My Drive/cohface/frames/1_0/1_0486.png', 'gdrive/My Drive/cohface/frames/1_0/1_0504.png', 'gdrive/My Drive/cohface/frames/1_0/1_0501.png', 'gdrive/My Drive/cohface/frames/1_0/1_0506.png', 'gdrive/My Drive/cohface/frames/1_0/1_0508.png', 'gdrive/My Drive/cohface/frames/1_0/1_0469.png', 'gdrive/My Drive/cohface/frames/1_0/1_0487.png', 'gdrive/My Drive/cohface/frames/1_0/1_0512.png', 'gdrive/My Drive/cohface/frames/1_0/1_0507.png', 'gdrive/My Drive/cohface/frames/1_0/1_0509.png', 'gdrive/My Drive/cohface/frames/1_0/1_0470.png', 'gdrive/My Drive/cohface/frames/1_0/1_0488.png', 'gdrive/My Drive/cohface/frames/1_0/1_0513.png', 'gdrive/My Drive/cohface/frames/1_0/1_0510.png', 'gdrive/My Drive/cohface/frames/1_0/1_0517.png', 'gdrive/My Drive/cohface/frames/1_0/1_0524.png', 'gdrive/My Drive/cohface/frames/1_0/1_0471.png', 'gdrive/My Drive/cohface/frames/1_0/1_0489.png', 'gdrive/My Drive/cohface/frames/1_0/1_0511.png', 'gdrive/My Drive/cohface/frames/1_0/1_0514.png', 'gdrive/My Drive/cohface/frames/1_0/1_0518.png', 'gdrive/My Drive/cohface/frames/1_0/1_0472.png', 'gdrive/My Drive/cohface/frames/1_0/1_0490.png', 'gdrive/My Drive/cohface/frames/1_0/1_0525.png', 'gdrive/My Drive/cohface/frames/1_0/1_0532.png', 'gdrive/My Drive/cohface/frames/1_0/1_0515.png', 'gdrive/My Drive/cohface/frames/1_0/1_0519.png', 'gdrive/My Drive/cohface/frames/1_0/1_0534.png', 'gdrive/My Drive/cohface/frames/1_0/1_0491.png', 'gdrive/My Drive/cohface/frames/1_0/1_0526.png', 'gdrive/My Drive/cohface/frames/1_0/1_0533.png', 'gdrive/My Drive/cohface/frames/1_0/1_0520.png', 'gdrive/My Drive/cohface/frames/1_0/1_0492.png', 'gdrive/My Drive/cohface/frames/1_0/1_0535.png', 'gdrive/My Drive/cohface/frames/1_0/1_0527.png', 'gdrive/My Drive/cohface/frames/1_0/1_0516.png', 'gdrive/My Drive/cohface/frames/1_0/1_0538.png', 'gdrive/My Drive/cohface/frames/1_0/1_0521.png', 'gdrive/My Drive/cohface/frames/1_0/1_0545.png', 'gdrive/My Drive/cohface/frames/1_0/1_0528.png', 'gdrive/My Drive/cohface/frames/1_0/1_0493.png', 'gdrive/My Drive/cohface/frames/1_0/1_0536.png', 'gdrive/My Drive/cohface/frames/1_0/1_0546.png', 'gdrive/My Drive/cohface/frames/1_0/1_0539.png', 'gdrive/My Drive/cohface/frames/1_0/1_0522.png', 'gdrive/My Drive/cohface/frames/1_0/1_0549.png', 'gdrive/My Drive/cohface/frames/1_0/1_0529.png', 'gdrive/My Drive/cohface/frames/1_0/1_0537.png', 'gdrive/My Drive/cohface/frames/1_0/1_0494.png', 'gdrive/My Drive/cohface/frames/1_0/1_0547.png', 'gdrive/My Drive/cohface/frames/1_0/1_0540.png', 'gdrive/My Drive/cohface/frames/1_0/1_0523.png', 'gdrive/My Drive/cohface/frames/1_0/1_0550.png', 'gdrive/My Drive/cohface/frames/1_0/1_0530.png', 'gdrive/My Drive/cohface/frames/1_0/1_0548.png', 'gdrive/My Drive/cohface/frames/1_0/1_0495.png', 'gdrive/My Drive/cohface/frames/1_0/1_0541.png', 'gdrive/My Drive/cohface/frames/1_0/1_0551.png', 'gdrive/My Drive/cohface/frames/1_0/1_0559.png', 'gdrive/My Drive/cohface/frames/1_0/1_0531.png', 'gdrive/My Drive/cohface/frames/1_0/1_0560.png', 'gdrive/My Drive/cohface/frames/1_0/1_0496.png', 'gdrive/My Drive/cohface/frames/1_0/1_0552.png', 'gdrive/My Drive/cohface/frames/1_0/1_0542.png', 'gdrive/My Drive/cohface/frames/1_0/1_0563.png', 'gdrive/My Drive/cohface/frames/1_0/1_0564.png', 'gdrive/My Drive/cohface/frames/1_0/1_0565.png', 'gdrive/My Drive/cohface/frames/1_0/1_0497.png', 'gdrive/My Drive/cohface/frames/1_0/1_0553.png', 'gdrive/My Drive/cohface/frames/1_0/1_0543.png', 'gdrive/My Drive/cohface/frames/1_0/1_0566.png', 'gdrive/My Drive/cohface/frames/1_0/1_0561.png', 'gdrive/My Drive/cohface/frames/1_0/1_0571.png', 'gdrive/My Drive/cohface/frames/1_0/1_0498.png', 'gdrive/My Drive/cohface/frames/1_0/1_0554.png', 'gdrive/My Drive/cohface/frames/1_0/1_0567.png', 'gdrive/My Drive/cohface/frames/1_0/1_0562.png', 'gdrive/My Drive/cohface/frames/1_0/1_0544.png', 'gdrive/My Drive/cohface/frames/1_0/1_0555.png', 'gdrive/My Drive/cohface/frames/1_0/1_0572.png', 'gdrive/My Drive/cohface/frames/1_0/1_0568.png', 'gdrive/My Drive/cohface/frames/1_0/1_0578.png', 'gdrive/My Drive/cohface/frames/1_0/1_0556.png', 'gdrive/My Drive/cohface/frames/1_0/1_0573.png', 'gdrive/My Drive/cohface/frames/1_0/1_0580.png', 'gdrive/My Drive/cohface/frames/1_0/1_0579.png', 'gdrive/My Drive/cohface/frames/1_0/1_0569.png', 'gdrive/My Drive/cohface/frames/1_0/1_0557.png', 'gdrive/My Drive/cohface/frames/1_0/1_0574.png', 'gdrive/My Drive/cohface/frames/1_0/1_0581.png', 'gdrive/My Drive/cohface/frames/1_0/1_0584.png', 'gdrive/My Drive/cohface/frames/1_0/1_0570.png', 'gdrive/My Drive/cohface/frames/1_0/1_0558.png', 'gdrive/My Drive/cohface/frames/1_0/1_0575.png', 'gdrive/My Drive/cohface/frames/1_0/1_0585.png', 'gdrive/My Drive/cohface/frames/1_0/1_0582.png', 'gdrive/My Drive/cohface/frames/1_0/1_0591.png', 'gdrive/My Drive/cohface/frames/1_0/1_0598.png', 'gdrive/My Drive/cohface/frames/1_0/1_0576.png', 'gdrive/My Drive/cohface/frames/1_0/1_0586.png', 'gdrive/My Drive/cohface/frames/1_0/1_0583.png', 'gdrive/My Drive/cohface/frames/1_0/1_0592.png', 'gdrive/My Drive/cohface/frames/1_0/1_0599.png', 'gdrive/My Drive/cohface/frames/1_0/1_0577.png', 'gdrive/My Drive/cohface/frames/1_0/1_0605.png', 'gdrive/My Drive/cohface/frames/1_0/1_0587.png', 'gdrive/My Drive/cohface/frames/1_0/1_0606.png', 'gdrive/My Drive/cohface/frames/1_0/1_0593.png', 'gdrive/My Drive/cohface/frames/1_0/1_0600.png', 'gdrive/My Drive/cohface/frames/1_0/1_0607.png', 'gdrive/My Drive/cohface/frames/1_0/1_0588.png', 'gdrive/My Drive/cohface/frames/1_0/1_0594.png', 'gdrive/My Drive/cohface/frames/1_0/1_0611.png', 'gdrive/My Drive/cohface/frames/1_0/1_0601.png', 'gdrive/My Drive/cohface/frames/1_0/1_0608.png', 'gdrive/My Drive/cohface/frames/1_0/1_0589.png', 'gdrive/My Drive/cohface/frames/1_0/1_0595.png', 'gdrive/My Drive/cohface/frames/1_0/1_0612.png', 'gdrive/My Drive/cohface/frames/1_0/1_0602.png', 'gdrive/My Drive/cohface/frames/1_0/1_0609.png', 'gdrive/My Drive/cohface/frames/1_0/1_0590.png', 'gdrive/My Drive/cohface/frames/1_0/1_0596.png', 'gdrive/My Drive/cohface/frames/1_0/1_0613.png', 'gdrive/My Drive/cohface/frames/1_0/1_0603.png', 'gdrive/My Drive/cohface/frames/1_0/1_0614.png', 'gdrive/My Drive/cohface/frames/1_0/1_0610.png', 'gdrive/My Drive/cohface/frames/1_0/1_0628.png', 'gdrive/My Drive/cohface/frames/1_0/1_0597.png', 'gdrive/My Drive/cohface/frames/1_0/1_0604.png', 'gdrive/My Drive/cohface/frames/1_0/1_0615.png', 'gdrive/My Drive/cohface/frames/1_0/1_0630.png', 'gdrive/My Drive/cohface/frames/1_0/1_0629.png', 'gdrive/My Drive/cohface/frames/1_0/1_0634.png', 'gdrive/My Drive/cohface/frames/1_0/1_0616.png', 'gdrive/My Drive/cohface/frames/1_0/1_0636.png', 'gdrive/My Drive/cohface/frames/1_0/1_0631.png', 'gdrive/My Drive/cohface/frames/1_0/1_0635.png', 'gdrive/My Drive/cohface/frames/1_0/1_0617.png', 'gdrive/My Drive/cohface/frames/1_0/1_0637.png', 'gdrive/My Drive/cohface/frames/1_0/1_0638.png', 'gdrive/My Drive/cohface/frames/1_0/1_0632.png', 'gdrive/My Drive/cohface/frames/1_0/1_0645.png', 'gdrive/My Drive/cohface/frames/1_0/1_0618.png', 'gdrive/My Drive/cohface/frames/1_0/1_0647.png', 'gdrive/My Drive/cohface/frames/1_0/1_0649.png', 'gdrive/My Drive/cohface/frames/1_0/1_0639.png', 'gdrive/My Drive/cohface/frames/1_0/1_0633.png', 'gdrive/My Drive/cohface/frames/1_0/1_0646.png', 'gdrive/My Drive/cohface/frames/1_0/1_0619.png', 'gdrive/My Drive/cohface/frames/1_0/1_0648.png', 'gdrive/My Drive/cohface/frames/1_0/1_0650.png', 'gdrive/My Drive/cohface/frames/1_0/1_0640.png', 'gdrive/My Drive/cohface/frames/1_0/1_0656.png', 'gdrive/My Drive/cohface/frames/1_0/1_0657.png', 'gdrive/My Drive/cohface/frames/1_0/1_0620.png', 'gdrive/My Drive/cohface/frames/1_0/1_0658.png', 'gdrive/My Drive/cohface/frames/1_0/1_0641.png', 'gdrive/My Drive/cohface/frames/1_0/1_0651.png', 'gdrive/My Drive/cohface/frames/1_0/1_0660.png', 'gdrive/My Drive/cohface/frames/1_0/1_0621.png', 'gdrive/My Drive/cohface/frames/1_0/1_0662.png', 'gdrive/My Drive/cohface/frames/1_0/1_0642.png', 'gdrive/My Drive/cohface/frames/1_0/1_0652.png', 'gdrive/My Drive/cohface/frames/1_0/1_0661.png', 'gdrive/My Drive/cohface/frames/1_0/1_0659.png', 'gdrive/My Drive/cohface/frames/1_0/1_0622.png', 'gdrive/My Drive/cohface/frames/1_0/1_0643.png', 'gdrive/My Drive/cohface/frames/1_0/1_0667.png', 'gdrive/My Drive/cohface/frames/1_0/1_0663.png', 'gdrive/My Drive/cohface/frames/1_0/1_0653.png', 'gdrive/My Drive/cohface/frames/1_0/1_0668.png', 'gdrive/My Drive/cohface/frames/1_0/1_0623.png', 'gdrive/My Drive/cohface/frames/1_0/1_0671.png', 'gdrive/My Drive/cohface/frames/1_0/1_0664.png', 'gdrive/My Drive/cohface/frames/1_0/1_0644.png', 'gdrive/My Drive/cohface/frames/1_0/1_0654.png', 'gdrive/My Drive/cohface/frames/1_0/1_0672.png', 'gdrive/My Drive/cohface/frames/1_0/1_0669.png', 'gdrive/My Drive/cohface/frames/1_0/1_0624.png', 'gdrive/My Drive/cohface/frames/1_0/1_0674.png', 'gdrive/My Drive/cohface/frames/1_0/1_0655.png', 'gdrive/My Drive/cohface/frames/1_0/1_0665.png', 'gdrive/My Drive/cohface/frames/1_0/1_0673.png', 'gdrive/My Drive/cohface/frames/1_0/1_0670.png', 'gdrive/My Drive/cohface/frames/1_0/1_0625.png', 'gdrive/My Drive/cohface/frames/1_0/1_0677.png', 'gdrive/My Drive/cohface/frames/1_0/1_0675.png', 'gdrive/My Drive/cohface/frames/1_0/1_0666.png', 'gdrive/My Drive/cohface/frames/1_0/1_0683.png', 'gdrive/My Drive/cohface/frames/1_0/1_0626.png', 'gdrive/My Drive/cohface/frames/1_0/1_0676.png', 'gdrive/My Drive/cohface/frames/1_0/1_0678.png', 'gdrive/My Drive/cohface/frames/1_0/1_0687.png', 'gdrive/My Drive/cohface/frames/1_0/1_0690.png', 'gdrive/My Drive/cohface/frames/1_0/1_0684.png', 'gdrive/My Drive/cohface/frames/1_0/1_0627.png', 'gdrive/My Drive/cohface/frames/1_0/1_0679.png', 'gdrive/My Drive/cohface/frames/1_0/1_0691.png', 'gdrive/My Drive/cohface/frames/1_0/1_0688.png', 'gdrive/My Drive/cohface/frames/1_0/1_0685.png', 'gdrive/My Drive/cohface/frames/1_0/1_0694.png', 'gdrive/My Drive/cohface/frames/1_0/1_0680.png', 'gdrive/My Drive/cohface/frames/1_0/1_0692.png', 'gdrive/My Drive/cohface/frames/1_0/1_0686.png', 'gdrive/My Drive/cohface/frames/1_0/1_0689.png', 'gdrive/My Drive/cohface/frames/1_0/1_0695.png', 'gdrive/My Drive/cohface/frames/1_0/1_0681.png', 'gdrive/My Drive/cohface/frames/1_0/1_0697.png', 'gdrive/My Drive/cohface/frames/1_0/1_0693.png', 'gdrive/My Drive/cohface/frames/1_0/1_0696.png', 'gdrive/My Drive/cohface/frames/1_0/1_0682.png', 'gdrive/My Drive/cohface/frames/1_0/1_0706.png', 'gdrive/My Drive/cohface/frames/1_0/1_0698.png', 'gdrive/My Drive/cohface/frames/1_0/1_0710.png', 'gdrive/My Drive/cohface/frames/1_0/1_0711.png', 'gdrive/My Drive/cohface/frames/1_0/1_0707.png', 'gdrive/My Drive/cohface/frames/1_0/1_0699.png', 'gdrive/My Drive/cohface/frames/1_0/1_0712.png', 'gdrive/My Drive/cohface/frames/1_0/1_0714.png', 'gdrive/My Drive/cohface/frames/1_0/1_0708.png', 'gdrive/My Drive/cohface/frames/1_0/1_0700.png', 'gdrive/My Drive/cohface/frames/1_0/1_0713.png', 'gdrive/My Drive/cohface/frames/1_0/1_0715.png', 'gdrive/My Drive/cohface/frames/1_0/1_0709.png', 'gdrive/My Drive/cohface/frames/1_0/1_0701.png', 'gdrive/My Drive/cohface/frames/1_0/1_0716.png', 'gdrive/My Drive/cohface/frames/1_0/1_0725.png', 'gdrive/My Drive/cohface/frames/1_0/1_0702.png', 'gdrive/My Drive/cohface/frames/1_0/1_0717.png', 'gdrive/My Drive/cohface/frames/1_0/1_0728.png', 'gdrive/My Drive/cohface/frames/1_0/1_0703.png', 'gdrive/My Drive/cohface/frames/1_0/1_0726.png', 'gdrive/My Drive/cohface/frames/1_0/1_0718.png', 'gdrive/My Drive/cohface/frames/1_0/1_0729.png', 'gdrive/My Drive/cohface/frames/1_0/1_0704.png', 'gdrive/My Drive/cohface/frames/1_0/1_0719.png', 'gdrive/My Drive/cohface/frames/1_0/1_0727.png', 'gdrive/My Drive/cohface/frames/1_0/1_0730.png', 'gdrive/My Drive/cohface/frames/1_0/1_0705.png', 'gdrive/My Drive/cohface/frames/1_0/1_0720.png', 'gdrive/My Drive/cohface/frames/1_0/1_0731.png', 'gdrive/My Drive/cohface/frames/1_0/1_0745.png', 'gdrive/My Drive/cohface/frames/1_0/1_0747.png', 'gdrive/My Drive/cohface/frames/1_0/1_0721.png', 'gdrive/My Drive/cohface/frames/1_0/1_0732.png', 'gdrive/My Drive/cohface/frames/1_0/1_0749.png', 'gdrive/My Drive/cohface/frames/1_0/1_0746.png', 'gdrive/My Drive/cohface/frames/1_0/1_0722.png', 'gdrive/My Drive/cohface/frames/1_0/1_0733.png', 'gdrive/My Drive/cohface/frames/1_0/1_0748.png', 'gdrive/My Drive/cohface/frames/1_0/1_0750.png', 'gdrive/My Drive/cohface/frames/1_0/1_0723.png', 'gdrive/My Drive/cohface/frames/1_0/1_0734.png', 'gdrive/My Drive/cohface/frames/1_0/1_0755.png', 'gdrive/My Drive/cohface/frames/1_0/1_0751.png', 'gdrive/My Drive/cohface/frames/1_0/1_0735.png', 'gdrive/My Drive/cohface/frames/1_0/1_0756.png', 'gdrive/My Drive/cohface/frames/1_0/1_0724.png', 'gdrive/My Drive/cohface/frames/1_0/1_0752.png', 'gdrive/My Drive/cohface/frames/1_0/1_0736.png', 'gdrive/My Drive/cohface/frames/1_0/1_0758.png', 'gdrive/My Drive/cohface/frames/1_0/1_0757.png', 'gdrive/My Drive/cohface/frames/1_0/1_0753.png', 'gdrive/My Drive/cohface/frames/1_0/1_0767.png', 'gdrive/My Drive/cohface/frames/1_0/1_0737.png', 'gdrive/My Drive/cohface/frames/1_0/1_0759.png', 'gdrive/My Drive/cohface/frames/1_0/1_0754.png', 'gdrive/My Drive/cohface/frames/1_0/1_0770.png', 'gdrive/My Drive/cohface/frames/1_0/1_0768.png', 'gdrive/My Drive/cohface/frames/1_0/1_0738.png', 'gdrive/My Drive/cohface/frames/1_0/1_0760.png', 'gdrive/My Drive/cohface/frames/1_0/1_0775.png', 'gdrive/My Drive/cohface/frames/1_0/1_0771.png', 'gdrive/My Drive/cohface/frames/1_0/1_0769.png', 'gdrive/My Drive/cohface/frames/1_0/1_0776.png', 'gdrive/My Drive/cohface/frames/1_0/1_0772.png', 'gdrive/My Drive/cohface/frames/1_0/1_0761.png', 'gdrive/My Drive/cohface/frames/1_0/1_0739.png', 'gdrive/My Drive/cohface/frames/1_0/1_0777.png', 'gdrive/My Drive/cohface/frames/1_0/1_0788.png', 'gdrive/My Drive/cohface/frames/1_0/1_0740.png', 'gdrive/My Drive/cohface/frames/1_0/1_0762.png', 'gdrive/My Drive/cohface/frames/1_0/1_0778.png', 'gdrive/My Drive/cohface/frames/1_0/1_0773.png', 'gdrive/My Drive/cohface/frames/1_0/1_0741.png', 'gdrive/My Drive/cohface/frames/1_0/1_0789.png', 'gdrive/My Drive/cohface/frames/1_0/1_0763.png', 'gdrive/My Drive/cohface/frames/1_0/1_0742.png', 'gdrive/My Drive/cohface/frames/1_0/1_0779.png', 'gdrive/My Drive/cohface/frames/1_0/1_0774.png', 'gdrive/My Drive/cohface/frames/1_0/1_0764.png', 'gdrive/My Drive/cohface/frames/1_0/1_0790.png', 'gdrive/My Drive/cohface/frames/1_0/1_0743.png', 'gdrive/My Drive/cohface/frames/1_0/1_0765.png', 'gdrive/My Drive/cohface/frames/1_0/1_0780.png', 'gdrive/My Drive/cohface/frames/1_0/1_0806.png', 'gdrive/My Drive/cohface/frames/1_0/1_0791.png', 'gdrive/My Drive/cohface/frames/1_0/1_0811.png', 'gdrive/My Drive/cohface/frames/1_0/1_0744.png', 'gdrive/My Drive/cohface/frames/1_0/1_0766.png', 'gdrive/My Drive/cohface/frames/1_0/1_0807.png', 'gdrive/My Drive/cohface/frames/1_0/1_0781.png', 'gdrive/My Drive/cohface/frames/1_0/1_0792.png', 'gdrive/My Drive/cohface/frames/1_0/1_0812.png', 'gdrive/My Drive/cohface/frames/1_0/1_0813.png', 'gdrive/My Drive/cohface/frames/1_0/1_0808.png', 'gdrive/My Drive/cohface/frames/1_0/1_0821.png', 'gdrive/My Drive/cohface/frames/1_0/1_0782.png', 'gdrive/My Drive/cohface/frames/1_0/1_0823.png', 'gdrive/My Drive/cohface/frames/1_0/1_0793.png', 'gdrive/My Drive/cohface/frames/1_0/1_0814.png', 'gdrive/My Drive/cohface/frames/1_0/1_0809.png', 'gdrive/My Drive/cohface/frames/1_0/1_0822.png', 'gdrive/My Drive/cohface/frames/1_0/1_0783.png', 'gdrive/My Drive/cohface/frames/1_0/1_0824.png', 'gdrive/My Drive/cohface/frames/1_0/1_0794.png', 'gdrive/My Drive/cohface/frames/1_0/1_0815.png', 'gdrive/My Drive/cohface/frames/1_0/1_0825.png', 'gdrive/My Drive/cohface/frames/1_0/1_0810.png', 'gdrive/My Drive/cohface/frames/1_0/1_0834.png', 'gdrive/My Drive/cohface/frames/1_0/1_0784.png', 'gdrive/My Drive/cohface/frames/1_0/1_0816.png', 'gdrive/My Drive/cohface/frames/1_0/1_0795.png', 'gdrive/My Drive/cohface/frames/1_0/1_0837.png', 'gdrive/My Drive/cohface/frames/1_0/1_0826.png', 'gdrive/My Drive/cohface/frames/1_0/1_0839.png', 'gdrive/My Drive/cohface/frames/1_0/1_0835.png', 'gdrive/My Drive/cohface/frames/1_0/1_0785.png', 'gdrive/My Drive/cohface/frames/1_0/1_0817.png', 'gdrive/My Drive/cohface/frames/1_0/1_0838.png', 'gdrive/My Drive/cohface/frames/1_0/1_0796.png', 'gdrive/My Drive/cohface/frames/1_0/1_0827.png', 'gdrive/My Drive/cohface/frames/1_0/1_0840.png', 'gdrive/My Drive/cohface/frames/1_0/1_0836.png', 'gdrive/My Drive/cohface/frames/1_0/1_0786.png', 'gdrive/My Drive/cohface/frames/1_0/1_0818.png', 'gdrive/My Drive/cohface/frames/1_0/1_0841.png', 'gdrive/My Drive/cohface/frames/1_0/1_0797.png', 'gdrive/My Drive/cohface/frames/1_0/1_0828.png', 'gdrive/My Drive/cohface/frames/1_0/1_0851.png', 'gdrive/My Drive/cohface/frames/1_0/1_0853.png', 'gdrive/My Drive/cohface/frames/1_0/1_0787.png', 'gdrive/My Drive/cohface/frames/1_0/1_0842.png', 'gdrive/My Drive/cohface/frames/1_0/1_0819.png', 'gdrive/My Drive/cohface/frames/1_0/1_0854.png', 'gdrive/My Drive/cohface/frames/1_0/1_0798.png', 'gdrive/My Drive/cohface/frames/1_0/1_0829.png', 'gdrive/My Drive/cohface/frames/1_0/1_0852.png', 'gdrive/My Drive/cohface/frames/1_0/1_0857.png', 'gdrive/My Drive/cohface/frames/1_0/1_0820.png', 'gdrive/My Drive/cohface/frames/1_0/1_0859.png', 'gdrive/My Drive/cohface/frames/1_0/1_0843.png', 'gdrive/My Drive/cohface/frames/1_0/1_0855.png', 'gdrive/My Drive/cohface/frames/1_0/1_0830.png', 'gdrive/My Drive/cohface/frames/1_0/1_0858.png', 'gdrive/My Drive/cohface/frames/1_0/1_0862.png', 'gdrive/My Drive/cohface/frames/1_0/1_0799.png', 'gdrive/My Drive/cohface/frames/1_0/1_0860.png', 'gdrive/My Drive/cohface/frames/1_0/1_0865.png', 'gdrive/My Drive/cohface/frames/1_0/1_0856.png', 'gdrive/My Drive/cohface/frames/1_0/1_0863.png', 'gdrive/My Drive/cohface/frames/1_0/1_0844.png', 'gdrive/My Drive/cohface/frames/1_0/1_0869.png', 'gdrive/My Drive/cohface/frames/1_0/1_0831.png', 'gdrive/My Drive/cohface/frames/1_0/1_0800.png', 'gdrive/My Drive/cohface/frames/1_0/1_0861.png', 'gdrive/My Drive/cohface/frames/1_0/1_0866.png', 'gdrive/My Drive/cohface/frames/1_0/1_0864.png', 'gdrive/My Drive/cohface/frames/1_0/1_0870.png', 'gdrive/My Drive/cohface/frames/1_0/1_0832.png', 'gdrive/My Drive/cohface/frames/1_0/1_0872.png', 'gdrive/My Drive/cohface/frames/1_0/1_0845.png', 'gdrive/My Drive/cohface/frames/1_0/1_0801.png', 'gdrive/My Drive/cohface/frames/1_0/1_0878.png', 'gdrive/My Drive/cohface/frames/1_0/1_0879.png', 'gdrive/My Drive/cohface/frames/1_0/1_0867.png', 'gdrive/My Drive/cohface/frames/1_0/1_0880.png', 'gdrive/My Drive/cohface/frames/1_0/1_0871.png', 'gdrive/My Drive/cohface/frames/1_0/1_0802.png', 'gdrive/My Drive/cohface/frames/1_0/1_0873.png', 'gdrive/My Drive/cohface/frames/1_0/1_0833.png', 'gdrive/My Drive/cohface/frames/1_0/1_0846.png', 'gdrive/My Drive/cohface/frames/1_0/1_0882.png', 'gdrive/My Drive/cohface/frames/1_0/1_0881.png', 'gdrive/My Drive/cohface/frames/1_0/1_0868.png', 'gdrive/My Drive/cohface/frames/1_0/1_0885.png', 'gdrive/My Drive/cohface/frames/1_0/1_0803.png', 'gdrive/My Drive/cohface/frames/1_0/1_0874.png', 'gdrive/My Drive/cohface/frames/1_0/1_0883.png', 'gdrive/My Drive/cohface/frames/1_0/1_0875.png', 'gdrive/My Drive/cohface/frames/1_0/1_0886.png', 'gdrive/My Drive/cohface/frames/1_0/1_0804.png', 'gdrive/My Drive/cohface/frames/1_0/1_0847.png', 'gdrive/My Drive/cohface/frames/1_0/1_0884.png', 'gdrive/My Drive/cohface/frames/1_0/1_0888.png', 'gdrive/My Drive/cohface/frames/1_0/1_0897.png', 'gdrive/My Drive/cohface/frames/1_0/1_0876.png', 'gdrive/My Drive/cohface/frames/1_0/1_0887.png', 'gdrive/My Drive/cohface/frames/1_0/1_0805.png', 'gdrive/My Drive/cohface/frames/1_0/1_0889.png', 'gdrive/My Drive/cohface/frames/1_0/1_0848.png', 'gdrive/My Drive/cohface/frames/1_0/1_0898.png', 'gdrive/My Drive/cohface/frames/1_0/1_0877.png', 'gdrive/My Drive/cohface/frames/1_0/1_0903.png', 'gdrive/My Drive/cohface/frames/1_0/1_0904.png', 'gdrive/My Drive/cohface/frames/1_0/1_0906.png', 'gdrive/My Drive/cohface/frames/1_0/1_0890.png', 'gdrive/My Drive/cohface/frames/1_0/1_0849.png', 'gdrive/My Drive/cohface/frames/1_0/1_0899.png', 'gdrive/My Drive/cohface/frames/1_0/1_0907.png', 'gdrive/My Drive/cohface/frames/1_0/1_0905.png', 'gdrive/My Drive/cohface/frames/1_0/1_0910.png', 'gdrive/My Drive/cohface/frames/1_0/1_0891.png', 'gdrive/My Drive/cohface/frames/1_0/1_0850.png', 'gdrive/My Drive/cohface/frames/1_0/1_0900.png', 'gdrive/My Drive/cohface/frames/1_0/1_0908.png', 'gdrive/My Drive/cohface/frames/1_0/1_0914.png', 'gdrive/My Drive/cohface/frames/1_0/1_0911.png', 'gdrive/My Drive/cohface/frames/1_0/1_0892.png', 'gdrive/My Drive/cohface/frames/1_0/1_0918.png', 'gdrive/My Drive/cohface/frames/1_0/1_0901.png', 'gdrive/My Drive/cohface/frames/1_0/1_0909.png', 'gdrive/My Drive/cohface/frames/1_0/1_0915.png', 'gdrive/My Drive/cohface/frames/1_0/1_0893.png', 'gdrive/My Drive/cohface/frames/1_0/1_0912.png', 'gdrive/My Drive/cohface/frames/1_0/1_0919.png', 'gdrive/My Drive/cohface/frames/1_0/1_0902.png', 'gdrive/My Drive/cohface/frames/1_0/1_0920.png', 'gdrive/My Drive/cohface/frames/1_0/1_0916.png', 'gdrive/My Drive/cohface/frames/1_0/1_0894.png', 'gdrive/My Drive/cohface/frames/1_0/1_0927.png', 'gdrive/My Drive/cohface/frames/1_0/1_0913.png', 'gdrive/My Drive/cohface/frames/1_0/1_0932.png', 'gdrive/My Drive/cohface/frames/1_0/1_0921.png', 'gdrive/My Drive/cohface/frames/1_0/1_0931.png', 'gdrive/My Drive/cohface/frames/1_0/1_0917.png', 'gdrive/My Drive/cohface/frames/1_0/1_0895.png', 'gdrive/My Drive/cohface/frames/1_0/1_0933.png', 'gdrive/My Drive/cohface/frames/1_0/1_0928.png', 'gdrive/My Drive/cohface/frames/1_0/1_0922.png', 'gdrive/My Drive/cohface/frames/1_0/1_0938.png', 'gdrive/My Drive/cohface/frames/1_0/1_0940.png', 'gdrive/My Drive/cohface/frames/1_0/1_0896.png', 'gdrive/My Drive/cohface/frames/1_0/1_0934.png', 'gdrive/My Drive/cohface/frames/1_0/1_0941.png', 'gdrive/My Drive/cohface/frames/1_0/1_0929.png', 'gdrive/My Drive/cohface/frames/1_0/1_0923.png', 'gdrive/My Drive/cohface/frames/1_0/1_0939.png', 'gdrive/My Drive/cohface/frames/1_0/1_0944.png', 'gdrive/My Drive/cohface/frames/1_0/1_0942.png', 'gdrive/My Drive/cohface/frames/1_0/1_0935.png', 'gdrive/My Drive/cohface/frames/1_0/1_0930.png', 'gdrive/My Drive/cohface/frames/1_0/1_0924.png', 'gdrive/My Drive/cohface/frames/1_0/1_0947.png', 'gdrive/My Drive/cohface/frames/1_0/1_0945.png', 'gdrive/My Drive/cohface/frames/1_0/1_0936.png', 'gdrive/My Drive/cohface/frames/1_0/1_0943.png', 'gdrive/My Drive/cohface/frames/1_0/1_0950.png', 'gdrive/My Drive/cohface/frames/1_0/1_0925.png', 'gdrive/My Drive/cohface/frames/1_0/1_0946.png', 'gdrive/My Drive/cohface/frames/1_0/1_0948.png', 'gdrive/My Drive/cohface/frames/1_0/1_0937.png', 'gdrive/My Drive/cohface/frames/1_0/1_0955.png', 'gdrive/My Drive/cohface/frames/1_0/1_0951.png', 'gdrive/My Drive/cohface/frames/1_0/1_0926.png', 'gdrive/My Drive/cohface/frames/1_0/1_0960.png', 'gdrive/My Drive/cohface/frames/1_0/1_0949.png', 'gdrive/My Drive/cohface/frames/1_0/1_0962.png', 'gdrive/My Drive/cohface/frames/1_0/1_0956.png', 'gdrive/My Drive/cohface/frames/1_0/1_0952.png', 'gdrive/My Drive/cohface/frames/1_0/1_0964.png', 'gdrive/My Drive/cohface/frames/1_0/1_0961.png', 'gdrive/My Drive/cohface/frames/1_0/1_0963.png', 'gdrive/My Drive/cohface/frames/1_0/1_0967.png', 'gdrive/My Drive/cohface/frames/1_0/1_0969.png', 'gdrive/My Drive/cohface/frames/1_0/1_0957.png', 'gdrive/My Drive/cohface/frames/1_0/1_0965.png', 'gdrive/My Drive/cohface/frames/1_0/1_0953.png', 'gdrive/My Drive/cohface/frames/1_0/1_0970.png', 'gdrive/My Drive/cohface/frames/1_0/1_0968.png', 'gdrive/My Drive/cohface/frames/1_0/1_0958.png', 'gdrive/My Drive/cohface/frames/1_0/1_0976.png', 'gdrive/My Drive/cohface/frames/1_0/1_0966.png', 'gdrive/My Drive/cohface/frames/1_0/1_0954.png', 'gdrive/My Drive/cohface/frames/1_0/1_0971.png', 'gdrive/My Drive/cohface/frames/1_0/1_0959.png', 'gdrive/My Drive/cohface/frames/1_0/1_0978.png', 'gdrive/My Drive/cohface/frames/1_0/1_0977.png', 'gdrive/My Drive/cohface/frames/1_0/1_0983.png', 'gdrive/My Drive/cohface/frames/1_0/1_0985.png', 'gdrive/My Drive/cohface/frames/1_0/1_0972.png', 'gdrive/My Drive/cohface/frames/1_0/1_0979.png', 'gdrive/My Drive/cohface/frames/1_0/1_0986.png', 'gdrive/My Drive/cohface/frames/1_0/1_0989.png', 'gdrive/My Drive/cohface/frames/1_0/1_0984.png', 'gdrive/My Drive/cohface/frames/1_0/1_0973.png', 'gdrive/My Drive/cohface/frames/1_0/1_0980.png', 'gdrive/My Drive/cohface/frames/1_0/1_0987.png', 'gdrive/My Drive/cohface/frames/1_0/1_0990.png', 'gdrive/My Drive/cohface/frames/1_0/1_0974.png', 'gdrive/My Drive/cohface/frames/1_0/1_0981.png', 'gdrive/My Drive/cohface/frames/1_0/1_0991.png', 'gdrive/My Drive/cohface/frames/1_0/1_0988.png', 'gdrive/My Drive/cohface/frames/1_0/1_0998.png', 'gdrive/My Drive/cohface/frames/1_0/1_0975.png', 'gdrive/My Drive/cohface/frames/1_0/1_0992.png', 'gdrive/My Drive/cohface/frames/1_0/1_0982.png', 'gdrive/My Drive/cohface/frames/1_0/1_01001.png', 'gdrive/My Drive/cohface/frames/1_0/1_0999.png', 'gdrive/My Drive/cohface/frames/1_0/1_01005.png', 'gdrive/My Drive/cohface/frames/1_0/1_01002.png', 'gdrive/My Drive/cohface/frames/1_0/1_01009.png', 'gdrive/My Drive/cohface/frames/1_0/1_0993.png', 'gdrive/My Drive/cohface/frames/1_0/1_01000.png', 'gdrive/My Drive/cohface/frames/1_0/1_01010.png', 'gdrive/My Drive/cohface/frames/1_0/1_01006.png', 'gdrive/My Drive/cohface/frames/1_0/1_01003.png', 'gdrive/My Drive/cohface/frames/1_0/1_0994.png', 'gdrive/My Drive/cohface/frames/1_0/1_01014.png', 'gdrive/My Drive/cohface/frames/1_0/1_01017.png', 'gdrive/My Drive/cohface/frames/1_0/1_01011.png', 'gdrive/My Drive/cohface/frames/1_0/1_01007.png', 'gdrive/My Drive/cohface/frames/1_0/1_01004.png', 'gdrive/My Drive/cohface/frames/1_0/1_0995.png', 'gdrive/My Drive/cohface/frames/1_0/1_01015.png', 'gdrive/My Drive/cohface/frames/1_0/1_01012.png', 'gdrive/My Drive/cohface/frames/1_0/1_01008.png', 'gdrive/My Drive/cohface/frames/1_0/1_01018.png', 'gdrive/My Drive/cohface/frames/1_0/1_01025.png', 'gdrive/My Drive/cohface/frames/1_0/1_01016.png', 'gdrive/My Drive/cohface/frames/1_0/1_0996.png', 'gdrive/My Drive/cohface/frames/1_0/1_01013.png', 'gdrive/My Drive/cohface/frames/1_0/1_01019.png', 'gdrive/My Drive/cohface/frames/1_0/1_01028.png', 'gdrive/My Drive/cohface/frames/1_0/1_01026.png', 'gdrive/My Drive/cohface/frames/1_0/1_0997.png', 'gdrive/My Drive/cohface/frames/1_0/1_01031.png', 'gdrive/My Drive/cohface/frames/1_0/1_01034.png', 'gdrive/My Drive/cohface/frames/1_0/1_01020.png', 'gdrive/My Drive/cohface/frames/1_0/1_01035.png', 'gdrive/My Drive/cohface/frames/1_0/1_01029.png', 'gdrive/My Drive/cohface/frames/1_0/1_01027.png', 'gdrive/My Drive/cohface/frames/1_0/1_01032.png', 'gdrive/My Drive/cohface/frames/1_0/1_01037.png', 'gdrive/My Drive/cohface/frames/1_0/1_01021.png', 'gdrive/My Drive/cohface/frames/1_0/1_01036.png', 'gdrive/My Drive/cohface/frames/1_0/1_01030.png', 'gdrive/My Drive/cohface/frames/1_0/1_01033.png', 'gdrive/My Drive/cohface/frames/1_0/1_01041.png', 'gdrive/My Drive/cohface/frames/1_0/1_01038.png', 'gdrive/My Drive/cohface/frames/1_0/1_01022.png', 'gdrive/My Drive/cohface/frames/1_0/1_01042.png', 'gdrive/My Drive/cohface/frames/1_0/1_01047.png', 'gdrive/My Drive/cohface/frames/1_0/1_01048.png', 'gdrive/My Drive/cohface/frames/1_0/1_01049.png', 'gdrive/My Drive/cohface/frames/1_0/1_01039.png', 'gdrive/My Drive/cohface/frames/1_0/1_01023.png', 'gdrive/My Drive/cohface/frames/1_0/1_01043.png', 'gdrive/My Drive/cohface/frames/1_0/1_01050.png', 'gdrive/My Drive/cohface/frames/1_0/1_01040.png', 'gdrive/My Drive/cohface/frames/1_0/1_01054.png', 'gdrive/My Drive/cohface/frames/1_0/1_01024.png', 'gdrive/My Drive/cohface/frames/1_0/1_01044.png', 'gdrive/My Drive/cohface/frames/1_0/1_01051.png', 'gdrive/My Drive/cohface/frames/1_0/1_01055.png', 'gdrive/My Drive/cohface/frames/1_0/1_01059.png', 'gdrive/My Drive/cohface/frames/1_0/1_01060.png', 'gdrive/My Drive/cohface/frames/1_0/1_01061.png', 'gdrive/My Drive/cohface/frames/1_0/1_01045.png', 'gdrive/My Drive/cohface/frames/1_0/1_01056.png', 'gdrive/My Drive/cohface/frames/1_0/1_01052.png', 'gdrive/My Drive/cohface/frames/1_0/1_01063.png', 'gdrive/My Drive/cohface/frames/1_0/1_01046.png', 'gdrive/My Drive/cohface/frames/1_0/1_01062.png', 'gdrive/My Drive/cohface/frames/1_0/1_01057.png', 'gdrive/My Drive/cohface/frames/1_0/1_01053.png', 'gdrive/My Drive/cohface/frames/1_0/1_01064.png', 'gdrive/My Drive/cohface/frames/1_0/1_01066.png', 'gdrive/My Drive/cohface/frames/1_0/1_01058.png', 'gdrive/My Drive/cohface/frames/1_0/1_01074.png', 'gdrive/My Drive/cohface/frames/1_0/1_01065.png', 'gdrive/My Drive/cohface/frames/1_0/1_01075.png', 'gdrive/My Drive/cohface/frames/1_0/1_01067.png', 'gdrive/My Drive/cohface/frames/1_0/1_01079.png', 'gdrive/My Drive/cohface/frames/1_0/1_01068.png', 'gdrive/My Drive/cohface/frames/1_0/1_01076.png', 'gdrive/My Drive/cohface/frames/1_0/1_01080.png', 'gdrive/My Drive/cohface/frames/1_0/1_01069.png', 'gdrive/My Drive/cohface/frames/1_0/1_01077.png', 'gdrive/My Drive/cohface/frames/1_0/1_01081.png', 'gdrive/My Drive/cohface/frames/1_0/1_01070.png', 'gdrive/My Drive/cohface/frames/1_0/1_01078.png', 'gdrive/My Drive/cohface/frames/1_0/1_01082.png', 'gdrive/My Drive/cohface/frames/1_0/1_01071.png', 'gdrive/My Drive/cohface/frames/1_0/1_01097.png', 'gdrive/My Drive/cohface/frames/1_0/1_01083.png', 'gdrive/My Drive/cohface/frames/1_0/1_01100.png', 'gdrive/My Drive/cohface/frames/1_0/1_01098.png', 'gdrive/My Drive/cohface/frames/1_0/1_01084.png', 'gdrive/My Drive/cohface/frames/1_0/1_01072.png', 'gdrive/My Drive/cohface/frames/1_0/1_01099.png', 'gdrive/My Drive/cohface/frames/1_0/1_01085.png', 'gdrive/My Drive/cohface/frames/1_0/1_01101.png', 'gdrive/My Drive/cohface/frames/1_0/1_01073.png', 'gdrive/My Drive/cohface/frames/1_0/1_01086.png', 'gdrive/My Drive/cohface/frames/1_0/1_01113.png', 'gdrive/My Drive/cohface/frames/1_0/1_01102.png', 'gdrive/My Drive/cohface/frames/1_0/1_01116.png', 'gdrive/My Drive/cohface/frames/1_0/1_01087.png', 'gdrive/My Drive/cohface/frames/1_0/1_01114.png', 'gdrive/My Drive/cohface/frames/1_0/1_01120.png', 'gdrive/My Drive/cohface/frames/1_0/1_01103.png', 'gdrive/My Drive/cohface/frames/1_0/1_01117.png', 'gdrive/My Drive/cohface/frames/1_0/1_01088.png', 'gdrive/My Drive/cohface/frames/1_0/1_01115.png', 'gdrive/My Drive/cohface/frames/1_0/1_01121.png', 'gdrive/My Drive/cohface/frames/1_0/1_01104.png', 'gdrive/My Drive/cohface/frames/1_0/1_01089.png', 'gdrive/My Drive/cohface/frames/1_0/1_01118.png', 'gdrive/My Drive/cohface/frames/1_0/1_01123.png', 'gdrive/My Drive/cohface/frames/1_0/1_01136.png', 'gdrive/My Drive/cohface/frames/1_0/1_01105.png', 'gdrive/My Drive/cohface/frames/1_0/1_01090.png', 'gdrive/My Drive/cohface/frames/1_0/1_01119.png', 'gdrive/My Drive/cohface/frames/1_0/1_01122.png', 'gdrive/My Drive/cohface/frames/1_0/1_01124.png', 'gdrive/My Drive/cohface/frames/1_0/1_01137.png', 'gdrive/My Drive/cohface/frames/1_0/1_01091.png', 'gdrive/My Drive/cohface/frames/1_0/1_01106.png', 'gdrive/My Drive/cohface/frames/1_0/1_01140.png', 'gdrive/My Drive/cohface/frames/1_0/1_01138.png', 'gdrive/My Drive/cohface/frames/1_0/1_01148.png', 'gdrive/My Drive/cohface/frames/1_0/1_01092.png', 'gdrive/My Drive/cohface/frames/1_0/1_01107.png', 'gdrive/My Drive/cohface/frames/1_0/1_01141.png', 'gdrive/My Drive/cohface/frames/1_0/1_01139.png', 'gdrive/My Drive/cohface/frames/1_0/1_01125.png', 'gdrive/My Drive/cohface/frames/1_0/1_01149.png', 'gdrive/My Drive/cohface/frames/1_0/1_01093.png', 'gdrive/My Drive/cohface/frames/1_0/1_01142.png', 'gdrive/My Drive/cohface/frames/1_0/1_01159.png', 'gdrive/My Drive/cohface/frames/1_0/1_01108.png', 'gdrive/My Drive/cohface/frames/1_0/1_01161.png', 'gdrive/My Drive/cohface/frames/1_0/1_01126.png', 'gdrive/My Drive/cohface/frames/1_0/1_01150.png', 'gdrive/My Drive/cohface/frames/1_0/1_01094.png', 'gdrive/My Drive/cohface/frames/1_0/1_01143.png', 'gdrive/My Drive/cohface/frames/1_0/1_01160.png', 'gdrive/My Drive/cohface/frames/1_0/1_01109.png', 'gdrive/My Drive/cohface/frames/1_0/1_01162.png', 'gdrive/My Drive/cohface/frames/1_0/1_01127.png', 'gdrive/My Drive/cohface/frames/1_0/1_01095.png', 'gdrive/My Drive/cohface/frames/1_0/1_01151.png', 'gdrive/My Drive/cohface/frames/1_0/1_01144.png', 'gdrive/My Drive/cohface/frames/1_0/1_01163.png', 'gdrive/My Drive/cohface/frames/1_0/1_01128.png', 'gdrive/My Drive/cohface/frames/1_0/1_01110.png', 'gdrive/My Drive/cohface/frames/1_0/1_01096.png', 'gdrive/My Drive/cohface/frames/1_0/1_01145.png', 'gdrive/My Drive/cohface/frames/1_0/1_01111.png', 'gdrive/My Drive/cohface/frames/1_0/1_01152.png', 'gdrive/My Drive/cohface/frames/1_0/1_01129.png', 'gdrive/My Drive/cohface/frames/1_0/1_01164.png', 'gdrive/My Drive/cohface/frames/1_0/1_01174.png', 'gdrive/My Drive/cohface/frames/1_0/1_01146.png', 'gdrive/My Drive/cohface/frames/1_0/1_01112.png', 'gdrive/My Drive/cohface/frames/1_0/1_01130.png', 'gdrive/My Drive/cohface/frames/1_0/1_01153.png', 'gdrive/My Drive/cohface/frames/1_0/1_01175.png', 'gdrive/My Drive/cohface/frames/1_0/1_01165.png', 'gdrive/My Drive/cohface/frames/1_0/1_01181.png', 'gdrive/My Drive/cohface/frames/1_0/1_01147.png', 'gdrive/My Drive/cohface/frames/1_0/1_01131.png', 'gdrive/My Drive/cohface/frames/1_0/1_01189.png', 'gdrive/My Drive/cohface/frames/1_0/1_01176.png', 'gdrive/My Drive/cohface/frames/1_0/1_01166.png', 'gdrive/My Drive/cohface/frames/1_0/1_01154.png', 'gdrive/My Drive/cohface/frames/1_0/1_01182.png', 'gdrive/My Drive/cohface/frames/1_0/1_01193.png', 'gdrive/My Drive/cohface/frames/1_0/1_01132.png', 'gdrive/My Drive/cohface/frames/1_0/1_01190.png', 'gdrive/My Drive/cohface/frames/1_0/1_01155.png', 'gdrive/My Drive/cohface/frames/1_0/1_01167.png', 'gdrive/My Drive/cohface/frames/1_0/1_01177.png', 'gdrive/My Drive/cohface/frames/1_0/1_01183.png', 'gdrive/My Drive/cohface/frames/1_0/1_01133.png', 'gdrive/My Drive/cohface/frames/1_0/1_01194.png', 'gdrive/My Drive/cohface/frames/1_0/1_01191.png', 'gdrive/My Drive/cohface/frames/1_0/1_01196.png', 'gdrive/My Drive/cohface/frames/1_0/1_01168.png', 'gdrive/My Drive/cohface/frames/1_0/1_01156.png', 'gdrive/My Drive/cohface/frames/1_0/1_01178.png', 'gdrive/My Drive/cohface/frames/1_0/1_01134.png', 'gdrive/My Drive/cohface/frames/1_0/1_01195.png', 'gdrive/My Drive/cohface/frames/1_0/1_01184.png', 'gdrive/My Drive/cohface/frames/1_0/1_01192.png', 'gdrive/My Drive/cohface/frames/1_0/1_01169.png', 'gdrive/My Drive/cohface/frames/1_0/1_01197.png', 'gdrive/My Drive/cohface/frames/1_0/1_01157.png', 'gdrive/My Drive/cohface/frames/1_0/1_01179.png', 'gdrive/My Drive/cohface/frames/1_0/1_01135.png', 'gdrive/My Drive/cohface/frames/1_0/1_01185.png', 'gdrive/My Drive/cohface/frames/1_0/1_01170.png', 'gdrive/My Drive/cohface/frames/1_0/1_01180.png', 'gdrive/My Drive/cohface/frames/1_0/1_01198.png', 'gdrive/My Drive/cohface/frames/1_0/1_01158.png', 'gdrive/My Drive/cohface/frames/1_0/1_01186.png', 'gdrive/My Drive/cohface/frames/1_0/1_01171.png', 'gdrive/My Drive/cohface/frames/1_0/1_01199.png', 'gdrive/My Drive/cohface/frames/1_0/1_01187.png', 'gdrive/My Drive/cohface/frames/1_0/1_01172.png', 'gdrive/My Drive/cohface/frames/1_0/1_01200.png', 'gdrive/My Drive/cohface/frames/1_0/1_01188.png', 'gdrive/My Drive/cohface/frames/1_0/1_01173.png', 'gdrive/My Drive/cohface/frames/1_0/1_01201.png', 'gdrive/My Drive/cohface/frames/1_0/1_01202.png', 'gdrive/My Drive/cohface/frames/1_0/1_01203.png', 'gdrive/My Drive/cohface/frames/1_0/1_01204.png', 'gdrive/My Drive/cohface/frames/1_0/1_016.png', 'gdrive/My Drive/cohface/frames/1_0/1_01.png', 'gdrive/My Drive/cohface/frames/1_0/1_02.png', 'gdrive/My Drive/cohface/frames/1_0/1_017.png', 'gdrive/My Drive/cohface/frames/1_0/1_03.png', 'gdrive/My Drive/cohface/frames/1_0/1_018.png', 'gdrive/My Drive/cohface/frames/1_0/1_023.png', 'gdrive/My Drive/cohface/frames/1_0/1_038.png', 'gdrive/My Drive/cohface/frames/1_0/1_04.png', 'gdrive/My Drive/cohface/frames/1_0/1_019.png', 'gdrive/My Drive/cohface/frames/1_0/1_024.png', 'gdrive/My Drive/cohface/frames/1_0/1_039.png', 'gdrive/My Drive/cohface/frames/1_0/1_05.png', 'gdrive/My Drive/cohface/frames/1_0/1_020.png', 'gdrive/My Drive/cohface/frames/1_0/1_025.png', 'gdrive/My Drive/cohface/frames/1_0/1_040.png', 'gdrive/My Drive/cohface/frames/1_0/1_06.png', 'gdrive/My Drive/cohface/frames/1_0/1_021.png', 'gdrive/My Drive/cohface/frames/1_0/1_026.png', 'gdrive/My Drive/cohface/frames/1_0/1_041.png', 'gdrive/My Drive/cohface/frames/1_0/1_043.png', 'gdrive/My Drive/cohface/frames/1_0/1_058.png', 'gdrive/My Drive/cohface/frames/1_0/1_07.png', 'gdrive/My Drive/cohface/frames/1_0/1_022.png', 'gdrive/My Drive/cohface/frames/1_0/1_027.png', 'gdrive/My Drive/cohface/frames/1_0/1_042.png', 'gdrive/My Drive/cohface/frames/1_0/1_059.png', 'gdrive/My Drive/cohface/frames/1_0/1_044.png', 'gdrive/My Drive/cohface/frames/1_0/1_066.png', 'gdrive/My Drive/cohface/frames/1_0/1_08.png', 'gdrive/My Drive/cohface/frames/1_0/1_028.png', 'gdrive/My Drive/cohface/frames/1_0/1_075.png', 'gdrive/My Drive/cohface/frames/1_0/1_060.png', 'gdrive/My Drive/cohface/frames/1_0/1_09.png', 'gdrive/My Drive/cohface/frames/1_0/1_067.png', 'gdrive/My Drive/cohface/frames/1_0/1_029.png', 'gdrive/My Drive/cohface/frames/1_0/1_076.png', 'gdrive/My Drive/cohface/frames/1_0/1_061.png', 'gdrive/My Drive/cohface/frames/1_0/1_079.png', 'gdrive/My Drive/cohface/frames/1_0/1_068.png', 'gdrive/My Drive/cohface/frames/1_0/1_010.png', 'gdrive/My Drive/cohface/frames/1_0/1_030.png', 'gdrive/My Drive/cohface/frames/1_0/1_062.png', 'gdrive/My Drive/cohface/frames/1_0/1_045.png', 'gdrive/My Drive/cohface/frames/1_0/1_080.png', 'gdrive/My Drive/cohface/frames/1_0/1_011.png', 'gdrive/My Drive/cohface/frames/1_0/1_069.png', 'gdrive/My Drive/cohface/frames/1_0/1_031.png', 'gdrive/My Drive/cohface/frames/1_0/1_077.png', 'gdrive/My Drive/cohface/frames/1_0/1_063.png', 'gdrive/My Drive/cohface/frames/1_0/1_046.png', 'gdrive/My Drive/cohface/frames/1_0/1_081.png', 'gdrive/My Drive/cohface/frames/1_0/1_012.png', 'gdrive/My Drive/cohface/frames/1_0/1_070.png', 'gdrive/My Drive/cohface/frames/1_0/1_032.png', 'gdrive/My Drive/cohface/frames/1_0/1_078.png', 'gdrive/My Drive/cohface/frames/1_0/1_082.png', 'gdrive/My Drive/cohface/frames/1_0/1_064.png', 'gdrive/My Drive/cohface/frames/1_0/1_047.png', 'gdrive/My Drive/cohface/frames/1_0/1_013.png', 'gdrive/My Drive/cohface/frames/1_0/1_071.png', 'gdrive/My Drive/cohface/frames/1_0/1_0104.png', 'gdrive/My Drive/cohface/frames/1_0/1_089.png', 'gdrive/My Drive/cohface/frames/1_0/1_033.png', 'gdrive/My Drive/cohface/frames/1_0/1_083.png', 'gdrive/My Drive/cohface/frames/1_0/1_0113.png', 'gdrive/My Drive/cohface/frames/1_0/1_048.png', 'gdrive/My Drive/cohface/frames/1_0/1_014.png', 'gdrive/My Drive/cohface/frames/1_0/1_065.png', 'gdrive/My Drive/cohface/frames/1_0/1_0105.png', 'gdrive/My Drive/cohface/frames/1_0/1_072.png', 'gdrive/My Drive/cohface/frames/1_0/1_090.png', 'gdrive/My Drive/cohface/frames/1_0/1_034.png', 'gdrive/My Drive/cohface/frames/1_0/1_084.png', 'gdrive/My Drive/cohface/frames/1_0/1_0114.png', 'gdrive/My Drive/cohface/frames/1_0/1_015.png', 'gdrive/My Drive/cohface/frames/1_0/1_049.png', 'gdrive/My Drive/cohface/frames/1_0/1_0116.png', 'gdrive/My Drive/cohface/frames/1_0/1_091.png', 'gdrive/My Drive/cohface/frames/1_0/1_0106.png', 'gdrive/My Drive/cohface/frames/1_0/1_073.png', 'gdrive/My Drive/cohface/frames/1_0/1_085.png', 'gdrive/My Drive/cohface/frames/1_0/1_0115.png', 'gdrive/My Drive/cohface/frames/1_0/1_035.png', 'gdrive/My Drive/cohface/frames/1_0/1_0125.png', 'gdrive/My Drive/cohface/frames/1_0/1_050.png', 'gdrive/My Drive/cohface/frames/1_0/1_0117.png', 'gdrive/My Drive/cohface/frames/1_0/1_0107.png', 'gdrive/My Drive/cohface/frames/1_0/1_092.png', 'gdrive/My Drive/cohface/frames/1_0/1_074.png', 'gdrive/My Drive/cohface/frames/1_0/1_086.png', 'gdrive/My Drive/cohface/frames/1_0/1_0130.png', 'gdrive/My Drive/cohface/frames/1_0/1_036.png', 'gdrive/My Drive/cohface/frames/1_0/1_0135.png', 'gdrive/My Drive/cohface/frames/1_0/1_051.png', 'gdrive/My Drive/cohface/frames/1_0/1_0126.png', 'gdrive/My Drive/cohface/frames/1_0/1_0118.png', 'gdrive/My Drive/cohface/frames/1_0/1_0108.png', 'gdrive/My Drive/cohface/frames/1_0/1_093.png', 'gdrive/My Drive/cohface/frames/1_0/1_087.png', 'gdrive/My Drive/cohface/frames/1_0/1_0131.png', 'gdrive/My Drive/cohface/frames/1_0/1_037.png', 'gdrive/My Drive/cohface/frames/1_0/1_0136.png', 'gdrive/My Drive/cohface/frames/1_0/1_052.png', 'gdrive/My Drive/cohface/frames/1_0/1_0127.png', 'gdrive/My Drive/cohface/frames/1_0/1_0141.png', 'gdrive/My Drive/cohface/frames/1_0/1_0119.png', 'gdrive/My Drive/cohface/frames/1_0/1_0109.png', 'gdrive/My Drive/cohface/frames/1_0/1_094.png', 'gdrive/My Drive/cohface/frames/1_0/1_0132.png', 'gdrive/My Drive/cohface/frames/1_0/1_0137.png', 'gdrive/My Drive/cohface/frames/1_0/1_0120.png', 'gdrive/My Drive/cohface/frames/1_0/1_053.png', 'gdrive/My Drive/cohface/frames/1_0/1_0142.png', 'gdrive/My Drive/cohface/frames/1_0/1_0128.png', 'gdrive/My Drive/cohface/frames/1_0/1_0133.png', 'gdrive/My Drive/cohface/frames/1_0/1_0110.png', 'gdrive/My Drive/cohface/frames/1_0/1_0138.png', 'gdrive/My Drive/cohface/frames/1_0/1_0121.png', 'gdrive/My Drive/cohface/frames/1_0/1_054.png', 'gdrive/My Drive/cohface/frames/1_0/1_0129.png', 'gdrive/My Drive/cohface/frames/1_0/1_0143.png', 'gdrive/My Drive/cohface/frames/1_0/1_0148.png', 'gdrive/My Drive/cohface/frames/1_0/1_0134.png', 'gdrive/My Drive/cohface/frames/1_0/1_0111.png', 'gdrive/My Drive/cohface/frames/1_0/1_0122.png', 'gdrive/My Drive/cohface/frames/1_0/1_0139.png', 'gdrive/My Drive/cohface/frames/1_0/1_055.png', 'gdrive/My Drive/cohface/frames/1_0/1_0144.png', 'gdrive/My Drive/cohface/frames/1_0/1_088.png', 'gdrive/My Drive/cohface/frames/1_0/1_0157.png', 'gdrive/My Drive/cohface/frames/1_0/1_095.png', 'gdrive/My Drive/cohface/frames/1_0/1_0149.png', 'gdrive/My Drive/cohface/frames/1_0/1_0112.png', 'gdrive/My Drive/cohface/frames/1_0/1_0123.png', 'gdrive/My Drive/cohface/frames/1_0/1_0161.png', 'gdrive/My Drive/cohface/frames/1_0/1_0140.png', 'gdrive/My Drive/cohface/frames/1_0/1_056.png', 'gdrive/My Drive/cohface/frames/1_0/1_0158.png', 'gdrive/My Drive/cohface/frames/1_0/1_0145.png', 'gdrive/My Drive/cohface/frames/1_0/1_0150.png', 'gdrive/My Drive/cohface/frames/1_0/1_096.png', 'gdrive/My Drive/cohface/frames/1_0/1_0124.png', 'gdrive/My Drive/cohface/frames/1_0/1_0162.png', 'gdrive/My Drive/cohface/frames/1_0/1_0165.png', 'gdrive/My Drive/cohface/frames/1_0/1_057.png', 'gdrive/My Drive/cohface/frames/1_0/1_0170.png', 'gdrive/My Drive/cohface/frames/1_0/1_097.png', 'gdrive/My Drive/cohface/frames/1_0/1_0159.png', 'gdrive/My Drive/cohface/frames/1_0/1_0146.png', 'gdrive/My Drive/cohface/frames/1_0/1_0166.png', 'gdrive/My Drive/cohface/frames/1_0/1_0171.png', 'gdrive/My Drive/cohface/frames/1_0/1_0163.png', 'gdrive/My Drive/cohface/frames/1_0/1_0151.png', 'gdrive/My Drive/cohface/frames/1_0/1_0176.png', 'gdrive/My Drive/cohface/frames/1_0/1_098.png', 'gdrive/My Drive/cohface/frames/1_0/1_0147.png', 'gdrive/My Drive/cohface/frames/1_0/1_0160.png', 'gdrive/My Drive/cohface/frames/1_0/1_0172.png', 'gdrive/My Drive/cohface/frames/1_0/1_0167.png', 'gdrive/My Drive/cohface/frames/1_0/1_0152.png', 'gdrive/My Drive/cohface/frames/1_0/1_0177.png', 'gdrive/My Drive/cohface/frames/1_0/1_0164.png', 'gdrive/My Drive/cohface/frames/1_0/1_0183.png', 'gdrive/My Drive/cohface/frames/1_0/1_099.png', 'gdrive/My Drive/cohface/frames/1_0/1_0184.png', 'gdrive/My Drive/cohface/frames/1_0/1_0173.png', 'gdrive/My Drive/cohface/frames/1_0/1_0168.png', 'gdrive/My Drive/cohface/frames/1_0/1_0178.png', 'gdrive/My Drive/cohface/frames/1_0/1_0153.png', 'gdrive/My Drive/cohface/frames/1_0/1_0186.png', 'gdrive/My Drive/cohface/frames/1_0/1_0100.png', 'gdrive/My Drive/cohface/frames/1_0/1_0154.png', 'gdrive/My Drive/cohface/frames/1_0/1_0179.png', 'gdrive/My Drive/cohface/frames/1_0/1_0188.png', 'gdrive/My Drive/cohface/frames/1_0/1_0187.png', 'gdrive/My Drive/cohface/frames/1_0/1_0185.png', 'gdrive/My Drive/cohface/frames/1_0/1_0169.png', 'gdrive/My Drive/cohface/frames/1_0/1_0101.png', 'gdrive/My Drive/cohface/frames/1_0/1_0174.png', 'gdrive/My Drive/cohface/frames/1_0/1_0189.png', 'gdrive/My Drive/cohface/frames/1_0/1_0180.png', 'gdrive/My Drive/cohface/frames/1_0/1_0155.png', 'gdrive/My Drive/cohface/frames/1_0/1_0102.png', 'gdrive/My Drive/cohface/frames/1_0/1_0196.png', 'gdrive/My Drive/cohface/frames/1_0/1_0205.png', 'gdrive/My Drive/cohface/frames/1_0/1_0181.png', 'gdrive/My Drive/cohface/frames/1_0/1_0103.png', 'gdrive/My Drive/cohface/frames/1_0/1_0206.png', 'gdrive/My Drive/cohface/frames/1_0/1_0175.png', 'gdrive/My Drive/cohface/frames/1_0/1_0190.png', 'gdrive/My Drive/cohface/frames/1_0/1_0197.png', 'gdrive/My Drive/cohface/frames/1_0/1_0156.png', 'gdrive/My Drive/cohface/frames/1_0/1_0182.png', 'gdrive/My Drive/cohface/frames/1_0/1_0211.png', 'gdrive/My Drive/cohface/frames/1_0/1_0207.png', 'gdrive/My Drive/cohface/frames/1_0/1_0191.png', 'gdrive/My Drive/cohface/frames/1_0/1_0212.png', 'gdrive/My Drive/cohface/frames/1_0/1_0198.png', 'gdrive/My Drive/cohface/frames/1_0/1_0213.png', 'gdrive/My Drive/cohface/frames/1_0/1_0216.png', 'gdrive/My Drive/cohface/frames/1_0/1_0208.png', 'gdrive/My Drive/cohface/frames/1_0/1_0192.png', 'gdrive/My Drive/cohface/frames/1_0/1_0199.png']\n"
          ],
          "name": "stdout"
        }
      ]
    },
    {
      "cell_type": "code",
      "metadata": {
        "id": "IFXRSqtCeTRs",
        "colab_type": "code",
        "colab": {}
      },
      "source": [
        "results = save_face_for(36,2)"
      ],
      "execution_count": 0,
      "outputs": []
    },
    {
      "cell_type": "code",
      "metadata": {
        "id": "74VFzV5sgb_Y",
        "colab_type": "code",
        "outputId": "f1139643-8408-4750-ce67-8b2a720d0fe3",
        "colab": {
          "base_uri": "https://localhost:8080/",
          "height": 226
        }
      },
      "source": [
        "cv2_imshow(results[1000])"
      ],
      "execution_count": 0,
      "outputs": [
        {
          "output_type": "display_data",
          "data": {
            "image/png": "[encoded data removed]",
            "text/plain": [
              "<PIL.Image.Image image mode=RGB size=128x192 at 0x7F37B62446A0>"
            ]
          },
          "metadata": {
            "tags": []
          }
        },
        {
          "output_type": "execute_result",
          "data": {
            "text/plain": [
              "(192, 128, 3)"
            ]
          },
          "metadata": {
            "tags": []
          },
          "execution_count": 322
        }
      ]
    },
    {
      "cell_type": "code",
      "metadata": {
        "id": "bD804V2Dku_R",
        "colab_type": "code",
        "colab": {}
      },
      "source": [
        "def getVideos(random, vtype, nb, path, videosPaths):\n",
        "    if nb > len(videosPaths):\n",
        "      for file in os.listdir(path): # Get files and directories of the directory\n",
        "          _, currVidType = os.path.splitext(file)\n",
        "          if os.path.isdir(file): # This is a directory\n",
        "              getVideos(random, vtype, nb, path+'/'+file, videosPaths) \n",
        "          elif currVidType == '.'+vtype: # This is a file with the good video type\n",
        "              videosPaths.append(path+'/'+file)\n",
        "    return videosPaths "
      ],
      "execution_count": 0,
      "outputs": []
    },
    {
      "cell_type": "code",
      "metadata": {
        "id": "L1zRQ2ekku_S",
        "colab_type": "code",
        "colab": {}
      },
      "source": [
        "def script(random, vtype, nb, directories):\n",
        "  videosPaths = []\n",
        "  if len(directories)==0:\n",
        "    currentdirpath = os.getcwd()\n",
        "    videosPaths = getVideos(random, vtype, nb, currentdirpath, videosPaths)\n",
        "  else: \n",
        "    # there is no directory\t \n",
        "    for i in range(0,len(directories)):\n",
        "        videosPaths += getVideos(random, vtype, nb, directories[i],videosPaths)  \n",
        "       \n",
        "  return videosPaths"
      ],
      "execution_count": 0,
      "outputs": []
    },
    {
      "cell_type": "code",
      "metadata": {
        "colab_type": "code",
        "id": "WOvexQEzgsIt",
        "colab": {}
      },
      "source": [
        ""
      ],
      "execution_count": 0,
      "outputs": []
    },
    {
      "cell_type": "markdown",
      "metadata": {
        "id": "VfMxqC7mppRn",
        "colab_type": "text"
      },
      "source": [
        "## Here will be the dataloader that organizes the dataset for our training"
      ]
    },
    {
      "cell_type": "markdown",
      "metadata": {
        "id": "Osnd3MXQqvUB",
        "colab_type": "text"
      },
      "source": [
        "### Insights\n",
        "\n",
        "This section is for reading the labeled data, plotting and analyzing it."
      ]
    },
    {
      "cell_type": "code",
      "metadata": {
        "id": "K-gvY0MBlyY2",
        "colab_type": "code",
        "colab": {}
      },
      "source": [
        "import h5py\n",
        "#library documentation: http://docs.h5py.org/en/stable/quick.html\n",
        "\n",
        "f = h5py.File('gdrive/My Drive/cohface/1/1/data.hdf5', 'r')\n",
        "list(f.keys())\n",
        "\n",
        "dset = f['pulse']\n",
        "tset = f['time'] #in seconds\n",
        "\n",
        "print(dset.shape)\n",
        "tset.shape\n",
        "int(tset[-1])\n",
        "\n",
        "avg = statistics.mean(dset)\n",
        "sd = statistics.stdev(dset)\n",
        "\n",
        "srt = 50\n",
        "stp = dset.size\n",
        "avgV = [avg] * (stp-srt)\n",
        "\n",
        "#have a look at the data\n",
        "plt.plot(tset[srt:stp], dset[srt:stp], '-', color='black');\n",
        "plt.plot(tset[srt:stp], avgV, '-', color='green');\n",
        "\n",
        "# calculate polynomial\n",
        "z = np.polyfit(tset[srt:stp], dset[srt:stp], 25)\n",
        "f = np.poly1d(z)\n",
        "\n",
        "y_new = f(tset[srt:stp])\n",
        "print(y_new)\n",
        "plt.plot(tset[srt:stp], y_new, '-', color='red');\n"
      ],
      "execution_count": 0,
      "outputs": []
    },
    {
      "cell_type": "markdown",
      "metadata": {
        "id": "VjwrMaNXrOPU",
        "colab_type": "text"
      },
      "source": [
        "### Methods\n",
        "\n",
        "This section contains methods to extract the real HR from the raw BVP data. Some methods will extract the HR for every other second, others will extract the HR for every frame. In the latter case missing fields will be filled by existing values closed by.\n",
        "Cleaning is performed to keep the HR values between 40 and 240 (like in the Paper) Wrong values will be substituted by the mean value."
      ]
    },
    {
      "cell_type": "code",
      "metadata": {
        "id": "6oKjbLdQrglw",
        "colab_type": "code",
        "colab": {}
      },
      "source": [
        "def clean_hr_vector(vector):\n",
        "  print(\"cleaning\")\n",
        "\n",
        "  cleaned = list(filter(lambda x: x < 240, vector))\n",
        "  cleaned = list(filter(lambda x: x > 40, vector))\n",
        "  mean = statistics.mean(cleaned)\n",
        "\n",
        "  if vector[0] > 240 or vector[0] < 40:\n",
        "    vector[0] = int(mean)\n",
        "\n",
        "  for i in range(1,vector.size-1):\n",
        "\n",
        "    if i % 500 == 0:\n",
        "      print(str(int(100*i/vector.size)) + \"%\")\n",
        "    \n",
        "    if vector[i] == 0 and vector[i+1] != 0:\n",
        "      vector[i] = int((vector[i-1]+vector[i+1])/2)\n",
        "    \n",
        "    if vector[i] > 240 or vector[i] < 40:\n",
        "      vector[i] = int(mean)\n",
        "\n",
        "  print(\"100%\")\n",
        "  return vector\n",
        "\n"
      ],
      "execution_count": 0,
      "outputs": []
    },
    {
      "cell_type": "code",
      "metadata": {
        "id": "yeMpEgebnRem",
        "colab_type": "code",
        "colab": {}
      },
      "source": [
        "def extract_hr(xset,yset,start=1,end=2000, plot=False):\n",
        "   old_value = yset[start-1]\n",
        "   old_t = xset[start-1]\n",
        "   old_abs_t = 0\n",
        "\n",
        "   vector = np.zeros((int(xset[-1])*2))\n",
        "\n",
        "   valley = False\n",
        "\n",
        "   nu = statistics.mean(yset)\n",
        "   std = statistics.stdev(yset)\n",
        "\n",
        "   # calculate polynomial\n",
        "   z = np.polyfit(xset[50:-1], yset[50:-1], 25)\n",
        "   f = np.poly1d(z)\n",
        "  \n",
        "   y_new = f(xset)\n",
        "   if plot:\n",
        "    plt.plot(xset[50:-1], y_new[50:-1], '-', color='red');\n",
        "    plt.show()\n",
        "\n",
        "\n",
        "   for i in range(start,end):\n",
        "     \n",
        "     if i >= yset.size or i >= y_new.size:\n",
        "       break\n",
        "\n",
        "     if yset[i] < y_new[i] and not valley:\n",
        "        valley = True\n",
        "\n",
        "     if yset[i] > y_new[i]+std*0.5 and valley:\n",
        "        valley = False\n",
        "        \n",
        "        #print(str(int(60/(xset[i]-old_t))) + \" bpm at \" + str(old_abs_t) )\n",
        "        if old_abs_t == int(xset[-1]):\n",
        "          break\n",
        "\n",
        "        hr = int(60/(xset[i]-old_t))\n",
        "\n",
        "        if(int(2*old_abs_t) >= len(vector)):\n",
        "          continue\n",
        "        \n",
        "        if vector[int(2*old_abs_t)] == 0:\n",
        "          vector[int(2*old_abs_t)] = hr\n",
        "        elif abs((vector[int(2*old_abs_t)-1]-vector[int(2*old_abs_t)])/vector[int(2*old_abs_t)-1]) > abs((vector[int(2*old_abs_t)-1]-hr)/vector[int(2*old_abs_t)-1]):\n",
        "          vector[int(2*old_abs_t)] = hr\n",
        "\n",
        "\n",
        "        old_t = xset[i]\n",
        "\n",
        "     if int(2*xset[i])/2 > old_abs_t:\n",
        "       old_abs_t = int(2*xset[i])/2\n",
        "\n",
        "   return clean_hr_vector(vector)\n",
        "\n",
        "def hr_frame_label(xset,yset,start=1,end=2000, plot=False):\n",
        "   old_value = yset[start-1]\n",
        "   old_t = xset[start-1]\n",
        "\n",
        "   vector = np.zeros(xset.size)\n",
        "\n",
        "   valley = False\n",
        "\n",
        "   lastI = 0\n",
        "\n",
        "   nu = statistics.mean(yset)\n",
        "   std = statistics.stdev(yset)\n",
        "\n",
        "   # calculate polynomial\n",
        "   z = np.polyfit(xset[50:-1], yset[50:-1], 25)\n",
        "   f = np.poly1d(z)\n",
        "  \n",
        "   y_new = f(xset)\n",
        "   if plot:\n",
        "    plt.plot(xset[50:-1], y_new[50:-1], '-', color='red');\n",
        "    plt.show()\n",
        "\n",
        "\n",
        "   for i in range(start,end):\n",
        "     \n",
        "     if i >= yset.size or i >= y_new.size:\n",
        "       break\n",
        "\n",
        "     if yset[i] < y_new[i] and not valley:\n",
        "        valley = True\n",
        "\n",
        "     if yset[i] > y_new[i]+std*0.25 and valley:\n",
        "        valley = False\n",
        "\n",
        "        hr = int(60/(xset[i]-old_t))\n",
        "        #print(str(xset[i])+\"-\"+str(old_t)+\"=\"+str(hr))\n",
        "        \n",
        "        if vector[i] == 0:\n",
        "\n",
        "          if i == 0:\n",
        "            vector[i] = hr\n",
        "          else:\n",
        "            vector[lastI:i+1] = [hr] * (i-lastI+1)\n",
        "\n",
        "          lastI = i\n",
        "        elif abs((vector[i-1]-vector[i])/vector[i-1]) > abs((vector[i-1]-hr)/vector[i-1]):\n",
        "          vector[lastI:i+1] = [hr] * (i-lastI+1)\n",
        "          lastI = i\n",
        "        #print(str(i)+\": \" + str(vector[i]) + \" - \" + str(hr))\n",
        "\n",
        "\n",
        "        old_t = xset[i]\n",
        "\n",
        "   return clean_hr_vector(vector)\n",
        "  \n",
        "from scipy.misc import electrocardiogram\n",
        "from scipy.signal import find_peaks\n",
        "\n",
        "def peak_hr_estimation(xset,yset,start=1,end=2000, plot=False, deg=5, c=0.01):\n",
        "  data = yset[start:end]\n",
        "  times = xset[start:end]\n",
        "\n",
        "  peaks, _ = find_peaks(data, height=0)\n",
        "  avg = statistics.mean(data)\n",
        "  avgV = [avg]*len(list(data))\n",
        "  \n",
        "  z = np.polyfit(times,data, deg)\n",
        "  f = np.poly1d(z)\n",
        "\n",
        "  hr_times = []\n",
        "  hr = []\n",
        "\n",
        "  for i in range(0,len(data[list(peaks)])):\n",
        "    if data[list(peaks)][i] > f(times[list(peaks)][i])*(1 + c):\n",
        "      #print(str(times[list(peaks)][i]) + \": \" + str(data[list(peaks)][i]) + \">\" + str(f(times[list(peaks)][i])*1.02))\n",
        "      hr_times.append(times[list(peaks)][i])\n",
        "      if len(hr_times) > 1:\n",
        "        hr.append(int(60/(hr_times[-1] - hr_times[-2])))\n",
        "\n",
        "#  print(hr)\n",
        "\n",
        "\n",
        "  if plot:\n",
        "    plt.plot(times,data)\n",
        "    plt.plot(times,avgV,'-',color='green')\n",
        "    plt.plot(times,f(times),'-',color='red')\n",
        "    plt.plot(times[list(peaks)], data[list(peaks)],'x')\n",
        "    plt.show()\n",
        "\n",
        "  if len(hr_times) > 2:\n",
        "    #print('NO HEART RATE DETECTED for c, ' , c)\n",
        "    hr_times.pop()\n",
        "  return [hr_times,hr] \n"
      ],
      "execution_count": 0,
      "outputs": []
    },
    {
      "cell_type": "code",
      "metadata": {
        "id": "mtbVe4JN0INz",
        "colab_type": "code",
        "colab": {}
      },
      "source": [
        "#extract_hr(tset,dset,0,16000)\n",
        "def get_hr(subject,folder,window=1000,plot=False,deg=5,c=0.01):\n",
        "  f = h5py.File('gdrive/My Drive/cohface/'+str(subject)+'/'+str(folder)+'/data.hdf5', 'r')\n",
        "\n",
        "  dset = f['pulse']\n",
        "  tset = f['time'] #in seconds\n",
        "  rates = []\n",
        "  times = []\n",
        "  for i in range(0,len(dset),window):\n",
        "    res = peak_hr_estimation(tset[i:i+window],dset[i:i+window],0,window,plot,deg,c)\n",
        "    rates += res[1]\n",
        "    times += res[0]\n",
        "\n",
        "  return times, rates\n"
      ],
      "execution_count": 0,
      "outputs": []
    },
    {
      "cell_type": "markdown",
      "metadata": {
        "id": "48AB9dS86CjZ",
        "colab_type": "text"
      },
      "source": [
        "Window Size: 2000-5000\n",
        "\n",
        "dimension: 1-10\n",
        "\n",
        "c: 0.005-0.026"
      ]
    },
    {
      "cell_type": "code",
      "metadata": {
        "id": "gMhYl3Pf6qH5",
        "colab_type": "code",
        "colab": {}
      },
      "source": [
        "def find_best_combination(subject,folder):\n",
        "  top_acc = 0\n",
        "  top_d = 1\n",
        "  top_w = 2000\n",
        "  top_c = 0.005\n",
        "  top_l = 0\n",
        "  for d in range(1,10,1):\n",
        "    for w in range(2000,5000,500):\n",
        "      for c in range(5,26,5):\n",
        "        t,r = get_hr(subject,folder,window=w,plot=False,deg=d,c=c/1000)\n",
        "        if len(r) > 0:\n",
        "          acc = len(list(filter(lambda x:x<100 and x > 50, r)))/len(r)\n",
        "        else:\n",
        "          acc = 0\n",
        "        if acc > top_acc:\n",
        "          top_acc = acc\n",
        "          top_d = d\n",
        "          top_w = w\n",
        "          top_c = c/1000\n",
        "          top_l = len(r)\n",
        "  \n",
        "  return top_acc,top_d,top_w,top_c,top_l"
      ],
      "execution_count": 0,
      "outputs": []
    },
    {
      "cell_type": "code",
      "metadata": {
        "id": "sDmPM-MfIj6C",
        "colab_type": "code",
        "outputId": "5b7b1b61-a44c-41c6-fabf-56632e1ff4aa",
        "colab": {
          "base_uri": "https://localhost:8080/",
          "height": 1000
        }
      },
      "source": [
        "import warnings\n",
        "warnings.simplefilter('ignore', np.RankWarning)\n",
        "\n",
        "mean_acc_tol = []\n",
        "#Cross validation\n",
        "for s in range(1,9):\n",
        "  print('\\nsubject ',s)\n",
        "\n",
        "  folder_best = []\n",
        "  for f in range(0,4):\n",
        "    top_acc = 0\n",
        "    top_d = 1\n",
        "    top_w = 2000\n",
        "    top_c = 0.005\n",
        "    top_l = 0\n",
        "    for d in range(1,10,1):\n",
        "      for w in range(2000,6000,500):\n",
        "        for c in range(5,30,5):\n",
        "          t,r = get_hr(s,f,window=w,plot=False,deg=d,c=c/1000)\n",
        "          if len(r) > 0:\n",
        "            acc = len(list(filter(lambda x:x<100 and x > 50, r)))/len(r)\n",
        "          else:\n",
        "            acc = 0\n",
        "          if acc > top_acc:\n",
        "            top_acc = acc\n",
        "            top_d = d\n",
        "            top_w = w\n",
        "            top_c = c/1000\n",
        "            top_l = len(r)\n",
        "    folder_best.append((top_acc,top_d,top_w,top_c,top_l))\n",
        "  \n",
        "    #print('\\nbest results for combination:\\nacc ' + str(top_acc) + '\\ndegree: ' + str(top_d) + '\\nwindow: ' + str(top_w) + '\\nc: ' + str(top_c) + '\\nlength: ' + str(top_l))\n",
        "\n",
        "  best_acc = list(map(lambda x:x[0], folder_best))\n",
        "  best_deg = list(map(lambda x:x[1], folder_best))\n",
        "  best_win = list(map(lambda x:x[2], folder_best))\n",
        "  best_c   = list(map(lambda x:x[3], folder_best))\n",
        "\n",
        "  mean_acc = statistics.mean(best_acc)\n",
        "  mean_deg = int(statistics.mean(best_deg))\n",
        "  mean_win = int(statistics.mean(best_win))\n",
        "  mean_c   = statistics.mean(best_c)\n",
        "\n",
        "  print('\\nmean results for combination:\\nacc ' + str(mean_acc) + '\\ndegree: ' + str(mean_deg) + '\\nwindow: ' + str(mean_win) + '\\nc: ' + str(mean_c))\n",
        "\n",
        "  new_accs = []\n",
        "  for f in range(0,4):\n",
        "    t,r = get_hr(s,f,window=mean_win,plot=False,deg=mean_deg,c=mean_acc)\n",
        "    if len(r) > 0:\n",
        "      acc = len(list(filter(lambda x:x<100 and x > 50, r)))/len(r)\n",
        "      new_accs.append(acc)\n",
        "    else:\n",
        "      new_accs.append(0)\n",
        "\n",
        "  print(new_accs)\n",
        "  mean_acc_tol = mean_acc_tol + new_accs\n",
        "print(mean_acc_tol)\n"
      ],
      "execution_count": 96,
      "outputs": [
        {
          "output_type": "stream",
          "text": [
            "\n",
            "subject  1\n",
            "\n",
            "mean results for combination:\n",
            "acc 0.803491899808704\n",
            "degree: 3\n",
            "window: 4500\n",
            "c: 0.025\n",
            "[0, 0, 0, 0]\n",
            "\n",
            "subject  2\n",
            "\n",
            "mean results for combination:\n",
            "acc 0.5490130368073178\n",
            "degree: 2\n",
            "window: 4250\n",
            "c: 0.01375\n",
            "[0, 0, 0, 0]\n",
            "\n",
            "subject  3\n",
            "\n",
            "mean results for combination:\n",
            "acc 0.9528437461941298\n",
            "degree: 5\n",
            "window: 3875\n",
            "c: 0.025\n",
            "[0, 0, 0, 0]\n",
            "\n",
            "subject  4\n",
            "\n",
            "mean results for combination:\n",
            "acc 0.9230484646688865\n",
            "degree: 3\n",
            "window: 3375\n",
            "c: 0.01125\n",
            "[0, 0, 0, 0]\n",
            "\n",
            "subject  5\n",
            "\n",
            "mean results for combination:\n",
            "acc 0.29930111737171156\n",
            "degree: 6\n",
            "window: 3250\n",
            "c: 0.025\n",
            "[0.9855072463768116, 1.0, 0.9701492537313433, 1.0]\n",
            "\n",
            "subject  6\n",
            "\n",
            "mean results for combination:\n",
            "acc 0.9879011273114922\n",
            "degree: 1\n",
            "window: 4625\n",
            "c: 0.005\n",
            "[0, 0, 0, 0]\n",
            "\n",
            "subject  7\n",
            "\n",
            "mean results for combination:\n",
            "acc 0.8291666666666666\n",
            "degree: 8\n",
            "window: 3500\n",
            "c: 0.025\n",
            "[0, 0, 0, 0]\n",
            "\n",
            "subject  8\n",
            "\n",
            "mean results for combination:\n",
            "acc 0.8271133633633634\n",
            "degree: 6\n",
            "window: 2750\n",
            "c: 0.025\n",
            "[0, 0, 0, 0]\n",
            "[0, 0, 0, 0, 0, 0, 0, 0, 0, 0, 0, 0, 0, 0, 0, 0, 0.9855072463768116, 1.0, 0.9701492537313433, 1.0, 0, 0, 0, 0, 0, 0, 0, 0, 0, 0, 0, 0]\n"
          ],
          "name": "stdout"
        }
      ]
    },
    {
      "cell_type": "code",
      "metadata": {
        "id": "TntcKXUMAkH_",
        "colab_type": "code",
        "colab": {}
      },
      "source": [
        "def heartRateForSubjects(from_=1,to=40,folder_start=0,folder_end=3, plot = False):\n",
        "  rates = [[[0]]* (folder_end-folder_start)] * (to-from_)\n",
        "  print(rates)\n",
        "  for i in range(from_,to):\n",
        "    for j in range(folder_start,folder_end):\n",
        "      print(\"\\nsubject \" + str(i) + \" set: \" + str(j) + \"\\n_________________\")\n",
        "      f = h5py.File('gdrive/My Drive/cohface/' + str(i) + '/'+ str(j) +'/data.hdf5', 'r')\n",
        "      dset = f['pulse']\n",
        "      tset = f['time']\n",
        "      if plot:\n",
        "        plt.plot(tset[50:-1], dset[50:-1], '-', color='black');\n",
        "      rates[i-from_][j-folder_start] = extract_hr(tset,dset,0,16000,plot)\n",
        "  return rates\n",
        "\n",
        "def heartRateForFrames(from_=1,to=40,folder_start=0,folder_end=3, plot = False):\n",
        "  rates = [[[0]]* (folder_end-folder_start)] * (to-from_)\n",
        "  print(rates)\n",
        "  for i in range(from_,to):\n",
        "    for j in range(folder_start,folder_end):\n",
        "      print(\"\\nsubject \" + str(i) + \" set: \" + str(j) + \"\\n_________________\")\n",
        "      f = h5py.File('gdrive/My Drive/cohface/' + str(i) + '/'+ str(j) +'/data.hdf5', 'r')\n",
        "      dset = f['pulse']\n",
        "      tset = f['time']\n",
        "      if plot:\n",
        "        plt.plot(tset[50:-1], dset[50:-1], '-', color='black');\n",
        "      rates[i-from_][j-folder_start] = hr_frame_label(tset,dset,0,16000,plot)\n",
        "  return rates\n",
        "  \n",
        "\n"
      ],
      "execution_count": 0,
      "outputs": []
    },
    {
      "cell_type": "code",
      "metadata": {
        "id": "EhalSqyBs0uX",
        "colab_type": "code",
        "colab": {}
      },
      "source": [
        "#values = heartRateForSubjects(19,20,0,4,True)\n",
        "\n",
        "values = heartRateForFrames(1,2,1,2,True)\n"
      ],
      "execution_count": 0,
      "outputs": []
    },
    {
      "cell_type": "code",
      "metadata": {
        "id": "oECu40-GHztw",
        "colab_type": "code",
        "outputId": "62871a43-a4f6-4698-bc97-8adb05d34eb2",
        "colab": {
          "base_uri": "https://localhost:8080/",
          "height": 34
        }
      },
      "source": [
        "print(values[0][0].shape)"
      ],
      "execution_count": 0,
      "outputs": [
        {
          "output_type": "stream",
          "text": [
            "(15456,)\n"
          ],
          "name": "stdout"
        }
      ]
    },
    {
      "cell_type": "code",
      "metadata": {
        "id": "iGQB5Q49wPmH",
        "colab_type": "code",
        "colab": {}
      },
      "source": [
        "print(str(len(values)))\n",
        "\n",
        "for l in values:\n",
        "  print(str(len(l)))\n",
        "  for value in l:\n",
        "    print(len(value[1:-2]))\n",
        "    print(statistics.mean(value[1:-2]))\n",
        "    print(statistics.stdev(value[1:-2]))\n",
        "    print(min(value[1:-2]))\n",
        "    print(max(value[1:-2]))\n",
        "    print(\"\\n\")"
      ],
      "execution_count": 0,
      "outputs": []
    },
    {
      "cell_type": "code",
      "metadata": {
        "id": "oOoCT-s1BXL2",
        "colab_type": "code",
        "colab": {}
      },
      "source": [
        "heartRateForSubjects(folder_start=1,folder_end=2,plot=True)"
      ],
      "execution_count": 0,
      "outputs": []
    },
    {
      "cell_type": "markdown",
      "metadata": {
        "id": "aWSMlVIFsLbv",
        "colab_type": "text"
      },
      "source": [
        "### Dataloader\n",
        "\n",
        "A potential data loader object"
      ]
    },
    {
      "cell_type": "code",
      "metadata": {
        "id": "pIQyqZbFmZii",
        "colab_type": "code",
        "colab": {}
      },
      "source": [
        "import h5py\n",
        "def prepare_data(subject,folder):\n",
        "  save_face_for(subject,folder)\n",
        "\n",
        "def get_data(subject,folder):\n",
        "  \n",
        "  print('\\nget data for subject ' +str(subject)+ ' folder ' + str(folder))\n",
        "  data = []\n",
        "  img_srcs = get_saved_face_for(subject,folder)\n",
        "  frames = list(map(lambda x:cv2.imread(x),img_srcs))\n",
        "\n",
        "  _,d,win,c,_ = find_best_combination(subject,folder)\n",
        "\n",
        "  hr = get_hr(subject,folder,window=win,deg=d,c=c) #0 = time, 1 = heart rate\n",
        "  \n",
        "  time = np.array(hr[0])\n",
        "  rate = clean_hr_vector(np.array(hr[1]))\n",
        "\n",
        "  d = 1/(len(frames)/60)\n",
        "  t = 0.5\n",
        "  T = 0\n",
        "\n",
        "  ass_rate = statistics.mean(rate)\n",
        "\n",
        "  for i in range(0,len(frames)):\n",
        "\n",
        "    if T > t:\n",
        "      t = t+0.5\n",
        "    \n",
        "    first_index = np.where(time >= t-0.5)[0]\n",
        "    \n",
        "    index = np.where(time[list(first_index)] < t)\n",
        "\n",
        "    #print('at t '+str(t) + ' index: ' + str(index[0]) + ' and value is ' + str(rate[first_index][index[0]]))\n",
        "\n",
        "    if first_index is None or first_index.size == 0 or index[0] is None or index[0].size == 0:\n",
        "      data.append((frames[i],ass_rate))\n",
        "    elif np.amax(first_index) >= rate.shape[0]:\n",
        "      data.append((frames[i],ass_rate))\n",
        "    else:\n",
        "      ass_rate = rate[first_index][index[0]][-1]\n",
        "      data.append((frames[i],ass_rate))\n",
        "\n",
        "    T = T + d\n",
        "\n",
        "  return data"
      ],
      "execution_count": 0,
      "outputs": []
    },
    {
      "cell_type": "markdown",
      "metadata": {
        "id": "0EZVUDlbku_U",
        "colab_type": "text"
      },
      "source": [
        ""
      ]
    },
    {
      "cell_type": "code",
      "metadata": {
        "id": "COzIxkqZku_V",
        "colab_type": "code",
        "outputId": "b85fdd25-6429-4994-f504-8106f128d3c4",
        "colab": {
          "base_uri": "https://localhost:8080/",
          "height": 85
        }
      },
      "source": [
        "labeled_data = get_data(9,1)\n"
      ],
      "execution_count": 106,
      "outputs": [
        {
          "output_type": "stream",
          "text": [
            "\n",
            "get data for subject 9 folder 1\n",
            "cleaning\n",
            "100%\n"
          ],
          "name": "stdout"
        }
      ]
    },
    {
      "cell_type": "code",
      "metadata": {
        "id": "SMU28Tu2qVQ4",
        "colab_type": "code",
        "colab": {}
      },
      "source": [
        "i = 500\n",
        "for i in range(0,len(labeled_data)):\n",
        "  cv2_imshow(labeled_data[i][0])\n",
        "  print(labeled_data[i][1])"
      ],
      "execution_count": 0,
      "outputs": []
    },
    {
      "cell_type": "markdown",
      "metadata": {
        "id": "dFTaI0MMUwzo",
        "colab_type": "text"
      },
      "source": [
        "## Network"
      ]
    },
    {
      "cell_type": "markdown",
      "metadata": {
        "id": "U8MLasszU1ah",
        "colab_type": "text"
      },
      "source": [
        "### Loss function\n",
        "\n",
        "\n",
        "\n",
        "*   𝓁: loss\n",
        "*   ϕ: concatenation of convolutional filter parameters\n",
        "*   𝓣: labelled training set\n",
        "*   SNR: Signal-To-Noise Ratio\n",
        "*   PSD: Power Spectral Density\n",
        "*   f: true HR\n",
        "*   X: a sequence of N facial images\n",
        "\n",
        "\n",
        "\n",
        "\n"
      ]
    },
    {
      "cell_type": "code",
      "metadata": {
        "id": "2vK_AEpRVW7B",
        "colab_type": "code",
        "outputId": "66c9c8e1-5727-49d2-bf2c-cde5cd5dd7f4",
        "colab": {
          "base_uri": "https://localhost:8080/",
          "height": 99
        }
      },
      "source": [
        "display(HTML(\"<script src='https://cdnjs.cloudflare.com/ajax/libs/mathjax/2.7.3/\"\n",
        "               \"latest.js?config=default'></script>\"))\n",
        "Math(r'\\ell(\\mathcal{T};\\phi) = -\\frac{1}{l} \\sum_{j=1}^{l} SNR(f^j,X^j;\\phi)')"
      ],
      "execution_count": 0,
      "outputs": [
        {
          "output_type": "display_data",
          "data": {
            "text/html": [
              "<script src='https://cdnjs.cloudflare.com/ajax/libs/mathjax/2.7.3/latest.js?config=default'></script>"
            ],
            "text/plain": [
              "<IPython.core.display.HTML object>"
            ]
          },
          "metadata": {
            "tags": []
          }
        },
        {
          "output_type": "execute_result",
          "data": {
            "text/latex": "$$\\ell(\\mathcal{T};\\phi) = -\\frac{1}{l} \\sum_{j=1}^{l} SNR(f^j,X^j;\\phi)$$",
            "text/plain": [
              "<IPython.core.display.Math object>"
            ]
          },
          "metadata": {
            "tags": []
          },
          "execution_count": 24
        }
      ]
    },
    {
      "cell_type": "code",
      "metadata": {
        "id": "XGTbztTwWTsa",
        "colab_type": "code",
        "colab": {}
      },
      "source": [
        "def PSD(f,X,h,n,fs=20):\n",
        "\n",
        "  #f given frequency in Hz\n",
        "  #X is set of images\n",
        "  #Phi is filter parameters\n",
        "  #h is extractor output\n",
        "  #fs is sampling frequency in Hz\n",
        "\n",
        "  f_hat = f/60\n",
        "  #print('\\nh(X):', h(X))\n",
        "  #print('f_hat;',f_hat)\n",
        "  #print('fs;',fs)\n",
        "  #print('n;',n)\n",
        "  #print('multiplied:',torch.cos(2*math.pi*f_hat*n/fs))\n",
        "  term1 = h(X)*torch.cos(2*math.pi*f_hat*n/fs)\n",
        "  term2 = h(X)*torch.sin(2*math.pi*f_hat*n/fs)  \n",
        "  #print('Terms to be summed')\n",
        "  #print('term1',term1)\n",
        "  #print('term2',term2)       \n",
        "  #print('shape ',term1.shape)              \n",
        "  result1 = torch.sum(term1, dim=1)\n",
        "  result2 = torch.sum(term2, dim=1)\n",
        "  #print('summed term1 ', result1)\n",
        "  #print('summed term2 ', result2)\n",
        "\n",
        "\n",
        "  return result1**2 + result2**2\n"
      ],
      "execution_count": 0,
      "outputs": []
    },
    {
      "cell_type": "code",
      "metadata": {
        "id": "XUVOXntLb3DR",
        "colab_type": "code",
        "colab": {}
      },
      "source": [
        "def SNR(f,X,F,d,h):\n",
        "\n",
        "  #f true hr\n",
        "  #X set of images\n",
        "  #F is set of possible HR\n",
        "  #d tolerance interval\n",
        "\n",
        "  Fplus = list(filter(lambda x: x > f-d, F))\n",
        "  Fplus = list(filter(lambda x: x < f+d, Fplus))\n",
        "\n",
        "  Fminus1 = list(filter(lambda x: x < f-d, F))\n",
        "  Fminus2 = list(filter(lambda x: x > f+d, F))\n",
        "  Fminus = Fminus1 + Fminus2\n",
        "  del Fminus1, Fminus2\n",
        "\n",
        "  N = X.shape[0]\n",
        "  n = torch.linspace(0,N-1,N).cuda()\n",
        "\n",
        "  result1 = sum(list(map(lambda x:PSD(x,X,h,n),Fplus)))\n",
        "  result2 = sum(list(map(lambda x:PSD(x,X,h,n),Fminus)))\n",
        "\n",
        "  result = 10*torch.log10(result1/result2)\n",
        "\n",
        "  return result\n"
      ],
      "execution_count": 0,
      "outputs": []
    },
    {
      "cell_type": "code",
      "metadata": {
        "id": "EG8rESh0B7Ei",
        "colab_type": "code",
        "colab": {
          "base_uri": "https://localhost:8080/",
          "height": 34
        },
        "outputId": "a2697a6e-7573-49ed-f806-d59f45cf24fb"
      },
      "source": [
        ""
      ],
      "execution_count": 123,
      "outputs": [
        {
          "output_type": "execute_result",
          "data": {
            "text/plain": [
              "tensor([0., 1.])"
            ]
          },
          "metadata": {
            "tags": []
          },
          "execution_count": 123
        }
      ]
    },
    {
      "cell_type": "code",
      "metadata": {
        "id": "7nbG_FgRgAcL",
        "colab_type": "code",
        "colab": {}
      },
      "source": [
        "def loss_function(h,X,f,F,d=5):\n",
        "  #X is a list of lists\n",
        "  #f is the corresponding hr to a list in X\n",
        "\n",
        "  #result = 0\n",
        "  l = len(X)\n",
        "  #print('\\n signal to noise input')\n",
        "  #print('true hr', f[:,-1])\n",
        "\n",
        "  liste = list(map(lambda x,y:SNR(x.item(),y,F,d,h),f[:,-1],X))\n",
        "\n",
        "  result = -1*sum(liste)/l\n",
        "  \n",
        "  #for i in range(0,l):\n",
        "    #result = result + SNR(f[i,-1].item(),X[i],F,d,h)\n",
        "    \n",
        "  return result"
      ],
      "execution_count": 0,
      "outputs": []
    },
    {
      "cell_type": "code",
      "metadata": {
        "id": "cl7bPi9sd-F6",
        "colab_type": "code",
        "colab": {}
      },
      "source": [
        "#Initiate set of possible heart rates\n",
        "F = []\n",
        "for i in range(40,240):\n",
        "  F.append(i)"
      ],
      "execution_count": 0,
      "outputs": []
    },
    {
      "cell_type": "markdown",
      "metadata": {
        "id": "kyFY7YlhExLX",
        "colab_type": "text"
      },
      "source": [
        "### Network definition"
      ]
    },
    {
      "cell_type": "markdown",
      "metadata": {
        "id": "nobt0DeRYKFW",
        "colab_type": "text"
      },
      "source": [
        "Implementation details Both networks use a standard chain of convolution, MaxPool and\n",
        "activation functions. Before the first convolution layer and after every MaxPool layer, a\n",
        "batch normalization was inserted. Exponential Linear Units [2] were used as the activation\n",
        "functions. Dropout was used. Batch normalization was initialized with weights randomly\n",
        "sampled from a Gaussian distribution with m = 0 and s = 0:1, convolution layers were\n",
        "initialized according to the method described in [3]. Both network components were trained\n",
        "using PyTorch library, Adam optimizer was used with learning rate set to 0:0001 in case of\n",
        "the Extractor and to 0:1 in case of the HR estimator. For both training setups, a set of all input\n",
        "facial RGB images X = R192\u0002128. Faces were found by a face detector, the bounding boxes\n",
        "were adjusted to the aspect ratio 3 : 2 to cover the whole face, cropped out and resized to\n",
        "192\u0002128 pixels. The set of true HR F = {40/60 ; 41/60; : : : ; 240/60} in case of extractor and F = R0+\n",
        "in case of estimator."
      ]
    },
    {
      "cell_type": "code",
      "metadata": {
        "id": "VAPj8GePaB5O",
        "colab_type": "code",
        "colab": {}
      },
      "source": [
        "## PyTorch \n",
        "import torch\n",
        "import torch.nn as nn\n",
        "import torch.nn.functional as F\n",
        "import torchvision.transforms as transforms\n",
        "from torch.autograd import Variable\n",
        "from torch import Tensor\n",
        "import torch.optim as optim\n",
        "import torchvision\n",
        "\n",
        "import math #for calculus\n",
        "import cv2\n",
        "from google.colab.patches import cv2_imshow\n",
        "import numpy as np\n",
        "\n",
        "from sklearn import svm\n",
        "import pickle"
      ],
      "execution_count": 0,
      "outputs": []
    },
    {
      "cell_type": "code",
      "metadata": {
        "id": "57vd2o-NE0bl",
        "colab_type": "code",
        "colab": {}
      },
      "source": [
        "class Extractor(nn.Module):\n",
        "    \n",
        "    def __init__(self,name='Extractor'):\n",
        "        super(Extractor, self).__init__()\n",
        "        self.T = 120\n",
        "        \n",
        "        self.name = name\n",
        "        \n",
        "        self.training_epochs = 0\n",
        "        \n",
        "        self.lr_history       = []\n",
        "        self.accuracy_history = []\n",
        "        self.loss_history     = []\n",
        "        \n",
        "        self.batchnorm0 = nn.BatchNorm2d(3)\n",
        "        self.conv1 = nn.Conv2d(3,64,(10,15),2,2,2)\n",
        "\n",
        "        self.pooling1 = nn.MaxPool2d((10,15), stride=2, padding=(2,4), dilation=2)\n",
        "        self.batchnorm1 = nn.BatchNorm2d(64)\n",
        "\n",
        "        self.pooling2 = nn.MaxPool2d((10,15), stride=2, padding=(2,4), dilation=2)\n",
        "        self.batchnorm2 = nn.BatchNorm2d(64)\n",
        "        \n",
        "        self.pooling3 = nn.MaxPool2d((10,14), stride=2, padding=(3,4), dilation=1)\n",
        "        self.batchnorm3 = nn.BatchNorm2d(64)\n",
        "\n",
        "        self.fc = torch.nn.Linear(in_features=64*1*1, out_features=1)\n",
        "      \n",
        "        \n",
        "        # robust weight initialization\n",
        "        torch.nn.init.xavier_normal_(self.conv1.weight)\n",
        "      \n",
        "\n",
        "        \n",
        "    def forward(self, x):\n",
        "\n",
        "        # first set of CNNs and then a max pool\n",
        "        x = x.permute(0,3,2,1)\n",
        "        #print(x.shape)\n",
        "        x = self.batchnorm0(x)\n",
        "        x = self.conv1(x)\n",
        "        x = F.elu(x)\n",
        "        #print(x.shape)\n",
        "        x = self.pooling1(x)\n",
        "        x = self.batchnorm1(x)\n",
        "        #print(x.shape)\n",
        "        x = self.pooling2(x)\n",
        "        x = self.batchnorm2(x)\n",
        "        #print(x.shape)\n",
        "        x = self.pooling3(x)\n",
        "        x = self.batchnorm3(x)\n",
        "        #print(x.shape)\n",
        "        \n",
        "        batch_size, C, H, W = x.size()\n",
        "        \n",
        "        x = x.view(batch_size, H*W*C)\n",
        "\n",
        "        x = F.elu(self.fc(x))\n",
        "        \n",
        "        return x\n",
        "      \n",
        "    def save(self,root='gdrive/My\\ Drive/Project'):\n",
        "      !mkdir $root\n",
        "  \n",
        "      path = root.replace('\\\\','') + '/' + self.name + '.pickle'\n",
        "    \n",
        "      print(\"\\nsaving network under:\\n\",path)\n",
        "      \n",
        "      with open(path, 'wb') as f:\n",
        "        pickle.dump(self, f)\n",
        "        \n",
        "    def next_epoch(self,lr,acc_hist,loss_hist):\n",
        "      self.training_epochs += 1\n",
        "      self.lr_history.append(lr)\n",
        "      self.accuracy_history.append(acc_hist)\n",
        "      self.loss_history.append(loss_hist)\n",
        "    \n",
        "    def reset(self):\n",
        "      self.training_epochs = 0\n",
        "      self.lr_history = []\n",
        "      self.accuracy_history = []\n",
        "      self.loss_history = []"
      ],
      "execution_count": 0,
      "outputs": []
    },
    {
      "cell_type": "markdown",
      "metadata": {
        "id": "ZafPofryZ5R0",
        "colab_type": "text"
      },
      "source": [
        "### Network Training Methods"
      ]
    },
    {
      "cell_type": "code",
      "metadata": {
        "id": "ac_bdeTwaGMz",
        "colab_type": "code",
        "colab": {}
      },
      "source": [
        "def get_cost_function():\n",
        "    \n",
        "  return loss_function\n",
        "    \n",
        "def get_optimizer(net, lr=0.0001, wd=1e-5, momentum=0.01):\n",
        "  optimizer = torch.optim.Adam(net.parameters(), lr=lr, betas=(0.9, 0.999), eps=1e-08, weight_decay=wd, amsgrad=False)\n",
        "  return optimizer"
      ],
      "execution_count": 0,
      "outputs": []
    },
    {
      "cell_type": "code",
      "metadata": {
        "id": "vTntqDhCaaXQ",
        "colab_type": "code",
        "colab": {}
      },
      "source": [
        "def test(net, cost_function, device='cuda:0'):\n",
        "  \n",
        "  cumulative_loss = 0.\n",
        "\n",
        "  net.eval() # Strictly needed if network contains layers which has different behaviours between train and test\n",
        "  \n",
        "  with torch.no_grad():\n",
        "      \n",
        "    #zero mean and normalize the data\n",
        "    mean = t_data.mean()\n",
        "    std  = t_data.std()\n",
        "      \n",
        "    t_data = (t_data - mean)/std\n",
        "\n",
        "    count,h,w,d = np.array(t_data).shape\n",
        "  \n",
        "    batch = int(count/batch_size)\n",
        "  \n",
        "    # Load data into GPU\n",
        "    inputs = t_data.view(batch,batch_size,h,w,d).float().to(device)\n",
        "    targets = t_labels.view(batch,batch_size).to(device)\n",
        "\n",
        "    F = []\n",
        "    for i in range(40,240):\n",
        "      F.append(i)\n",
        "    \n",
        "    # Apply the loss (h,X,f,Phi,F,d=5)\n",
        "    loss = cost_function(net,inputs,targets,F,d=6)\n",
        "\n",
        "    cumulative_loss += loss.sum()\n",
        "  \n",
        "  \n",
        "  return cumulative_loss"
      ],
      "execution_count": 0,
      "outputs": []
    },
    {
      "cell_type": "code",
      "metadata": {
        "id": "LWmLymsyfu2b",
        "colab_type": "code",
        "colab": {}
      },
      "source": [
        "def train(net, t_data, t_labels, cost_function,optimizer,batch_size = 5, device='cuda:0'):\n",
        "\n",
        "  cumulative_loss = 0.\n",
        "\n",
        "  net.train() # Strictly needed if network contains layers which has different behaviours between train and test\n",
        "      \n",
        "  #zero mean and normalize the data\n",
        "  mean = t_data.mean()\n",
        "  std  = t_data.std()\n",
        "      \n",
        "  t_data = (t_data - mean)/std\n",
        "\n",
        "  count,h,w,d = np.array(t_data).shape\n",
        "  \n",
        "  batch = int(count/batch_size)\n",
        "  \n",
        "  # Load data into GPU\n",
        "  inputs = t_data.view(batch,batch_size,h,w,d).float().to(device)\n",
        "  targets = t_labels.view(batch,batch_size).to(device)\n",
        "\n",
        "  F = []\n",
        "  for i in range(40,240):\n",
        "    F.append(i)\n",
        "    \n",
        "  # Apply the loss (h,X,f,Phi,F,d=5)\n",
        "  loss = cost_function(net,inputs,targets,F,d=6)\n",
        "\n",
        "  # Backward pass\n",
        "  loss.sum().backward()\n",
        "\n",
        "  # Update parameters\n",
        "  optimizer.step()\n",
        "    \n",
        "  # Reset the optimizer\n",
        "  optimizer.zero_grad()\n",
        "\n",
        "  cumulative_loss += loss.sum()\n",
        "  \n",
        "  \n",
        "  return cumulative_loss"
      ],
      "execution_count": 0,
      "outputs": []
    },
    {
      "cell_type": "markdown",
      "metadata": {
        "id": "sMZBBUNpWF3z",
        "colab_type": "text"
      },
      "source": [
        "* Video Visualization of the Face color\n",
        "\n",
        "* Results for CNN\n",
        "\n",
        "* send the specification of delivery"
      ]
    },
    {
      "cell_type": "code",
      "metadata": {
        "id": "hdZELb47twHL",
        "colab_type": "code",
        "colab": {
          "base_uri": "https://localhost:8080/",
          "height": 1000
        },
        "outputId": "26c522a0-6965-4a8b-a929-deff66cb694c"
      },
      "source": [
        "#preparing the data\n",
        "for s in range(10,39):\n",
        "  print('\\non subject ', s)\n",
        "  for f in range(0,4):\n",
        "    print('in folder ', f)\n",
        "    _= prepare_data(s,f)"
      ],
      "execution_count": 72,
      "outputs": [
        {
          "output_type": "stream",
          "text": [
            "\n",
            "on subject  7\n",
            "in folder  0\n",
            "mkdir: cannot create directory ‘gdrive/My Drive/cohface/frames’: File exists\n",
            "frame has length of  1209\n",
            "100\n",
            "200\n",
            "300\n",
            "400\n",
            "500\n",
            "600\n",
            "700\n",
            "800\n",
            "900\n",
            "1000\n",
            "1100\n",
            "1200\n",
            "Not grabbed.\n",
            "in folder  1\n",
            "mkdir: cannot create directory ‘gdrive/My Drive/cohface/frames’: File exists\n",
            "frame has length of  1209\n",
            "100\n",
            "200\n",
            "300\n",
            "400\n",
            "500\n",
            "600\n",
            "700\n",
            "800\n",
            "900\n",
            "1000\n",
            "1100\n",
            "1200\n",
            "Not grabbed.\n",
            "in folder  2\n",
            "mkdir: cannot create directory ‘gdrive/My Drive/cohface/frames’: File exists\n",
            "frame has length of  1208\n",
            "100\n",
            "200\n",
            "300\n",
            "400\n",
            "500\n",
            "600\n",
            "700\n",
            "800\n",
            "900\n",
            "1000\n",
            "1100\n",
            "1200\n",
            "Not grabbed.\n",
            "in folder  3\n",
            "mkdir: cannot create directory ‘gdrive/My Drive/cohface/frames’: File exists\n",
            "frame has length of  1209\n",
            "100\n",
            "200\n",
            "300\n",
            "400\n",
            "500\n",
            "600\n",
            "700\n",
            "800\n",
            "900\n",
            "1000\n",
            "1100\n",
            "1200\n",
            "Not grabbed.\n",
            "\n",
            "on subject  8\n",
            "in folder  0\n",
            "mkdir: cannot create directory ‘gdrive/My Drive/cohface/frames’: File exists\n",
            "frame has length of  1210\n",
            "100\n",
            "200\n",
            "300\n",
            "400\n",
            "500\n",
            "600\n",
            "700\n",
            "800\n",
            "900\n",
            "1000\n",
            "1100\n",
            "1200\n",
            "Not grabbed.\n",
            "in folder  1\n",
            "mkdir: cannot create directory ‘gdrive/My Drive/cohface/frames’: File exists\n",
            "frame has length of  1209\n",
            "100\n",
            "200\n",
            "300\n",
            "400\n",
            "500\n",
            "600\n",
            "700\n",
            "800\n",
            "900\n",
            "1000\n",
            "1100\n",
            "1200\n",
            "Not grabbed.\n",
            "in folder  2\n",
            "mkdir: cannot create directory ‘gdrive/My Drive/cohface/frames’: File exists\n",
            "frame has length of  1209\n",
            "100\n",
            "200\n",
            "300\n",
            "400\n",
            "500\n",
            "600\n",
            "700\n",
            "800\n",
            "900\n",
            "1000\n",
            "1100\n",
            "1200\n",
            "Not grabbed.\n",
            "in folder  3\n",
            "mkdir: cannot create directory ‘gdrive/My Drive/cohface/frames’: File exists\n",
            "frame has length of  1208\n",
            "100\n",
            "200\n",
            "300\n",
            "400\n",
            "500\n",
            "600\n",
            "700\n",
            "800\n",
            "900\n",
            "1000\n",
            "1100\n",
            "1200\n",
            "Not grabbed.\n",
            "\n",
            "on subject  9\n",
            "in folder  0\n",
            "mkdir: cannot create directory ‘gdrive/My Drive/cohface/frames’: File exists\n",
            "frame has length of  1225\n",
            "100\n",
            "200\n",
            "300\n",
            "400\n",
            "500\n",
            "600\n",
            "700\n",
            "800\n",
            "900\n",
            "1000\n",
            "1100\n",
            "1200\n",
            "Not grabbed.\n",
            "in folder  1\n",
            "mkdir: cannot create directory ‘gdrive/My Drive/cohface/frames’: File exists\n",
            "frame has length of  1242\n",
            "100\n",
            "200\n",
            "300\n",
            "400\n",
            "500\n",
            "600\n",
            "700\n",
            "800\n",
            "900\n",
            "1000\n",
            "1100\n",
            "1200\n",
            "Not grabbed.\n",
            "in folder  2\n",
            "mkdir: cannot create directory ‘gdrive/My Drive/cohface/frames’: File exists\n",
            "frame has length of  1229\n",
            "100\n",
            "200\n",
            "300\n",
            "400\n",
            "500\n",
            "600\n",
            "700\n",
            "800\n",
            "900\n",
            "1000\n",
            "1100\n",
            "1200\n",
            "Not grabbed.\n",
            "in folder  3\n",
            "mkdir: cannot create directory ‘gdrive/My Drive/cohface/frames’: File exists\n",
            "frame has length of  1265\n",
            "100\n",
            "200\n",
            "300\n",
            "400\n",
            "500\n",
            "600\n",
            "700\n",
            "800\n",
            "900\n",
            "1000\n",
            "1100\n",
            "1200\n",
            "Not grabbed.\n",
            "\n",
            "on subject  10\n",
            "in folder  0\n",
            "mkdir: cannot create directory ‘gdrive/My Drive/cohface/frames’: File exists\n"
          ],
          "name": "stdout"
        },
        {
          "output_type": "error",
          "ename": "KeyboardInterrupt",
          "evalue": "ignored",
          "traceback": [
            "\u001b[0;31m---------------------------------------------------------------------------\u001b[0m",
            "\u001b[0;31mKeyboardInterrupt\u001b[0m                         Traceback (most recent call last)",
            "\u001b[0;32m<ipython-input-72-28db26effaf6>\u001b[0m in \u001b[0;36m<module>\u001b[0;34m()\u001b[0m\n\u001b[1;32m      3\u001b[0m   \u001b[0;32mfor\u001b[0m \u001b[0mf\u001b[0m \u001b[0;32min\u001b[0m \u001b[0mrange\u001b[0m\u001b[0;34m(\u001b[0m\u001b[0;36m0\u001b[0m\u001b[0;34m,\u001b[0m\u001b[0;36m4\u001b[0m\u001b[0;34m)\u001b[0m\u001b[0;34m:\u001b[0m\u001b[0;34m\u001b[0m\u001b[0;34m\u001b[0m\u001b[0m\n\u001b[1;32m      4\u001b[0m     \u001b[0mprint\u001b[0m\u001b[0;34m(\u001b[0m\u001b[0;34m'in folder '\u001b[0m\u001b[0;34m,\u001b[0m \u001b[0mf\u001b[0m\u001b[0;34m)\u001b[0m\u001b[0;34m\u001b[0m\u001b[0;34m\u001b[0m\u001b[0m\n\u001b[0;32m----> 5\u001b[0;31m     \u001b[0m_\u001b[0m\u001b[0;34m=\u001b[0m \u001b[0mprepare_data\u001b[0m\u001b[0;34m(\u001b[0m\u001b[0ms\u001b[0m\u001b[0;34m,\u001b[0m\u001b[0mf\u001b[0m\u001b[0;34m)\u001b[0m\u001b[0;34m\u001b[0m\u001b[0;34m\u001b[0m\u001b[0m\n\u001b[0m",
            "\u001b[0;32m<ipython-input-15-fa473a9da888>\u001b[0m in \u001b[0;36mprepare_data\u001b[0;34m(subject, folder)\u001b[0m\n\u001b[1;32m      1\u001b[0m \u001b[0;32mimport\u001b[0m \u001b[0mh5py\u001b[0m\u001b[0;34m\u001b[0m\u001b[0;34m\u001b[0m\u001b[0m\n\u001b[1;32m      2\u001b[0m \u001b[0;32mdef\u001b[0m \u001b[0mprepare_data\u001b[0m\u001b[0;34m(\u001b[0m\u001b[0msubject\u001b[0m\u001b[0;34m,\u001b[0m\u001b[0mfolder\u001b[0m\u001b[0;34m)\u001b[0m\u001b[0;34m:\u001b[0m\u001b[0;34m\u001b[0m\u001b[0;34m\u001b[0m\u001b[0m\n\u001b[0;32m----> 3\u001b[0;31m   \u001b[0msave_face_for\u001b[0m\u001b[0;34m(\u001b[0m\u001b[0msubject\u001b[0m\u001b[0;34m,\u001b[0m\u001b[0mfolder\u001b[0m\u001b[0;34m)\u001b[0m\u001b[0;34m\u001b[0m\u001b[0;34m\u001b[0m\u001b[0m\n\u001b[0m\u001b[1;32m      4\u001b[0m \u001b[0;34m\u001b[0m\u001b[0m\n\u001b[1;32m      5\u001b[0m \u001b[0;32mdef\u001b[0m \u001b[0mget_data\u001b[0m\u001b[0;34m(\u001b[0m\u001b[0msubject\u001b[0m\u001b[0;34m,\u001b[0m\u001b[0mfolder\u001b[0m\u001b[0;34m,\u001b[0m\u001b[0mwindow\u001b[0m\u001b[0;34m=\u001b[0m\u001b[0;36m1000\u001b[0m\u001b[0;34m)\u001b[0m\u001b[0;34m:\u001b[0m\u001b[0;34m\u001b[0m\u001b[0;34m\u001b[0m\u001b[0m\n",
            "\u001b[0;32m<ipython-input-10-fdf995546eaa>\u001b[0m in \u001b[0;36msave_face_for\u001b[0;34m(subject, folder)\u001b[0m\n\u001b[1;32m      5\u001b[0m   \u001b[0mclean\u001b[0m\u001b[0;34m(\u001b[0m\u001b[0;34m)\u001b[0m\u001b[0;34m\u001b[0m\u001b[0;34m\u001b[0m\u001b[0m\n\u001b[1;32m      6\u001b[0m   \u001b[0mcreate_infrastructure\u001b[0m\u001b[0;34m(\u001b[0m\u001b[0;34m)\u001b[0m\u001b[0;34m\u001b[0m\u001b[0;34m\u001b[0m\u001b[0m\n\u001b[0;32m----> 7\u001b[0;31m   \u001b[0mfilepath\u001b[0m \u001b[0;34m=\u001b[0m \u001b[0mgetVideo\u001b[0m\u001b[0;34m(\u001b[0m\u001b[0;34m'gdrive/My\\ Drive/cohface/'\u001b[0m\u001b[0;34m+\u001b[0m\u001b[0mstr\u001b[0m\u001b[0;34m(\u001b[0m\u001b[0msubject\u001b[0m\u001b[0;34m)\u001b[0m\u001b[0;34m+\u001b[0m\u001b[0;34m'/'\u001b[0m\u001b[0;34m+\u001b[0m\u001b[0mstr\u001b[0m\u001b[0;34m(\u001b[0m\u001b[0mfolder\u001b[0m\u001b[0;34m)\u001b[0m\u001b[0;34m+\u001b[0m\u001b[0;34m'/data.avi'\u001b[0m\u001b[0;34m,\u001b[0m\u001b[0mmyid\u001b[0m\u001b[0;34m)\u001b[0m\u001b[0;34m\u001b[0m\u001b[0;34m\u001b[0m\u001b[0m\n\u001b[0m\u001b[1;32m      8\u001b[0m   \u001b[0mfilename\u001b[0m \u001b[0;34m=\u001b[0m \u001b[0mfilepath\u001b[0m\u001b[0;34m.\u001b[0m\u001b[0msplit\u001b[0m\u001b[0;34m(\u001b[0m\u001b[0;34m\"/\"\u001b[0m\u001b[0;34m)\u001b[0m\u001b[0;34m[\u001b[0m\u001b[0;34m-\u001b[0m\u001b[0;36m1\u001b[0m\u001b[0;34m]\u001b[0m\u001b[0;34m\u001b[0m\u001b[0;34m\u001b[0m\u001b[0m\n\u001b[1;32m      9\u001b[0m   \u001b[0mframes\u001b[0m \u001b[0;34m=\u001b[0m \u001b[0manalyze_video\u001b[0m\u001b[0;34m(\u001b[0m\u001b[0mfilename\u001b[0m\u001b[0;34m,\u001b[0m\u001b[0mmyid\u001b[0m\u001b[0;34m)\u001b[0m\u001b[0;34m\u001b[0m\u001b[0;34m\u001b[0m\u001b[0m\n",
            "\u001b[0;32m<ipython-input-5-31ba362fa7fc>\u001b[0m in \u001b[0;36mgetVideo\u001b[0;34m(path, id, faces, bound, resized, temp)\u001b[0m\n\u001b[1;32m     22\u001b[0m   \u001b[0msource\u001b[0m   \u001b[0;34m=\u001b[0m \u001b[0;34m\"'\"\u001b[0m \u001b[0;34m+\u001b[0m \u001b[0mpath\u001b[0m \u001b[0;34m+\u001b[0m \u001b[0;34m\"'\"\u001b[0m\u001b[0;34m\u001b[0m\u001b[0;34m\u001b[0m\u001b[0m\n\u001b[1;32m     23\u001b[0m   \u001b[0;31m#print(\"!cp\" + \" \" + source + \" \" + target)\u001b[0m\u001b[0;34m\u001b[0m\u001b[0;34m\u001b[0m\u001b[0;34m\u001b[0m\u001b[0m\n\u001b[0;32m---> 24\u001b[0;31m   \u001b[0mget_ipython\u001b[0m\u001b[0;34m(\u001b[0m\u001b[0;34m)\u001b[0m\u001b[0;34m.\u001b[0m\u001b[0msystem\u001b[0m\u001b[0;34m(\u001b[0m\u001b[0;34m'cp $path $target'\u001b[0m\u001b[0;34m)\u001b[0m\u001b[0;34m\u001b[0m\u001b[0;34m\u001b[0m\u001b[0m\n\u001b[0m\u001b[1;32m     25\u001b[0m   \u001b[0;32mreturn\u001b[0m \u001b[0mtemp\u001b[0m \u001b[0;34m+\u001b[0m \u001b[0;34m'/'\u001b[0m \u001b[0;34m+\u001b[0m \u001b[0mid\u001b[0m \u001b[0;34m+\u001b[0m \u001b[0;34m'.'\u001b[0m \u001b[0;34m+\u001b[0m \u001b[0mfiletype\u001b[0m\u001b[0;34m\u001b[0m\u001b[0;34m\u001b[0m\u001b[0m\n",
            "\u001b[0;32m/usr/local/lib/python3.6/dist-packages/google/colab/_shell.py\u001b[0m in \u001b[0;36msystem\u001b[0;34m(self, *args, **kwargs)\u001b[0m\n\u001b[1;32m     94\u001b[0m       \u001b[0mkwargs\u001b[0m\u001b[0;34m.\u001b[0m\u001b[0mupdate\u001b[0m\u001b[0;34m(\u001b[0m\u001b[0;34m{\u001b[0m\u001b[0;34m'also_return_output'\u001b[0m\u001b[0;34m:\u001b[0m \u001b[0;32mTrue\u001b[0m\u001b[0;34m}\u001b[0m\u001b[0;34m)\u001b[0m\u001b[0;34m\u001b[0m\u001b[0;34m\u001b[0m\u001b[0m\n\u001b[1;32m     95\u001b[0m \u001b[0;34m\u001b[0m\u001b[0m\n\u001b[0;32m---> 96\u001b[0;31m     \u001b[0moutput\u001b[0m \u001b[0;34m=\u001b[0m \u001b[0m_system_commands\u001b[0m\u001b[0;34m.\u001b[0m\u001b[0m_system_compat\u001b[0m\u001b[0;34m(\u001b[0m\u001b[0mself\u001b[0m\u001b[0;34m,\u001b[0m \u001b[0;34m*\u001b[0m\u001b[0margs\u001b[0m\u001b[0;34m,\u001b[0m \u001b[0;34m**\u001b[0m\u001b[0mkwargs\u001b[0m\u001b[0;34m)\u001b[0m  \u001b[0;31m# pylint:disable=protected-access\u001b[0m\u001b[0;34m\u001b[0m\u001b[0;34m\u001b[0m\u001b[0m\n\u001b[0m\u001b[1;32m     97\u001b[0m \u001b[0;34m\u001b[0m\u001b[0m\n\u001b[1;32m     98\u001b[0m     \u001b[0;32mif\u001b[0m \u001b[0mpip_warn\u001b[0m\u001b[0;34m:\u001b[0m\u001b[0;34m\u001b[0m\u001b[0;34m\u001b[0m\u001b[0m\n",
            "\u001b[0;32m/usr/local/lib/python3.6/dist-packages/google/colab/_system_commands.py\u001b[0m in \u001b[0;36m_system_compat\u001b[0;34m(shell, cmd, also_return_output)\u001b[0m\n\u001b[1;32m    436\u001b[0m   \u001b[0;31m# stack.\u001b[0m\u001b[0;34m\u001b[0m\u001b[0;34m\u001b[0m\u001b[0;34m\u001b[0m\u001b[0m\n\u001b[1;32m    437\u001b[0m   result = _run_command(\n\u001b[0;32m--> 438\u001b[0;31m       shell.var_expand(cmd, depth=2), clear_streamed_output=False)\n\u001b[0m\u001b[1;32m    439\u001b[0m   \u001b[0mshell\u001b[0m\u001b[0;34m.\u001b[0m\u001b[0muser_ns\u001b[0m\u001b[0;34m[\u001b[0m\u001b[0;34m'_exit_code'\u001b[0m\u001b[0;34m]\u001b[0m \u001b[0;34m=\u001b[0m \u001b[0mresult\u001b[0m\u001b[0;34m.\u001b[0m\u001b[0mreturncode\u001b[0m\u001b[0;34m\u001b[0m\u001b[0;34m\u001b[0m\u001b[0m\n\u001b[1;32m    440\u001b[0m   \u001b[0;32mif\u001b[0m \u001b[0;34m-\u001b[0m\u001b[0mresult\u001b[0m\u001b[0;34m.\u001b[0m\u001b[0mreturncode\u001b[0m \u001b[0;32min\u001b[0m \u001b[0m_INTERRUPTED_SIGNALS\u001b[0m\u001b[0;34m:\u001b[0m\u001b[0;34m\u001b[0m\u001b[0;34m\u001b[0m\u001b[0m\n",
            "\u001b[0;32m/usr/local/lib/python3.6/dist-packages/google/colab/_system_commands.py\u001b[0m in \u001b[0;36m_run_command\u001b[0;34m(cmd, clear_streamed_output)\u001b[0m\n\u001b[1;32m    179\u001b[0m \u001b[0;34m\u001b[0m\u001b[0m\n\u001b[1;32m    180\u001b[0m     with temporary_clearer(), _display_stdin_widget(\n\u001b[0;32m--> 181\u001b[0;31m         delay_millis=500) as update_stdin_widget:\n\u001b[0m\u001b[1;32m    182\u001b[0m       \u001b[0;31m# TODO(b/115531839): Ensure that subprocesses are terminated upon\u001b[0m\u001b[0;34m\u001b[0m\u001b[0;34m\u001b[0m\u001b[0;34m\u001b[0m\u001b[0m\n\u001b[1;32m    183\u001b[0m       \u001b[0;31m# interrupt.\u001b[0m\u001b[0;34m\u001b[0m\u001b[0;34m\u001b[0m\u001b[0;34m\u001b[0m\u001b[0m\n",
            "\u001b[0;32m/usr/lib/python3.6/contextlib.py\u001b[0m in \u001b[0;36m__enter__\u001b[0;34m(self)\u001b[0m\n\u001b[1;32m     79\u001b[0m     \u001b[0;32mdef\u001b[0m \u001b[0m__enter__\u001b[0m\u001b[0;34m(\u001b[0m\u001b[0mself\u001b[0m\u001b[0;34m)\u001b[0m\u001b[0;34m:\u001b[0m\u001b[0;34m\u001b[0m\u001b[0;34m\u001b[0m\u001b[0m\n\u001b[1;32m     80\u001b[0m         \u001b[0;32mtry\u001b[0m\u001b[0;34m:\u001b[0m\u001b[0;34m\u001b[0m\u001b[0;34m\u001b[0m\u001b[0m\n\u001b[0;32m---> 81\u001b[0;31m             \u001b[0;32mreturn\u001b[0m \u001b[0mnext\u001b[0m\u001b[0;34m(\u001b[0m\u001b[0mself\u001b[0m\u001b[0;34m.\u001b[0m\u001b[0mgen\u001b[0m\u001b[0;34m)\u001b[0m\u001b[0;34m\u001b[0m\u001b[0;34m\u001b[0m\u001b[0m\n\u001b[0m\u001b[1;32m     82\u001b[0m         \u001b[0;32mexcept\u001b[0m \u001b[0mStopIteration\u001b[0m\u001b[0;34m:\u001b[0m\u001b[0;34m\u001b[0m\u001b[0;34m\u001b[0m\u001b[0m\n\u001b[1;32m     83\u001b[0m             \u001b[0;32mraise\u001b[0m \u001b[0mRuntimeError\u001b[0m\u001b[0;34m(\u001b[0m\u001b[0;34m\"generator didn't yield\"\u001b[0m\u001b[0;34m)\u001b[0m \u001b[0;32mfrom\u001b[0m \u001b[0;32mNone\u001b[0m\u001b[0;34m\u001b[0m\u001b[0;34m\u001b[0m\u001b[0m\n",
            "\u001b[0;32m/usr/local/lib/python3.6/dist-packages/google/colab/_system_commands.py\u001b[0m in \u001b[0;36m_display_stdin_widget\u001b[0;34m(delay_millis)\u001b[0m\n\u001b[1;32m    339\u001b[0m   \u001b[0mshell\u001b[0m \u001b[0;34m=\u001b[0m \u001b[0m_ipython\u001b[0m\u001b[0;34m.\u001b[0m\u001b[0mget_ipython\u001b[0m\u001b[0;34m(\u001b[0m\u001b[0;34m)\u001b[0m\u001b[0;34m\u001b[0m\u001b[0;34m\u001b[0m\u001b[0m\n\u001b[1;32m    340\u001b[0m   \u001b[0mdisplay_args\u001b[0m \u001b[0;34m=\u001b[0m \u001b[0;34m[\u001b[0m\u001b[0;34m'cell_display_stdin'\u001b[0m\u001b[0;34m,\u001b[0m \u001b[0;34m{\u001b[0m\u001b[0;34m'delayMillis'\u001b[0m\u001b[0;34m:\u001b[0m \u001b[0mdelay_millis\u001b[0m\u001b[0;34m}\u001b[0m\u001b[0;34m]\u001b[0m\u001b[0;34m\u001b[0m\u001b[0;34m\u001b[0m\u001b[0m\n\u001b[0;32m--> 341\u001b[0;31m   \u001b[0m_message\u001b[0m\u001b[0;34m.\u001b[0m\u001b[0mblocking_request\u001b[0m\u001b[0;34m(\u001b[0m\u001b[0;34m*\u001b[0m\u001b[0mdisplay_args\u001b[0m\u001b[0;34m,\u001b[0m \u001b[0mparent\u001b[0m\u001b[0;34m=\u001b[0m\u001b[0mshell\u001b[0m\u001b[0;34m.\u001b[0m\u001b[0mparent_header\u001b[0m\u001b[0;34m)\u001b[0m\u001b[0;34m\u001b[0m\u001b[0;34m\u001b[0m\u001b[0m\n\u001b[0m\u001b[1;32m    342\u001b[0m \u001b[0;34m\u001b[0m\u001b[0m\n\u001b[1;32m    343\u001b[0m   \u001b[0;32mdef\u001b[0m \u001b[0mecho_updater\u001b[0m\u001b[0;34m(\u001b[0m\u001b[0mnew_echo_status\u001b[0m\u001b[0;34m)\u001b[0m\u001b[0;34m:\u001b[0m\u001b[0;34m\u001b[0m\u001b[0;34m\u001b[0m\u001b[0m\n",
            "\u001b[0;32m/usr/local/lib/python3.6/dist-packages/google/colab/_message.py\u001b[0m in \u001b[0;36mblocking_request\u001b[0;34m(request_type, request, timeout_sec, parent)\u001b[0m\n\u001b[1;32m    169\u001b[0m   \u001b[0;31m# unique.\u001b[0m\u001b[0;34m\u001b[0m\u001b[0;34m\u001b[0m\u001b[0;34m\u001b[0m\u001b[0m\n\u001b[1;32m    170\u001b[0m   \u001b[0mrequest_id\u001b[0m \u001b[0;34m=\u001b[0m \u001b[0msend_request\u001b[0m\u001b[0;34m(\u001b[0m\u001b[0mrequest_type\u001b[0m\u001b[0;34m,\u001b[0m \u001b[0mrequest\u001b[0m\u001b[0;34m,\u001b[0m \u001b[0mparent\u001b[0m\u001b[0;34m=\u001b[0m\u001b[0mparent\u001b[0m\u001b[0;34m)\u001b[0m\u001b[0;34m\u001b[0m\u001b[0;34m\u001b[0m\u001b[0m\n\u001b[0;32m--> 171\u001b[0;31m   \u001b[0;32mreturn\u001b[0m \u001b[0mread_reply_from_input\u001b[0m\u001b[0;34m(\u001b[0m\u001b[0mrequest_id\u001b[0m\u001b[0;34m,\u001b[0m \u001b[0mtimeout_sec\u001b[0m\u001b[0;34m)\u001b[0m\u001b[0;34m\u001b[0m\u001b[0;34m\u001b[0m\u001b[0m\n\u001b[0m",
            "\u001b[0;32m/usr/local/lib/python3.6/dist-packages/google/colab/_message.py\u001b[0m in \u001b[0;36mread_reply_from_input\u001b[0;34m(message_id, timeout_sec)\u001b[0m\n\u001b[1;32m     99\u001b[0m     \u001b[0mreply\u001b[0m \u001b[0;34m=\u001b[0m \u001b[0m_read_next_input_message\u001b[0m\u001b[0;34m(\u001b[0m\u001b[0;34m)\u001b[0m\u001b[0;34m\u001b[0m\u001b[0;34m\u001b[0m\u001b[0m\n\u001b[1;32m    100\u001b[0m     \u001b[0;32mif\u001b[0m \u001b[0mreply\u001b[0m \u001b[0;34m==\u001b[0m \u001b[0m_NOT_READY\u001b[0m \u001b[0;32mor\u001b[0m \u001b[0;32mnot\u001b[0m \u001b[0misinstance\u001b[0m\u001b[0;34m(\u001b[0m\u001b[0mreply\u001b[0m\u001b[0;34m,\u001b[0m \u001b[0mdict\u001b[0m\u001b[0;34m)\u001b[0m\u001b[0;34m:\u001b[0m\u001b[0;34m\u001b[0m\u001b[0;34m\u001b[0m\u001b[0m\n\u001b[0;32m--> 101\u001b[0;31m       \u001b[0mtime\u001b[0m\u001b[0;34m.\u001b[0m\u001b[0msleep\u001b[0m\u001b[0;34m(\u001b[0m\u001b[0;36m0.025\u001b[0m\u001b[0;34m)\u001b[0m\u001b[0;34m\u001b[0m\u001b[0;34m\u001b[0m\u001b[0m\n\u001b[0m\u001b[1;32m    102\u001b[0m       \u001b[0;32mcontinue\u001b[0m\u001b[0;34m\u001b[0m\u001b[0;34m\u001b[0m\u001b[0m\n\u001b[1;32m    103\u001b[0m     if (reply.get('type') == 'colab_reply' and\n",
            "\u001b[0;31mKeyboardInterrupt\u001b[0m: "
          ]
        }
      ]
    },
    {
      "cell_type": "code",
      "metadata": {
        "id": "W2niCEfkW0Pc",
        "colab_type": "code",
        "colab": {}
      },
      "source": [
        "losses = []"
      ],
      "execution_count": 0,
      "outputs": []
    },
    {
      "cell_type": "code",
      "metadata": {
        "id": "JXdqpn8mY6G3",
        "colab_type": "code",
        "colab": {}
      },
      "source": [
        "with open('gdrive/My\\ Drive/Project/Extractor_1_3, 'rb') as f:\n",
        "    x = pickle.load(f)\n",
        "load = True"
      ],
      "execution_count": 0,
      "outputs": []
    },
    {
      "cell_type": "code",
      "metadata": {
        "id": "s1DfvHTdtjbW",
        "colab_type": "code",
        "outputId": "949cc61c-a829-4e50-cacf-c5e85c15d965",
        "colab": {
          "base_uri": "https://localhost:8080/",
          "height": 1000
        }
      },
      "source": [
        "import warnings\n",
        "warnings.simplefilter('ignore', np.RankWarning)\n",
        "\n",
        "\n",
        "if load:\n",
        "  net = x\n",
        "else:\n",
        "  net = Extractor()\n",
        "  net.name = \"Extractor_1_3\"\n",
        "\n",
        "net.to('cuda:0')\n",
        "\n",
        "\n",
        "for s in range(1,3):\n",
        "  print('\\non subject ', s)\n",
        "  for f in range(0,4):\n",
        "    print('in folder ', f)\n",
        "    dataset = get_data(s,f)\n",
        "    print('\\nstart training')\n",
        "    imgs = torch.Tensor(list(map(lambda x: x[0], dataset)))\n",
        "    labels = torch.LongTensor(list(map(lambda x: x[1], dataset)))\n",
        "\n",
        "    step = 10\n",
        "    for i in range(0,len(imgs),step):\n",
        "      if i+step >= len(imgs):\n",
        "        break\n",
        "      if(i%len(imgs)/250 == 0):\n",
        "        print(i)\n",
        "      L = train(net,imgs[i:i+step],labels[i:i+step],get_cost_function(),optimizer=get_optimizer(net),batch_size = 5)\n",
        "      losses.append(L)\n",
        "  \n",
        "    net.save()\n",
        "\n",
        "plt.plot(losses)"
      ],
      "execution_count": 25,
      "outputs": [
        {
          "output_type": "stream",
          "text": [
            "\n",
            "on subject  1\n",
            "in folder  0\n",
            "\n",
            "get data for subject 1 folder 0\n",
            "\n",
            "on subject  1\n",
            "in folder  0\n",
            "\n",
            "get data for subject 1 folder 0\n",
            "cleaning\n",
            "100%\n",
            "\n",
            "start training\n",
            "cleaning\n",
            "100%\n",
            "\n",
            "start training\n",
            "0\n",
            "0\n",
            "in folder  1\n",
            "\n",
            "get data for subject 1 folder 1\n",
            "in folder  1\n",
            "\n",
            "get data for subject 1 folder 1\n",
            "cleaning\n",
            "100%\n",
            "\n",
            "start training\n",
            "cleaning\n",
            "100%\n",
            "\n",
            "start training\n",
            "0\n",
            "0\n",
            "in folder  2\n",
            "\n",
            "get data for subject 1 folder 2\n",
            "in folder  2\n",
            "\n",
            "get data for subject 1 folder 2\n",
            "cleaning\n",
            "100%\n",
            "\n",
            "start training\n",
            "cleaning\n",
            "100%\n",
            "\n",
            "start training\n",
            "0\n",
            "0\n",
            "in folder  3\n",
            "\n",
            "get data for subject 1 folder 3\n",
            "in folder  3\n",
            "\n",
            "get data for subject 1 folder 3\n",
            "cleaning\n",
            "100%\n",
            "\n",
            "start training\n",
            "cleaning\n",
            "100%\n",
            "\n",
            "start training\n",
            "0\n",
            "0\n",
            "mkdir: cannot create directory ‘gdrive/My Drive/Project/’: File exists\n",
            "mkdir: cannot create directory ‘gdrive/My Drive/Project/’: File exists\n",
            "\n",
            "saving network under:\n",
            " gdrive/My Drive/Project//Extractor_1_3.pickle\n",
            "\n",
            "saving network under:\n",
            " gdrive/My Drive/Project//Extractor_1_3.pickle\n",
            "\n",
            "on subject  2\n",
            "in folder  0\n",
            "\n",
            "get data for subject 2 folder 0\n",
            "\n",
            "on subject  2\n",
            "in folder  0\n",
            "\n",
            "get data for subject 2 folder 0\n",
            "cleaning\n",
            "100%\n",
            "\n",
            "start training\n",
            "cleaning\n",
            "100%\n",
            "\n",
            "start training\n",
            "0\n",
            "0\n",
            "in folder  1\n",
            "\n",
            "get data for subject 2 folder 1\n",
            "in folder  1\n",
            "\n",
            "get data for subject 2 folder 1\n",
            "cleaning\n",
            "100%\n",
            "\n",
            "start training\n",
            "cleaning\n",
            "100%\n",
            "\n",
            "start training\n",
            "0\n",
            "0\n",
            "in folder  2\n",
            "\n",
            "get data for subject 2 folder 2\n",
            "in folder  2\n",
            "\n",
            "get data for subject 2 folder 2\n",
            "cleaning\n",
            "100%\n",
            "\n",
            "start training\n",
            "cleaning\n",
            "100%\n",
            "\n",
            "start training\n",
            "0\n",
            "0\n",
            "in folder  3\n",
            "\n",
            "get data for subject 2 folder 3\n",
            "in folder  3\n",
            "\n",
            "get data for subject 2 folder 3\n",
            "cleaning\n",
            "100%\n",
            "\n",
            "start training\n",
            "cleaning\n",
            "100%\n",
            "\n",
            "start training\n",
            "0\n",
            "0\n"
          ],
          "name": "stdout"
        },
        {
          "output_type": "error",
          "ename": "KeyboardInterrupt",
          "evalue": "ignored",
          "traceback": [
            "\u001b[0;31m---------------------------------------------------------------------------\u001b[0m",
            "\u001b[0;31mKeyboardInterrupt\u001b[0m                         Traceback (most recent call last)",
            "\u001b[0;32m<ipython-input-25-031c3a94b187>\u001b[0m in \u001b[0;36m<module>\u001b[0;34m()\u001b[0m\n\u001b[1;32m     22\u001b[0m       \u001b[0;32mif\u001b[0m\u001b[0;34m(\u001b[0m\u001b[0mi\u001b[0m\u001b[0;34m%\u001b[0m\u001b[0mlen\u001b[0m\u001b[0;34m(\u001b[0m\u001b[0mimgs\u001b[0m\u001b[0;34m)\u001b[0m\u001b[0;34m/\u001b[0m\u001b[0;36m250\u001b[0m \u001b[0;34m==\u001b[0m \u001b[0;36m0\u001b[0m\u001b[0;34m)\u001b[0m\u001b[0;34m:\u001b[0m\u001b[0;34m\u001b[0m\u001b[0;34m\u001b[0m\u001b[0m\n\u001b[1;32m     23\u001b[0m         \u001b[0mprint\u001b[0m\u001b[0;34m(\u001b[0m\u001b[0mi\u001b[0m\u001b[0;34m)\u001b[0m\u001b[0;34m\u001b[0m\u001b[0;34m\u001b[0m\u001b[0m\n\u001b[0;32m---> 24\u001b[0;31m       \u001b[0mL\u001b[0m \u001b[0;34m=\u001b[0m \u001b[0mtrain\u001b[0m\u001b[0;34m(\u001b[0m\u001b[0mnet\u001b[0m\u001b[0;34m,\u001b[0m\u001b[0mimgs\u001b[0m\u001b[0;34m[\u001b[0m\u001b[0mi\u001b[0m\u001b[0;34m:\u001b[0m\u001b[0mi\u001b[0m\u001b[0;34m+\u001b[0m\u001b[0mstep\u001b[0m\u001b[0;34m]\u001b[0m\u001b[0;34m,\u001b[0m\u001b[0mlabels\u001b[0m\u001b[0;34m[\u001b[0m\u001b[0mi\u001b[0m\u001b[0;34m:\u001b[0m\u001b[0mi\u001b[0m\u001b[0;34m+\u001b[0m\u001b[0mstep\u001b[0m\u001b[0;34m]\u001b[0m\u001b[0;34m,\u001b[0m\u001b[0mget_cost_function\u001b[0m\u001b[0;34m(\u001b[0m\u001b[0;34m)\u001b[0m\u001b[0;34m,\u001b[0m\u001b[0moptimizer\u001b[0m\u001b[0;34m=\u001b[0m\u001b[0mget_optimizer\u001b[0m\u001b[0;34m(\u001b[0m\u001b[0mnet\u001b[0m\u001b[0;34m)\u001b[0m\u001b[0;34m,\u001b[0m\u001b[0mbatch_size\u001b[0m \u001b[0;34m=\u001b[0m \u001b[0;36m5\u001b[0m\u001b[0;34m)\u001b[0m\u001b[0;34m\u001b[0m\u001b[0;34m\u001b[0m\u001b[0m\n\u001b[0m\u001b[1;32m     25\u001b[0m       \u001b[0mlosses\u001b[0m\u001b[0;34m.\u001b[0m\u001b[0mappend\u001b[0m\u001b[0;34m(\u001b[0m\u001b[0mL\u001b[0m\u001b[0;34m)\u001b[0m\u001b[0;34m\u001b[0m\u001b[0;34m\u001b[0m\u001b[0m\n\u001b[1;32m     26\u001b[0m \u001b[0;34m\u001b[0m\u001b[0m\n",
            "\u001b[0;32m<ipython-input-23-8debdaaf57d9>\u001b[0m in \u001b[0;36mtrain\u001b[0;34m(net, t_data, t_labels, cost_function, optimizer, batch_size, device)\u001b[0m\n\u001b[1;32m     24\u001b[0m \u001b[0;34m\u001b[0m\u001b[0m\n\u001b[1;32m     25\u001b[0m   \u001b[0;31m# Apply the loss (h,X,f,Phi,F,d=5)\u001b[0m\u001b[0;34m\u001b[0m\u001b[0;34m\u001b[0m\u001b[0;34m\u001b[0m\u001b[0m\n\u001b[0;32m---> 26\u001b[0;31m   \u001b[0mloss\u001b[0m \u001b[0;34m=\u001b[0m \u001b[0mcost_function\u001b[0m\u001b[0;34m(\u001b[0m\u001b[0mnet\u001b[0m\u001b[0;34m,\u001b[0m\u001b[0minputs\u001b[0m\u001b[0;34m,\u001b[0m\u001b[0mtargets\u001b[0m\u001b[0;34m,\u001b[0m\u001b[0mF\u001b[0m\u001b[0;34m,\u001b[0m\u001b[0md\u001b[0m\u001b[0;34m=\u001b[0m\u001b[0;36m6\u001b[0m\u001b[0;34m)\u001b[0m\u001b[0;34m\u001b[0m\u001b[0;34m\u001b[0m\u001b[0m\n\u001b[0m\u001b[1;32m     27\u001b[0m \u001b[0;34m\u001b[0m\u001b[0m\n\u001b[1;32m     28\u001b[0m   \u001b[0;31m# Backward pass\u001b[0m\u001b[0;34m\u001b[0m\u001b[0;34m\u001b[0m\u001b[0;34m\u001b[0m\u001b[0m\n",
            "\u001b[0;32m<ipython-input-18-e98c935a2fa0>\u001b[0m in \u001b[0;36mloss_function\u001b[0;34m(h, X, f, F, d)\u001b[0m\n\u001b[1;32m      8\u001b[0m   \u001b[0;31m#print('true hr', f[:,-1])\u001b[0m\u001b[0;34m\u001b[0m\u001b[0;34m\u001b[0m\u001b[0;34m\u001b[0m\u001b[0m\n\u001b[1;32m      9\u001b[0m \u001b[0;34m\u001b[0m\u001b[0m\n\u001b[0;32m---> 10\u001b[0;31m   \u001b[0mliste\u001b[0m \u001b[0;34m=\u001b[0m \u001b[0mlist\u001b[0m\u001b[0;34m(\u001b[0m\u001b[0mmap\u001b[0m\u001b[0;34m(\u001b[0m\u001b[0;32mlambda\u001b[0m \u001b[0mx\u001b[0m\u001b[0;34m,\u001b[0m\u001b[0my\u001b[0m\u001b[0;34m:\u001b[0m\u001b[0mSNR\u001b[0m\u001b[0;34m(\u001b[0m\u001b[0mx\u001b[0m\u001b[0;34m.\u001b[0m\u001b[0mitem\u001b[0m\u001b[0;34m(\u001b[0m\u001b[0;34m)\u001b[0m\u001b[0;34m,\u001b[0m\u001b[0my\u001b[0m\u001b[0;34m,\u001b[0m\u001b[0mF\u001b[0m\u001b[0;34m,\u001b[0m\u001b[0md\u001b[0m\u001b[0;34m,\u001b[0m\u001b[0mh\u001b[0m\u001b[0;34m)\u001b[0m\u001b[0;34m,\u001b[0m\u001b[0mf\u001b[0m\u001b[0;34m[\u001b[0m\u001b[0;34m:\u001b[0m\u001b[0;34m,\u001b[0m\u001b[0;34m-\u001b[0m\u001b[0;36m1\u001b[0m\u001b[0;34m]\u001b[0m\u001b[0;34m,\u001b[0m\u001b[0mX\u001b[0m\u001b[0;34m)\u001b[0m\u001b[0;34m)\u001b[0m\u001b[0;34m\u001b[0m\u001b[0;34m\u001b[0m\u001b[0m\n\u001b[0m\u001b[1;32m     11\u001b[0m \u001b[0;34m\u001b[0m\u001b[0m\n\u001b[1;32m     12\u001b[0m   \u001b[0mresult\u001b[0m \u001b[0;34m=\u001b[0m \u001b[0;34m-\u001b[0m\u001b[0;36m1\u001b[0m\u001b[0;34m*\u001b[0m\u001b[0msum\u001b[0m\u001b[0;34m(\u001b[0m\u001b[0mliste\u001b[0m\u001b[0;34m)\u001b[0m\u001b[0;34m/\u001b[0m\u001b[0ml\u001b[0m\u001b[0;34m\u001b[0m\u001b[0;34m\u001b[0m\u001b[0m\n",
            "\u001b[0;32m<ipython-input-18-e98c935a2fa0>\u001b[0m in \u001b[0;36m<lambda>\u001b[0;34m(x, y)\u001b[0m\n\u001b[1;32m      8\u001b[0m   \u001b[0;31m#print('true hr', f[:,-1])\u001b[0m\u001b[0;34m\u001b[0m\u001b[0;34m\u001b[0m\u001b[0;34m\u001b[0m\u001b[0m\n\u001b[1;32m      9\u001b[0m \u001b[0;34m\u001b[0m\u001b[0m\n\u001b[0;32m---> 10\u001b[0;31m   \u001b[0mliste\u001b[0m \u001b[0;34m=\u001b[0m \u001b[0mlist\u001b[0m\u001b[0;34m(\u001b[0m\u001b[0mmap\u001b[0m\u001b[0;34m(\u001b[0m\u001b[0;32mlambda\u001b[0m \u001b[0mx\u001b[0m\u001b[0;34m,\u001b[0m\u001b[0my\u001b[0m\u001b[0;34m:\u001b[0m\u001b[0mSNR\u001b[0m\u001b[0;34m(\u001b[0m\u001b[0mx\u001b[0m\u001b[0;34m.\u001b[0m\u001b[0mitem\u001b[0m\u001b[0;34m(\u001b[0m\u001b[0;34m)\u001b[0m\u001b[0;34m,\u001b[0m\u001b[0my\u001b[0m\u001b[0;34m,\u001b[0m\u001b[0mF\u001b[0m\u001b[0;34m,\u001b[0m\u001b[0md\u001b[0m\u001b[0;34m,\u001b[0m\u001b[0mh\u001b[0m\u001b[0;34m)\u001b[0m\u001b[0;34m,\u001b[0m\u001b[0mf\u001b[0m\u001b[0;34m[\u001b[0m\u001b[0;34m:\u001b[0m\u001b[0;34m,\u001b[0m\u001b[0;34m-\u001b[0m\u001b[0;36m1\u001b[0m\u001b[0;34m]\u001b[0m\u001b[0;34m,\u001b[0m\u001b[0mX\u001b[0m\u001b[0;34m)\u001b[0m\u001b[0;34m)\u001b[0m\u001b[0;34m\u001b[0m\u001b[0;34m\u001b[0m\u001b[0m\n\u001b[0m\u001b[1;32m     11\u001b[0m \u001b[0;34m\u001b[0m\u001b[0m\n\u001b[1;32m     12\u001b[0m   \u001b[0mresult\u001b[0m \u001b[0;34m=\u001b[0m \u001b[0;34m-\u001b[0m\u001b[0;36m1\u001b[0m\u001b[0;34m*\u001b[0m\u001b[0msum\u001b[0m\u001b[0;34m(\u001b[0m\u001b[0mliste\u001b[0m\u001b[0;34m)\u001b[0m\u001b[0;34m/\u001b[0m\u001b[0ml\u001b[0m\u001b[0;34m\u001b[0m\u001b[0;34m\u001b[0m\u001b[0m\n",
            "\u001b[0;32m<ipython-input-17-65f35565d3f9>\u001b[0m in \u001b[0;36mSNR\u001b[0;34m(f, X, F, d, h)\u001b[0m\n\u001b[1;32m     18\u001b[0m \u001b[0;34m\u001b[0m\u001b[0m\n\u001b[1;32m     19\u001b[0m   \u001b[0mresult1\u001b[0m \u001b[0;34m=\u001b[0m \u001b[0msum\u001b[0m\u001b[0;34m(\u001b[0m\u001b[0mlist\u001b[0m\u001b[0;34m(\u001b[0m\u001b[0mmap\u001b[0m\u001b[0;34m(\u001b[0m\u001b[0;32mlambda\u001b[0m \u001b[0mx\u001b[0m\u001b[0;34m:\u001b[0m\u001b[0mPSD\u001b[0m\u001b[0;34m(\u001b[0m\u001b[0mx\u001b[0m\u001b[0;34m,\u001b[0m\u001b[0mX\u001b[0m\u001b[0;34m,\u001b[0m\u001b[0mh\u001b[0m\u001b[0;34m,\u001b[0m\u001b[0mn\u001b[0m\u001b[0;34m)\u001b[0m\u001b[0;34m,\u001b[0m\u001b[0mFplus\u001b[0m\u001b[0;34m)\u001b[0m\u001b[0;34m)\u001b[0m\u001b[0;34m)\u001b[0m\u001b[0;34m\u001b[0m\u001b[0;34m\u001b[0m\u001b[0m\n\u001b[0;32m---> 20\u001b[0;31m   \u001b[0mresult2\u001b[0m \u001b[0;34m=\u001b[0m \u001b[0msum\u001b[0m\u001b[0;34m(\u001b[0m\u001b[0mlist\u001b[0m\u001b[0;34m(\u001b[0m\u001b[0mmap\u001b[0m\u001b[0;34m(\u001b[0m\u001b[0;32mlambda\u001b[0m \u001b[0mx\u001b[0m\u001b[0;34m:\u001b[0m\u001b[0mPSD\u001b[0m\u001b[0;34m(\u001b[0m\u001b[0mx\u001b[0m\u001b[0;34m,\u001b[0m\u001b[0mX\u001b[0m\u001b[0;34m,\u001b[0m\u001b[0mh\u001b[0m\u001b[0;34m,\u001b[0m\u001b[0mn\u001b[0m\u001b[0;34m)\u001b[0m\u001b[0;34m,\u001b[0m\u001b[0mFminus\u001b[0m\u001b[0;34m)\u001b[0m\u001b[0;34m)\u001b[0m\u001b[0;34m)\u001b[0m\u001b[0;34m\u001b[0m\u001b[0;34m\u001b[0m\u001b[0m\n\u001b[0m\u001b[1;32m     21\u001b[0m \u001b[0;34m\u001b[0m\u001b[0m\n\u001b[1;32m     22\u001b[0m   \u001b[0mresult\u001b[0m \u001b[0;34m=\u001b[0m \u001b[0;36m10\u001b[0m\u001b[0;34m*\u001b[0m\u001b[0mtorch\u001b[0m\u001b[0;34m.\u001b[0m\u001b[0mlog10\u001b[0m\u001b[0;34m(\u001b[0m\u001b[0mresult1\u001b[0m\u001b[0;34m/\u001b[0m\u001b[0mresult2\u001b[0m\u001b[0;34m)\u001b[0m\u001b[0;34m\u001b[0m\u001b[0;34m\u001b[0m\u001b[0m\n",
            "\u001b[0;32m<ipython-input-17-65f35565d3f9>\u001b[0m in \u001b[0;36m<lambda>\u001b[0;34m(x)\u001b[0m\n\u001b[1;32m     18\u001b[0m \u001b[0;34m\u001b[0m\u001b[0m\n\u001b[1;32m     19\u001b[0m   \u001b[0mresult1\u001b[0m \u001b[0;34m=\u001b[0m \u001b[0msum\u001b[0m\u001b[0;34m(\u001b[0m\u001b[0mlist\u001b[0m\u001b[0;34m(\u001b[0m\u001b[0mmap\u001b[0m\u001b[0;34m(\u001b[0m\u001b[0;32mlambda\u001b[0m \u001b[0mx\u001b[0m\u001b[0;34m:\u001b[0m\u001b[0mPSD\u001b[0m\u001b[0;34m(\u001b[0m\u001b[0mx\u001b[0m\u001b[0;34m,\u001b[0m\u001b[0mX\u001b[0m\u001b[0;34m,\u001b[0m\u001b[0mh\u001b[0m\u001b[0;34m,\u001b[0m\u001b[0mn\u001b[0m\u001b[0;34m)\u001b[0m\u001b[0;34m,\u001b[0m\u001b[0mFplus\u001b[0m\u001b[0;34m)\u001b[0m\u001b[0;34m)\u001b[0m\u001b[0;34m)\u001b[0m\u001b[0;34m\u001b[0m\u001b[0;34m\u001b[0m\u001b[0m\n\u001b[0;32m---> 20\u001b[0;31m   \u001b[0mresult2\u001b[0m \u001b[0;34m=\u001b[0m \u001b[0msum\u001b[0m\u001b[0;34m(\u001b[0m\u001b[0mlist\u001b[0m\u001b[0;34m(\u001b[0m\u001b[0mmap\u001b[0m\u001b[0;34m(\u001b[0m\u001b[0;32mlambda\u001b[0m \u001b[0mx\u001b[0m\u001b[0;34m:\u001b[0m\u001b[0mPSD\u001b[0m\u001b[0;34m(\u001b[0m\u001b[0mx\u001b[0m\u001b[0;34m,\u001b[0m\u001b[0mX\u001b[0m\u001b[0;34m,\u001b[0m\u001b[0mh\u001b[0m\u001b[0;34m,\u001b[0m\u001b[0mn\u001b[0m\u001b[0;34m)\u001b[0m\u001b[0;34m,\u001b[0m\u001b[0mFminus\u001b[0m\u001b[0;34m)\u001b[0m\u001b[0;34m)\u001b[0m\u001b[0;34m)\u001b[0m\u001b[0;34m\u001b[0m\u001b[0;34m\u001b[0m\u001b[0m\n\u001b[0m\u001b[1;32m     21\u001b[0m \u001b[0;34m\u001b[0m\u001b[0m\n\u001b[1;32m     22\u001b[0m   \u001b[0mresult\u001b[0m \u001b[0;34m=\u001b[0m \u001b[0;36m10\u001b[0m\u001b[0;34m*\u001b[0m\u001b[0mtorch\u001b[0m\u001b[0;34m.\u001b[0m\u001b[0mlog10\u001b[0m\u001b[0;34m(\u001b[0m\u001b[0mresult1\u001b[0m\u001b[0;34m/\u001b[0m\u001b[0mresult2\u001b[0m\u001b[0;34m)\u001b[0m\u001b[0;34m\u001b[0m\u001b[0;34m\u001b[0m\u001b[0m\n",
            "\u001b[0;32m<ipython-input-16-d7fed952f182>\u001b[0m in \u001b[0;36mPSD\u001b[0;34m(f, X, h, n, fs)\u001b[0m\n\u001b[1;32m     13\u001b[0m   \u001b[0;31m#print('n;',n)\u001b[0m\u001b[0;34m\u001b[0m\u001b[0;34m\u001b[0m\u001b[0;34m\u001b[0m\u001b[0m\n\u001b[1;32m     14\u001b[0m   \u001b[0;31m#print('multiplied:',torch.cos(2*math.pi*f_hat*n/fs))\u001b[0m\u001b[0;34m\u001b[0m\u001b[0;34m\u001b[0m\u001b[0;34m\u001b[0m\u001b[0m\n\u001b[0;32m---> 15\u001b[0;31m   \u001b[0mterm1\u001b[0m \u001b[0;34m=\u001b[0m \u001b[0mh\u001b[0m\u001b[0;34m(\u001b[0m\u001b[0mX\u001b[0m\u001b[0;34m)\u001b[0m\u001b[0;34m*\u001b[0m\u001b[0mtorch\u001b[0m\u001b[0;34m.\u001b[0m\u001b[0mcos\u001b[0m\u001b[0;34m(\u001b[0m\u001b[0;36m2\u001b[0m\u001b[0;34m*\u001b[0m\u001b[0mmath\u001b[0m\u001b[0;34m.\u001b[0m\u001b[0mpi\u001b[0m\u001b[0;34m*\u001b[0m\u001b[0mf_hat\u001b[0m\u001b[0;34m*\u001b[0m\u001b[0mn\u001b[0m\u001b[0;34m/\u001b[0m\u001b[0mfs\u001b[0m\u001b[0;34m)\u001b[0m\u001b[0;34m\u001b[0m\u001b[0;34m\u001b[0m\u001b[0m\n\u001b[0m\u001b[1;32m     16\u001b[0m   \u001b[0mterm2\u001b[0m \u001b[0;34m=\u001b[0m \u001b[0mh\u001b[0m\u001b[0;34m(\u001b[0m\u001b[0mX\u001b[0m\u001b[0;34m)\u001b[0m\u001b[0;34m*\u001b[0m\u001b[0mtorch\u001b[0m\u001b[0;34m.\u001b[0m\u001b[0msin\u001b[0m\u001b[0;34m(\u001b[0m\u001b[0;36m2\u001b[0m\u001b[0;34m*\u001b[0m\u001b[0mmath\u001b[0m\u001b[0;34m.\u001b[0m\u001b[0mpi\u001b[0m\u001b[0;34m*\u001b[0m\u001b[0mf_hat\u001b[0m\u001b[0;34m*\u001b[0m\u001b[0mn\u001b[0m\u001b[0;34m/\u001b[0m\u001b[0mfs\u001b[0m\u001b[0;34m)\u001b[0m\u001b[0;34m\u001b[0m\u001b[0;34m\u001b[0m\u001b[0m\n\u001b[1;32m     17\u001b[0m   \u001b[0;31m#print('Terms to be summed')\u001b[0m\u001b[0;34m\u001b[0m\u001b[0;34m\u001b[0m\u001b[0;34m\u001b[0m\u001b[0m\n",
            "\u001b[0;32m/usr/local/lib/python3.6/dist-packages/torch/nn/modules/module.py\u001b[0m in \u001b[0;36m__call__\u001b[0;34m(self, *input, **kwargs)\u001b[0m\n\u001b[1;32m    539\u001b[0m             \u001b[0mresult\u001b[0m \u001b[0;34m=\u001b[0m \u001b[0mself\u001b[0m\u001b[0;34m.\u001b[0m\u001b[0m_slow_forward\u001b[0m\u001b[0;34m(\u001b[0m\u001b[0;34m*\u001b[0m\u001b[0minput\u001b[0m\u001b[0;34m,\u001b[0m \u001b[0;34m**\u001b[0m\u001b[0mkwargs\u001b[0m\u001b[0;34m)\u001b[0m\u001b[0;34m\u001b[0m\u001b[0;34m\u001b[0m\u001b[0m\n\u001b[1;32m    540\u001b[0m         \u001b[0;32melse\u001b[0m\u001b[0;34m:\u001b[0m\u001b[0;34m\u001b[0m\u001b[0;34m\u001b[0m\u001b[0m\n\u001b[0;32m--> 541\u001b[0;31m             \u001b[0mresult\u001b[0m \u001b[0;34m=\u001b[0m \u001b[0mself\u001b[0m\u001b[0;34m.\u001b[0m\u001b[0mforward\u001b[0m\u001b[0;34m(\u001b[0m\u001b[0;34m*\u001b[0m\u001b[0minput\u001b[0m\u001b[0;34m,\u001b[0m \u001b[0;34m**\u001b[0m\u001b[0mkwargs\u001b[0m\u001b[0;34m)\u001b[0m\u001b[0;34m\u001b[0m\u001b[0;34m\u001b[0m\u001b[0m\n\u001b[0m\u001b[1;32m    542\u001b[0m         \u001b[0;32mfor\u001b[0m \u001b[0mhook\u001b[0m \u001b[0;32min\u001b[0m \u001b[0mself\u001b[0m\u001b[0;34m.\u001b[0m\u001b[0m_forward_hooks\u001b[0m\u001b[0;34m.\u001b[0m\u001b[0mvalues\u001b[0m\u001b[0;34m(\u001b[0m\u001b[0;34m)\u001b[0m\u001b[0;34m:\u001b[0m\u001b[0;34m\u001b[0m\u001b[0;34m\u001b[0m\u001b[0m\n\u001b[1;32m    543\u001b[0m             \u001b[0mhook_result\u001b[0m \u001b[0;34m=\u001b[0m \u001b[0mhook\u001b[0m\u001b[0;34m(\u001b[0m\u001b[0mself\u001b[0m\u001b[0;34m,\u001b[0m \u001b[0minput\u001b[0m\u001b[0;34m,\u001b[0m \u001b[0mresult\u001b[0m\u001b[0;34m)\u001b[0m\u001b[0;34m\u001b[0m\u001b[0;34m\u001b[0m\u001b[0m\n",
            "\u001b[0;32m<ipython-input-20-465a25dd1712>\u001b[0m in \u001b[0;36mforward\u001b[0;34m(self, x)\u001b[0m\n\u001b[1;32m     38\u001b[0m         \u001b[0mx\u001b[0m \u001b[0;34m=\u001b[0m \u001b[0mx\u001b[0m\u001b[0;34m.\u001b[0m\u001b[0mpermute\u001b[0m\u001b[0;34m(\u001b[0m\u001b[0;36m0\u001b[0m\u001b[0;34m,\u001b[0m\u001b[0;36m3\u001b[0m\u001b[0;34m,\u001b[0m\u001b[0;36m2\u001b[0m\u001b[0;34m,\u001b[0m\u001b[0;36m1\u001b[0m\u001b[0;34m)\u001b[0m\u001b[0;34m\u001b[0m\u001b[0;34m\u001b[0m\u001b[0m\n\u001b[1;32m     39\u001b[0m         \u001b[0;31m#print(x.shape)\u001b[0m\u001b[0;34m\u001b[0m\u001b[0;34m\u001b[0m\u001b[0;34m\u001b[0m\u001b[0m\n\u001b[0;32m---> 40\u001b[0;31m         \u001b[0mx\u001b[0m \u001b[0;34m=\u001b[0m \u001b[0mself\u001b[0m\u001b[0;34m.\u001b[0m\u001b[0mbatchnorm0\u001b[0m\u001b[0;34m(\u001b[0m\u001b[0mx\u001b[0m\u001b[0;34m)\u001b[0m\u001b[0;34m\u001b[0m\u001b[0;34m\u001b[0m\u001b[0m\n\u001b[0m\u001b[1;32m     41\u001b[0m         \u001b[0mx\u001b[0m \u001b[0;34m=\u001b[0m \u001b[0mself\u001b[0m\u001b[0;34m.\u001b[0m\u001b[0mconv1\u001b[0m\u001b[0;34m(\u001b[0m\u001b[0mx\u001b[0m\u001b[0;34m)\u001b[0m\u001b[0;34m\u001b[0m\u001b[0;34m\u001b[0m\u001b[0m\n\u001b[1;32m     42\u001b[0m         \u001b[0mx\u001b[0m \u001b[0;34m=\u001b[0m \u001b[0mF\u001b[0m\u001b[0;34m.\u001b[0m\u001b[0melu\u001b[0m\u001b[0;34m(\u001b[0m\u001b[0mx\u001b[0m\u001b[0;34m)\u001b[0m\u001b[0;34m\u001b[0m\u001b[0;34m\u001b[0m\u001b[0m\n",
            "\u001b[0;32m/usr/local/lib/python3.6/dist-packages/torch/nn/modules/module.py\u001b[0m in \u001b[0;36m__call__\u001b[0;34m(self, *input, **kwargs)\u001b[0m\n\u001b[1;32m    539\u001b[0m             \u001b[0mresult\u001b[0m \u001b[0;34m=\u001b[0m \u001b[0mself\u001b[0m\u001b[0;34m.\u001b[0m\u001b[0m_slow_forward\u001b[0m\u001b[0;34m(\u001b[0m\u001b[0;34m*\u001b[0m\u001b[0minput\u001b[0m\u001b[0;34m,\u001b[0m \u001b[0;34m**\u001b[0m\u001b[0mkwargs\u001b[0m\u001b[0;34m)\u001b[0m\u001b[0;34m\u001b[0m\u001b[0;34m\u001b[0m\u001b[0m\n\u001b[1;32m    540\u001b[0m         \u001b[0;32melse\u001b[0m\u001b[0;34m:\u001b[0m\u001b[0;34m\u001b[0m\u001b[0;34m\u001b[0m\u001b[0m\n\u001b[0;32m--> 541\u001b[0;31m             \u001b[0mresult\u001b[0m \u001b[0;34m=\u001b[0m \u001b[0mself\u001b[0m\u001b[0;34m.\u001b[0m\u001b[0mforward\u001b[0m\u001b[0;34m(\u001b[0m\u001b[0;34m*\u001b[0m\u001b[0minput\u001b[0m\u001b[0;34m,\u001b[0m \u001b[0;34m**\u001b[0m\u001b[0mkwargs\u001b[0m\u001b[0;34m)\u001b[0m\u001b[0;34m\u001b[0m\u001b[0;34m\u001b[0m\u001b[0m\n\u001b[0m\u001b[1;32m    542\u001b[0m         \u001b[0;32mfor\u001b[0m \u001b[0mhook\u001b[0m \u001b[0;32min\u001b[0m \u001b[0mself\u001b[0m\u001b[0;34m.\u001b[0m\u001b[0m_forward_hooks\u001b[0m\u001b[0;34m.\u001b[0m\u001b[0mvalues\u001b[0m\u001b[0;34m(\u001b[0m\u001b[0;34m)\u001b[0m\u001b[0;34m:\u001b[0m\u001b[0;34m\u001b[0m\u001b[0;34m\u001b[0m\u001b[0m\n\u001b[1;32m    543\u001b[0m             \u001b[0mhook_result\u001b[0m \u001b[0;34m=\u001b[0m \u001b[0mhook\u001b[0m\u001b[0;34m(\u001b[0m\u001b[0mself\u001b[0m\u001b[0;34m,\u001b[0m \u001b[0minput\u001b[0m\u001b[0;34m,\u001b[0m \u001b[0mresult\u001b[0m\u001b[0;34m)\u001b[0m\u001b[0;34m\u001b[0m\u001b[0;34m\u001b[0m\u001b[0m\n",
            "\u001b[0;32m/usr/local/lib/python3.6/dist-packages/torch/nn/modules/batchnorm.py\u001b[0m in \u001b[0;36mforward\u001b[0;34m(self, input)\u001b[0m\n\u001b[1;32m     70\u001b[0m             \u001b[0;31m# TODO: if statement only here to tell the jit to skip emitting this when it is None\u001b[0m\u001b[0;34m\u001b[0m\u001b[0;34m\u001b[0m\u001b[0;34m\u001b[0m\u001b[0m\n\u001b[1;32m     71\u001b[0m             \u001b[0;32mif\u001b[0m \u001b[0mself\u001b[0m\u001b[0;34m.\u001b[0m\u001b[0mnum_batches_tracked\u001b[0m \u001b[0;32mis\u001b[0m \u001b[0;32mnot\u001b[0m \u001b[0;32mNone\u001b[0m\u001b[0;34m:\u001b[0m\u001b[0;34m\u001b[0m\u001b[0;34m\u001b[0m\u001b[0m\n\u001b[0;32m---> 72\u001b[0;31m                 \u001b[0mself\u001b[0m\u001b[0;34m.\u001b[0m\u001b[0mnum_batches_tracked\u001b[0m \u001b[0;34m+=\u001b[0m \u001b[0;36m1\u001b[0m\u001b[0;34m\u001b[0m\u001b[0;34m\u001b[0m\u001b[0m\n\u001b[0m\u001b[1;32m     73\u001b[0m                 \u001b[0;32mif\u001b[0m \u001b[0mself\u001b[0m\u001b[0;34m.\u001b[0m\u001b[0mmomentum\u001b[0m \u001b[0;32mis\u001b[0m \u001b[0;32mNone\u001b[0m\u001b[0;34m:\u001b[0m  \u001b[0;31m# use cumulative moving average\u001b[0m\u001b[0;34m\u001b[0m\u001b[0;34m\u001b[0m\u001b[0m\n\u001b[1;32m     74\u001b[0m                     \u001b[0mexponential_average_factor\u001b[0m \u001b[0;34m=\u001b[0m \u001b[0;36m1.0\u001b[0m \u001b[0;34m/\u001b[0m \u001b[0mfloat\u001b[0m\u001b[0;34m(\u001b[0m\u001b[0mself\u001b[0m\u001b[0;34m.\u001b[0m\u001b[0mnum_batches_tracked\u001b[0m\u001b[0;34m)\u001b[0m\u001b[0;34m\u001b[0m\u001b[0;34m\u001b[0m\u001b[0m\n",
            "\u001b[0;32m/usr/local/lib/python3.6/dist-packages/torch/nn/modules/module.py\u001b[0m in \u001b[0;36m__setattr__\u001b[0;34m(self, name, value)\u001b[0m\n\u001b[1;32m    585\u001b[0m             type(self).__name__, name))\n\u001b[1;32m    586\u001b[0m \u001b[0;34m\u001b[0m\u001b[0m\n\u001b[0;32m--> 587\u001b[0;31m     \u001b[0;32mdef\u001b[0m \u001b[0m__setattr__\u001b[0m\u001b[0;34m(\u001b[0m\u001b[0mself\u001b[0m\u001b[0;34m,\u001b[0m \u001b[0mname\u001b[0m\u001b[0;34m,\u001b[0m \u001b[0mvalue\u001b[0m\u001b[0;34m)\u001b[0m\u001b[0;34m:\u001b[0m\u001b[0;34m\u001b[0m\u001b[0;34m\u001b[0m\u001b[0m\n\u001b[0m\u001b[1;32m    588\u001b[0m         \u001b[0;32mdef\u001b[0m \u001b[0mremove_from\u001b[0m\u001b[0;34m(\u001b[0m\u001b[0;34m*\u001b[0m\u001b[0mdicts\u001b[0m\u001b[0;34m)\u001b[0m\u001b[0;34m:\u001b[0m\u001b[0;34m\u001b[0m\u001b[0;34m\u001b[0m\u001b[0m\n\u001b[1;32m    589\u001b[0m             \u001b[0;32mfor\u001b[0m \u001b[0md\u001b[0m \u001b[0;32min\u001b[0m \u001b[0mdicts\u001b[0m\u001b[0;34m:\u001b[0m\u001b[0;34m\u001b[0m\u001b[0;34m\u001b[0m\u001b[0m\n",
            "\u001b[0;31mKeyboardInterrupt\u001b[0m: "
          ]
        },
        {
          "output_type": "error",
          "ename": "KeyboardInterrupt",
          "evalue": "ignored",
          "traceback": [
            "\u001b[0;31m---------------------------------------------------------------------------\u001b[0m",
            "\u001b[0;31mKeyboardInterrupt\u001b[0m                         Traceback (most recent call last)",
            "\u001b[0;32m<ipython-input-25-031c3a94b187>\u001b[0m in \u001b[0;36m<module>\u001b[0;34m()\u001b[0m\n\u001b[1;32m     22\u001b[0m       \u001b[0;32mif\u001b[0m\u001b[0;34m(\u001b[0m\u001b[0mi\u001b[0m\u001b[0;34m%\u001b[0m\u001b[0mlen\u001b[0m\u001b[0;34m(\u001b[0m\u001b[0mimgs\u001b[0m\u001b[0;34m)\u001b[0m\u001b[0;34m/\u001b[0m\u001b[0;36m250\u001b[0m \u001b[0;34m==\u001b[0m \u001b[0;36m0\u001b[0m\u001b[0;34m)\u001b[0m\u001b[0;34m:\u001b[0m\u001b[0;34m\u001b[0m\u001b[0;34m\u001b[0m\u001b[0m\n\u001b[1;32m     23\u001b[0m         \u001b[0mprint\u001b[0m\u001b[0;34m(\u001b[0m\u001b[0mi\u001b[0m\u001b[0;34m)\u001b[0m\u001b[0;34m\u001b[0m\u001b[0;34m\u001b[0m\u001b[0m\n\u001b[0;32m---> 24\u001b[0;31m       \u001b[0mL\u001b[0m \u001b[0;34m=\u001b[0m \u001b[0mtrain\u001b[0m\u001b[0;34m(\u001b[0m\u001b[0mnet\u001b[0m\u001b[0;34m,\u001b[0m\u001b[0mimgs\u001b[0m\u001b[0;34m[\u001b[0m\u001b[0mi\u001b[0m\u001b[0;34m:\u001b[0m\u001b[0mi\u001b[0m\u001b[0;34m+\u001b[0m\u001b[0mstep\u001b[0m\u001b[0;34m]\u001b[0m\u001b[0;34m,\u001b[0m\u001b[0mlabels\u001b[0m\u001b[0;34m[\u001b[0m\u001b[0mi\u001b[0m\u001b[0;34m:\u001b[0m\u001b[0mi\u001b[0m\u001b[0;34m+\u001b[0m\u001b[0mstep\u001b[0m\u001b[0;34m]\u001b[0m\u001b[0;34m,\u001b[0m\u001b[0mget_cost_function\u001b[0m\u001b[0;34m(\u001b[0m\u001b[0;34m)\u001b[0m\u001b[0;34m,\u001b[0m\u001b[0moptimizer\u001b[0m\u001b[0;34m=\u001b[0m\u001b[0mget_optimizer\u001b[0m\u001b[0;34m(\u001b[0m\u001b[0mnet\u001b[0m\u001b[0;34m)\u001b[0m\u001b[0;34m,\u001b[0m\u001b[0mbatch_size\u001b[0m \u001b[0;34m=\u001b[0m \u001b[0;36m5\u001b[0m\u001b[0;34m)\u001b[0m\u001b[0;34m\u001b[0m\u001b[0;34m\u001b[0m\u001b[0m\n\u001b[0m\u001b[1;32m     25\u001b[0m       \u001b[0mlosses\u001b[0m\u001b[0;34m.\u001b[0m\u001b[0mappend\u001b[0m\u001b[0;34m(\u001b[0m\u001b[0mL\u001b[0m\u001b[0;34m)\u001b[0m\u001b[0;34m\u001b[0m\u001b[0;34m\u001b[0m\u001b[0m\n\u001b[1;32m     26\u001b[0m \u001b[0;34m\u001b[0m\u001b[0m\n",
            "\u001b[0;32m<ipython-input-23-8debdaaf57d9>\u001b[0m in \u001b[0;36mtrain\u001b[0;34m(net, t_data, t_labels, cost_function, optimizer, batch_size, device)\u001b[0m\n\u001b[1;32m     24\u001b[0m \u001b[0;34m\u001b[0m\u001b[0m\n\u001b[1;32m     25\u001b[0m   \u001b[0;31m# Apply the loss (h,X,f,Phi,F,d=5)\u001b[0m\u001b[0;34m\u001b[0m\u001b[0;34m\u001b[0m\u001b[0;34m\u001b[0m\u001b[0m\n\u001b[0;32m---> 26\u001b[0;31m   \u001b[0mloss\u001b[0m \u001b[0;34m=\u001b[0m \u001b[0mcost_function\u001b[0m\u001b[0;34m(\u001b[0m\u001b[0mnet\u001b[0m\u001b[0;34m,\u001b[0m\u001b[0minputs\u001b[0m\u001b[0;34m,\u001b[0m\u001b[0mtargets\u001b[0m\u001b[0;34m,\u001b[0m\u001b[0mF\u001b[0m\u001b[0;34m,\u001b[0m\u001b[0md\u001b[0m\u001b[0;34m=\u001b[0m\u001b[0;36m6\u001b[0m\u001b[0;34m)\u001b[0m\u001b[0;34m\u001b[0m\u001b[0;34m\u001b[0m\u001b[0m\n\u001b[0m\u001b[1;32m     27\u001b[0m \u001b[0;34m\u001b[0m\u001b[0m\n\u001b[1;32m     28\u001b[0m   \u001b[0;31m# Backward pass\u001b[0m\u001b[0;34m\u001b[0m\u001b[0;34m\u001b[0m\u001b[0;34m\u001b[0m\u001b[0m\n",
            "\u001b[0;32m<ipython-input-18-e98c935a2fa0>\u001b[0m in \u001b[0;36mloss_function\u001b[0;34m(h, X, f, F, d)\u001b[0m\n\u001b[1;32m      8\u001b[0m   \u001b[0;31m#print('true hr', f[:,-1])\u001b[0m\u001b[0;34m\u001b[0m\u001b[0;34m\u001b[0m\u001b[0;34m\u001b[0m\u001b[0m\n\u001b[1;32m      9\u001b[0m \u001b[0;34m\u001b[0m\u001b[0m\n\u001b[0;32m---> 10\u001b[0;31m   \u001b[0mliste\u001b[0m \u001b[0;34m=\u001b[0m \u001b[0mlist\u001b[0m\u001b[0;34m(\u001b[0m\u001b[0mmap\u001b[0m\u001b[0;34m(\u001b[0m\u001b[0;32mlambda\u001b[0m \u001b[0mx\u001b[0m\u001b[0;34m,\u001b[0m\u001b[0my\u001b[0m\u001b[0;34m:\u001b[0m\u001b[0mSNR\u001b[0m\u001b[0;34m(\u001b[0m\u001b[0mx\u001b[0m\u001b[0;34m.\u001b[0m\u001b[0mitem\u001b[0m\u001b[0;34m(\u001b[0m\u001b[0;34m)\u001b[0m\u001b[0;34m,\u001b[0m\u001b[0my\u001b[0m\u001b[0;34m,\u001b[0m\u001b[0mF\u001b[0m\u001b[0;34m,\u001b[0m\u001b[0md\u001b[0m\u001b[0;34m,\u001b[0m\u001b[0mh\u001b[0m\u001b[0;34m)\u001b[0m\u001b[0;34m,\u001b[0m\u001b[0mf\u001b[0m\u001b[0;34m[\u001b[0m\u001b[0;34m:\u001b[0m\u001b[0;34m,\u001b[0m\u001b[0;34m-\u001b[0m\u001b[0;36m1\u001b[0m\u001b[0;34m]\u001b[0m\u001b[0;34m,\u001b[0m\u001b[0mX\u001b[0m\u001b[0;34m)\u001b[0m\u001b[0;34m)\u001b[0m\u001b[0;34m\u001b[0m\u001b[0;34m\u001b[0m\u001b[0m\n\u001b[0m\u001b[1;32m     11\u001b[0m \u001b[0;34m\u001b[0m\u001b[0m\n\u001b[1;32m     12\u001b[0m   \u001b[0mresult\u001b[0m \u001b[0;34m=\u001b[0m \u001b[0;34m-\u001b[0m\u001b[0;36m1\u001b[0m\u001b[0;34m*\u001b[0m\u001b[0msum\u001b[0m\u001b[0;34m(\u001b[0m\u001b[0mliste\u001b[0m\u001b[0;34m)\u001b[0m\u001b[0;34m/\u001b[0m\u001b[0ml\u001b[0m\u001b[0;34m\u001b[0m\u001b[0;34m\u001b[0m\u001b[0m\n",
            "\u001b[0;32m<ipython-input-18-e98c935a2fa0>\u001b[0m in \u001b[0;36m<lambda>\u001b[0;34m(x, y)\u001b[0m\n\u001b[1;32m      8\u001b[0m   \u001b[0;31m#print('true hr', f[:,-1])\u001b[0m\u001b[0;34m\u001b[0m\u001b[0;34m\u001b[0m\u001b[0;34m\u001b[0m\u001b[0m\n\u001b[1;32m      9\u001b[0m \u001b[0;34m\u001b[0m\u001b[0m\n\u001b[0;32m---> 10\u001b[0;31m   \u001b[0mliste\u001b[0m \u001b[0;34m=\u001b[0m \u001b[0mlist\u001b[0m\u001b[0;34m(\u001b[0m\u001b[0mmap\u001b[0m\u001b[0;34m(\u001b[0m\u001b[0;32mlambda\u001b[0m \u001b[0mx\u001b[0m\u001b[0;34m,\u001b[0m\u001b[0my\u001b[0m\u001b[0;34m:\u001b[0m\u001b[0mSNR\u001b[0m\u001b[0;34m(\u001b[0m\u001b[0mx\u001b[0m\u001b[0;34m.\u001b[0m\u001b[0mitem\u001b[0m\u001b[0;34m(\u001b[0m\u001b[0;34m)\u001b[0m\u001b[0;34m,\u001b[0m\u001b[0my\u001b[0m\u001b[0;34m,\u001b[0m\u001b[0mF\u001b[0m\u001b[0;34m,\u001b[0m\u001b[0md\u001b[0m\u001b[0;34m,\u001b[0m\u001b[0mh\u001b[0m\u001b[0;34m)\u001b[0m\u001b[0;34m,\u001b[0m\u001b[0mf\u001b[0m\u001b[0;34m[\u001b[0m\u001b[0;34m:\u001b[0m\u001b[0;34m,\u001b[0m\u001b[0;34m-\u001b[0m\u001b[0;36m1\u001b[0m\u001b[0;34m]\u001b[0m\u001b[0;34m,\u001b[0m\u001b[0mX\u001b[0m\u001b[0;34m)\u001b[0m\u001b[0;34m)\u001b[0m\u001b[0;34m\u001b[0m\u001b[0;34m\u001b[0m\u001b[0m\n\u001b[0m\u001b[1;32m     11\u001b[0m \u001b[0;34m\u001b[0m\u001b[0m\n\u001b[1;32m     12\u001b[0m   \u001b[0mresult\u001b[0m \u001b[0;34m=\u001b[0m \u001b[0;34m-\u001b[0m\u001b[0;36m1\u001b[0m\u001b[0;34m*\u001b[0m\u001b[0msum\u001b[0m\u001b[0;34m(\u001b[0m\u001b[0mliste\u001b[0m\u001b[0;34m)\u001b[0m\u001b[0;34m/\u001b[0m\u001b[0ml\u001b[0m\u001b[0;34m\u001b[0m\u001b[0;34m\u001b[0m\u001b[0m\n",
            "\u001b[0;32m<ipython-input-17-65f35565d3f9>\u001b[0m in \u001b[0;36mSNR\u001b[0;34m(f, X, F, d, h)\u001b[0m\n\u001b[1;32m     18\u001b[0m \u001b[0;34m\u001b[0m\u001b[0m\n\u001b[1;32m     19\u001b[0m   \u001b[0mresult1\u001b[0m \u001b[0;34m=\u001b[0m \u001b[0msum\u001b[0m\u001b[0;34m(\u001b[0m\u001b[0mlist\u001b[0m\u001b[0;34m(\u001b[0m\u001b[0mmap\u001b[0m\u001b[0;34m(\u001b[0m\u001b[0;32mlambda\u001b[0m \u001b[0mx\u001b[0m\u001b[0;34m:\u001b[0m\u001b[0mPSD\u001b[0m\u001b[0;34m(\u001b[0m\u001b[0mx\u001b[0m\u001b[0;34m,\u001b[0m\u001b[0mX\u001b[0m\u001b[0;34m,\u001b[0m\u001b[0mh\u001b[0m\u001b[0;34m,\u001b[0m\u001b[0mn\u001b[0m\u001b[0;34m)\u001b[0m\u001b[0;34m,\u001b[0m\u001b[0mFplus\u001b[0m\u001b[0;34m)\u001b[0m\u001b[0;34m)\u001b[0m\u001b[0;34m)\u001b[0m\u001b[0;34m\u001b[0m\u001b[0;34m\u001b[0m\u001b[0m\n\u001b[0;32m---> 20\u001b[0;31m   \u001b[0mresult2\u001b[0m \u001b[0;34m=\u001b[0m \u001b[0msum\u001b[0m\u001b[0;34m(\u001b[0m\u001b[0mlist\u001b[0m\u001b[0;34m(\u001b[0m\u001b[0mmap\u001b[0m\u001b[0;34m(\u001b[0m\u001b[0;32mlambda\u001b[0m \u001b[0mx\u001b[0m\u001b[0;34m:\u001b[0m\u001b[0mPSD\u001b[0m\u001b[0;34m(\u001b[0m\u001b[0mx\u001b[0m\u001b[0;34m,\u001b[0m\u001b[0mX\u001b[0m\u001b[0;34m,\u001b[0m\u001b[0mh\u001b[0m\u001b[0;34m,\u001b[0m\u001b[0mn\u001b[0m\u001b[0;34m)\u001b[0m\u001b[0;34m,\u001b[0m\u001b[0mFminus\u001b[0m\u001b[0;34m)\u001b[0m\u001b[0;34m)\u001b[0m\u001b[0;34m)\u001b[0m\u001b[0;34m\u001b[0m\u001b[0;34m\u001b[0m\u001b[0m\n\u001b[0m\u001b[1;32m     21\u001b[0m \u001b[0;34m\u001b[0m\u001b[0m\n\u001b[1;32m     22\u001b[0m   \u001b[0mresult\u001b[0m \u001b[0;34m=\u001b[0m \u001b[0;36m10\u001b[0m\u001b[0;34m*\u001b[0m\u001b[0mtorch\u001b[0m\u001b[0;34m.\u001b[0m\u001b[0mlog10\u001b[0m\u001b[0;34m(\u001b[0m\u001b[0mresult1\u001b[0m\u001b[0;34m/\u001b[0m\u001b[0mresult2\u001b[0m\u001b[0;34m)\u001b[0m\u001b[0;34m\u001b[0m\u001b[0;34m\u001b[0m\u001b[0m\n",
            "\u001b[0;32m<ipython-input-17-65f35565d3f9>\u001b[0m in \u001b[0;36m<lambda>\u001b[0;34m(x)\u001b[0m\n\u001b[1;32m     18\u001b[0m \u001b[0;34m\u001b[0m\u001b[0m\n\u001b[1;32m     19\u001b[0m   \u001b[0mresult1\u001b[0m \u001b[0;34m=\u001b[0m \u001b[0msum\u001b[0m\u001b[0;34m(\u001b[0m\u001b[0mlist\u001b[0m\u001b[0;34m(\u001b[0m\u001b[0mmap\u001b[0m\u001b[0;34m(\u001b[0m\u001b[0;32mlambda\u001b[0m \u001b[0mx\u001b[0m\u001b[0;34m:\u001b[0m\u001b[0mPSD\u001b[0m\u001b[0;34m(\u001b[0m\u001b[0mx\u001b[0m\u001b[0;34m,\u001b[0m\u001b[0mX\u001b[0m\u001b[0;34m,\u001b[0m\u001b[0mh\u001b[0m\u001b[0;34m,\u001b[0m\u001b[0mn\u001b[0m\u001b[0;34m)\u001b[0m\u001b[0;34m,\u001b[0m\u001b[0mFplus\u001b[0m\u001b[0;34m)\u001b[0m\u001b[0;34m)\u001b[0m\u001b[0;34m)\u001b[0m\u001b[0;34m\u001b[0m\u001b[0;34m\u001b[0m\u001b[0m\n\u001b[0;32m---> 20\u001b[0;31m   \u001b[0mresult2\u001b[0m \u001b[0;34m=\u001b[0m \u001b[0msum\u001b[0m\u001b[0;34m(\u001b[0m\u001b[0mlist\u001b[0m\u001b[0;34m(\u001b[0m\u001b[0mmap\u001b[0m\u001b[0;34m(\u001b[0m\u001b[0;32mlambda\u001b[0m \u001b[0mx\u001b[0m\u001b[0;34m:\u001b[0m\u001b[0mPSD\u001b[0m\u001b[0;34m(\u001b[0m\u001b[0mx\u001b[0m\u001b[0;34m,\u001b[0m\u001b[0mX\u001b[0m\u001b[0;34m,\u001b[0m\u001b[0mh\u001b[0m\u001b[0;34m,\u001b[0m\u001b[0mn\u001b[0m\u001b[0;34m)\u001b[0m\u001b[0;34m,\u001b[0m\u001b[0mFminus\u001b[0m\u001b[0;34m)\u001b[0m\u001b[0;34m)\u001b[0m\u001b[0;34m)\u001b[0m\u001b[0;34m\u001b[0m\u001b[0;34m\u001b[0m\u001b[0m\n\u001b[0m\u001b[1;32m     21\u001b[0m \u001b[0;34m\u001b[0m\u001b[0m\n\u001b[1;32m     22\u001b[0m   \u001b[0mresult\u001b[0m \u001b[0;34m=\u001b[0m \u001b[0;36m10\u001b[0m\u001b[0;34m*\u001b[0m\u001b[0mtorch\u001b[0m\u001b[0;34m.\u001b[0m\u001b[0mlog10\u001b[0m\u001b[0;34m(\u001b[0m\u001b[0mresult1\u001b[0m\u001b[0;34m/\u001b[0m\u001b[0mresult2\u001b[0m\u001b[0;34m)\u001b[0m\u001b[0;34m\u001b[0m\u001b[0;34m\u001b[0m\u001b[0m\n",
            "\u001b[0;32m<ipython-input-16-d7fed952f182>\u001b[0m in \u001b[0;36mPSD\u001b[0;34m(f, X, h, n, fs)\u001b[0m\n\u001b[1;32m     13\u001b[0m   \u001b[0;31m#print('n;',n)\u001b[0m\u001b[0;34m\u001b[0m\u001b[0;34m\u001b[0m\u001b[0;34m\u001b[0m\u001b[0m\n\u001b[1;32m     14\u001b[0m   \u001b[0;31m#print('multiplied:',torch.cos(2*math.pi*f_hat*n/fs))\u001b[0m\u001b[0;34m\u001b[0m\u001b[0;34m\u001b[0m\u001b[0;34m\u001b[0m\u001b[0m\n\u001b[0;32m---> 15\u001b[0;31m   \u001b[0mterm1\u001b[0m \u001b[0;34m=\u001b[0m \u001b[0mh\u001b[0m\u001b[0;34m(\u001b[0m\u001b[0mX\u001b[0m\u001b[0;34m)\u001b[0m\u001b[0;34m*\u001b[0m\u001b[0mtorch\u001b[0m\u001b[0;34m.\u001b[0m\u001b[0mcos\u001b[0m\u001b[0;34m(\u001b[0m\u001b[0;36m2\u001b[0m\u001b[0;34m*\u001b[0m\u001b[0mmath\u001b[0m\u001b[0;34m.\u001b[0m\u001b[0mpi\u001b[0m\u001b[0;34m*\u001b[0m\u001b[0mf_hat\u001b[0m\u001b[0;34m*\u001b[0m\u001b[0mn\u001b[0m\u001b[0;34m/\u001b[0m\u001b[0mfs\u001b[0m\u001b[0;34m)\u001b[0m\u001b[0;34m\u001b[0m\u001b[0;34m\u001b[0m\u001b[0m\n\u001b[0m\u001b[1;32m     16\u001b[0m   \u001b[0mterm2\u001b[0m \u001b[0;34m=\u001b[0m \u001b[0mh\u001b[0m\u001b[0;34m(\u001b[0m\u001b[0mX\u001b[0m\u001b[0;34m)\u001b[0m\u001b[0;34m*\u001b[0m\u001b[0mtorch\u001b[0m\u001b[0;34m.\u001b[0m\u001b[0msin\u001b[0m\u001b[0;34m(\u001b[0m\u001b[0;36m2\u001b[0m\u001b[0;34m*\u001b[0m\u001b[0mmath\u001b[0m\u001b[0;34m.\u001b[0m\u001b[0mpi\u001b[0m\u001b[0;34m*\u001b[0m\u001b[0mf_hat\u001b[0m\u001b[0;34m*\u001b[0m\u001b[0mn\u001b[0m\u001b[0;34m/\u001b[0m\u001b[0mfs\u001b[0m\u001b[0;34m)\u001b[0m\u001b[0;34m\u001b[0m\u001b[0;34m\u001b[0m\u001b[0m\n\u001b[1;32m     17\u001b[0m   \u001b[0;31m#print('Terms to be summed')\u001b[0m\u001b[0;34m\u001b[0m\u001b[0;34m\u001b[0m\u001b[0;34m\u001b[0m\u001b[0m\n",
            "\u001b[0;32m/usr/local/lib/python3.6/dist-packages/torch/nn/modules/module.py\u001b[0m in \u001b[0;36m__call__\u001b[0;34m(self, *input, **kwargs)\u001b[0m\n\u001b[1;32m    539\u001b[0m             \u001b[0mresult\u001b[0m \u001b[0;34m=\u001b[0m \u001b[0mself\u001b[0m\u001b[0;34m.\u001b[0m\u001b[0m_slow_forward\u001b[0m\u001b[0;34m(\u001b[0m\u001b[0;34m*\u001b[0m\u001b[0minput\u001b[0m\u001b[0;34m,\u001b[0m \u001b[0;34m**\u001b[0m\u001b[0mkwargs\u001b[0m\u001b[0;34m)\u001b[0m\u001b[0;34m\u001b[0m\u001b[0;34m\u001b[0m\u001b[0m\n\u001b[1;32m    540\u001b[0m         \u001b[0;32melse\u001b[0m\u001b[0;34m:\u001b[0m\u001b[0;34m\u001b[0m\u001b[0;34m\u001b[0m\u001b[0m\n\u001b[0;32m--> 541\u001b[0;31m             \u001b[0mresult\u001b[0m \u001b[0;34m=\u001b[0m \u001b[0mself\u001b[0m\u001b[0;34m.\u001b[0m\u001b[0mforward\u001b[0m\u001b[0;34m(\u001b[0m\u001b[0;34m*\u001b[0m\u001b[0minput\u001b[0m\u001b[0;34m,\u001b[0m \u001b[0;34m**\u001b[0m\u001b[0mkwargs\u001b[0m\u001b[0;34m)\u001b[0m\u001b[0;34m\u001b[0m\u001b[0;34m\u001b[0m\u001b[0m\n\u001b[0m\u001b[1;32m    542\u001b[0m         \u001b[0;32mfor\u001b[0m \u001b[0mhook\u001b[0m \u001b[0;32min\u001b[0m \u001b[0mself\u001b[0m\u001b[0;34m.\u001b[0m\u001b[0m_forward_hooks\u001b[0m\u001b[0;34m.\u001b[0m\u001b[0mvalues\u001b[0m\u001b[0;34m(\u001b[0m\u001b[0;34m)\u001b[0m\u001b[0;34m:\u001b[0m\u001b[0;34m\u001b[0m\u001b[0;34m\u001b[0m\u001b[0m\n\u001b[1;32m    543\u001b[0m             \u001b[0mhook_result\u001b[0m \u001b[0;34m=\u001b[0m \u001b[0mhook\u001b[0m\u001b[0;34m(\u001b[0m\u001b[0mself\u001b[0m\u001b[0;34m,\u001b[0m \u001b[0minput\u001b[0m\u001b[0;34m,\u001b[0m \u001b[0mresult\u001b[0m\u001b[0;34m)\u001b[0m\u001b[0;34m\u001b[0m\u001b[0;34m\u001b[0m\u001b[0m\n",
            "\u001b[0;32m<ipython-input-20-465a25dd1712>\u001b[0m in \u001b[0;36mforward\u001b[0;34m(self, x)\u001b[0m\n\u001b[1;32m     38\u001b[0m         \u001b[0mx\u001b[0m \u001b[0;34m=\u001b[0m \u001b[0mx\u001b[0m\u001b[0;34m.\u001b[0m\u001b[0mpermute\u001b[0m\u001b[0;34m(\u001b[0m\u001b[0;36m0\u001b[0m\u001b[0;34m,\u001b[0m\u001b[0;36m3\u001b[0m\u001b[0;34m,\u001b[0m\u001b[0;36m2\u001b[0m\u001b[0;34m,\u001b[0m\u001b[0;36m1\u001b[0m\u001b[0;34m)\u001b[0m\u001b[0;34m\u001b[0m\u001b[0;34m\u001b[0m\u001b[0m\n\u001b[1;32m     39\u001b[0m         \u001b[0;31m#print(x.shape)\u001b[0m\u001b[0;34m\u001b[0m\u001b[0;34m\u001b[0m\u001b[0;34m\u001b[0m\u001b[0m\n\u001b[0;32m---> 40\u001b[0;31m         \u001b[0mx\u001b[0m \u001b[0;34m=\u001b[0m \u001b[0mself\u001b[0m\u001b[0;34m.\u001b[0m\u001b[0mbatchnorm0\u001b[0m\u001b[0;34m(\u001b[0m\u001b[0mx\u001b[0m\u001b[0;34m)\u001b[0m\u001b[0;34m\u001b[0m\u001b[0;34m\u001b[0m\u001b[0m\n\u001b[0m\u001b[1;32m     41\u001b[0m         \u001b[0mx\u001b[0m \u001b[0;34m=\u001b[0m \u001b[0mself\u001b[0m\u001b[0;34m.\u001b[0m\u001b[0mconv1\u001b[0m\u001b[0;34m(\u001b[0m\u001b[0mx\u001b[0m\u001b[0;34m)\u001b[0m\u001b[0;34m\u001b[0m\u001b[0;34m\u001b[0m\u001b[0m\n\u001b[1;32m     42\u001b[0m         \u001b[0mx\u001b[0m \u001b[0;34m=\u001b[0m \u001b[0mF\u001b[0m\u001b[0;34m.\u001b[0m\u001b[0melu\u001b[0m\u001b[0;34m(\u001b[0m\u001b[0mx\u001b[0m\u001b[0;34m)\u001b[0m\u001b[0;34m\u001b[0m\u001b[0;34m\u001b[0m\u001b[0m\n",
            "\u001b[0;32m/usr/local/lib/python3.6/dist-packages/torch/nn/modules/module.py\u001b[0m in \u001b[0;36m__call__\u001b[0;34m(self, *input, **kwargs)\u001b[0m\n\u001b[1;32m    539\u001b[0m             \u001b[0mresult\u001b[0m \u001b[0;34m=\u001b[0m \u001b[0mself\u001b[0m\u001b[0;34m.\u001b[0m\u001b[0m_slow_forward\u001b[0m\u001b[0;34m(\u001b[0m\u001b[0;34m*\u001b[0m\u001b[0minput\u001b[0m\u001b[0;34m,\u001b[0m \u001b[0;34m**\u001b[0m\u001b[0mkwargs\u001b[0m\u001b[0;34m)\u001b[0m\u001b[0;34m\u001b[0m\u001b[0;34m\u001b[0m\u001b[0m\n\u001b[1;32m    540\u001b[0m         \u001b[0;32melse\u001b[0m\u001b[0;34m:\u001b[0m\u001b[0;34m\u001b[0m\u001b[0;34m\u001b[0m\u001b[0m\n\u001b[0;32m--> 541\u001b[0;31m             \u001b[0mresult\u001b[0m \u001b[0;34m=\u001b[0m \u001b[0mself\u001b[0m\u001b[0;34m.\u001b[0m\u001b[0mforward\u001b[0m\u001b[0;34m(\u001b[0m\u001b[0;34m*\u001b[0m\u001b[0minput\u001b[0m\u001b[0;34m,\u001b[0m \u001b[0;34m**\u001b[0m\u001b[0mkwargs\u001b[0m\u001b[0;34m)\u001b[0m\u001b[0;34m\u001b[0m\u001b[0;34m\u001b[0m\u001b[0m\n\u001b[0m\u001b[1;32m    542\u001b[0m         \u001b[0;32mfor\u001b[0m \u001b[0mhook\u001b[0m \u001b[0;32min\u001b[0m \u001b[0mself\u001b[0m\u001b[0;34m.\u001b[0m\u001b[0m_forward_hooks\u001b[0m\u001b[0;34m.\u001b[0m\u001b[0mvalues\u001b[0m\u001b[0;34m(\u001b[0m\u001b[0;34m)\u001b[0m\u001b[0;34m:\u001b[0m\u001b[0;34m\u001b[0m\u001b[0;34m\u001b[0m\u001b[0m\n\u001b[1;32m    543\u001b[0m             \u001b[0mhook_result\u001b[0m \u001b[0;34m=\u001b[0m \u001b[0mhook\u001b[0m\u001b[0;34m(\u001b[0m\u001b[0mself\u001b[0m\u001b[0;34m,\u001b[0m \u001b[0minput\u001b[0m\u001b[0;34m,\u001b[0m \u001b[0mresult\u001b[0m\u001b[0;34m)\u001b[0m\u001b[0;34m\u001b[0m\u001b[0;34m\u001b[0m\u001b[0m\n",
            "\u001b[0;32m/usr/local/lib/python3.6/dist-packages/torch/nn/modules/batchnorm.py\u001b[0m in \u001b[0;36mforward\u001b[0;34m(self, input)\u001b[0m\n\u001b[1;32m     70\u001b[0m             \u001b[0;31m# TODO: if statement only here to tell the jit to skip emitting this when it is None\u001b[0m\u001b[0;34m\u001b[0m\u001b[0;34m\u001b[0m\u001b[0;34m\u001b[0m\u001b[0m\n\u001b[1;32m     71\u001b[0m             \u001b[0;32mif\u001b[0m \u001b[0mself\u001b[0m\u001b[0;34m.\u001b[0m\u001b[0mnum_batches_tracked\u001b[0m \u001b[0;32mis\u001b[0m \u001b[0;32mnot\u001b[0m \u001b[0;32mNone\u001b[0m\u001b[0;34m:\u001b[0m\u001b[0;34m\u001b[0m\u001b[0;34m\u001b[0m\u001b[0m\n\u001b[0;32m---> 72\u001b[0;31m                 \u001b[0mself\u001b[0m\u001b[0;34m.\u001b[0m\u001b[0mnum_batches_tracked\u001b[0m \u001b[0;34m+=\u001b[0m \u001b[0;36m1\u001b[0m\u001b[0;34m\u001b[0m\u001b[0;34m\u001b[0m\u001b[0m\n\u001b[0m\u001b[1;32m     73\u001b[0m                 \u001b[0;32mif\u001b[0m \u001b[0mself\u001b[0m\u001b[0;34m.\u001b[0m\u001b[0mmomentum\u001b[0m \u001b[0;32mis\u001b[0m \u001b[0;32mNone\u001b[0m\u001b[0;34m:\u001b[0m  \u001b[0;31m# use cumulative moving average\u001b[0m\u001b[0;34m\u001b[0m\u001b[0;34m\u001b[0m\u001b[0m\n\u001b[1;32m     74\u001b[0m                     \u001b[0mexponential_average_factor\u001b[0m \u001b[0;34m=\u001b[0m \u001b[0;36m1.0\u001b[0m \u001b[0;34m/\u001b[0m \u001b[0mfloat\u001b[0m\u001b[0;34m(\u001b[0m\u001b[0mself\u001b[0m\u001b[0;34m.\u001b[0m\u001b[0mnum_batches_tracked\u001b[0m\u001b[0;34m)\u001b[0m\u001b[0;34m\u001b[0m\u001b[0;34m\u001b[0m\u001b[0m\n",
            "\u001b[0;32m/usr/local/lib/python3.6/dist-packages/torch/nn/modules/module.py\u001b[0m in \u001b[0;36m__setattr__\u001b[0;34m(self, name, value)\u001b[0m\n\u001b[1;32m    585\u001b[0m             type(self).__name__, name))\n\u001b[1;32m    586\u001b[0m \u001b[0;34m\u001b[0m\u001b[0m\n\u001b[0;32m--> 587\u001b[0;31m     \u001b[0;32mdef\u001b[0m \u001b[0m__setattr__\u001b[0m\u001b[0;34m(\u001b[0m\u001b[0mself\u001b[0m\u001b[0;34m,\u001b[0m \u001b[0mname\u001b[0m\u001b[0;34m,\u001b[0m \u001b[0mvalue\u001b[0m\u001b[0;34m)\u001b[0m\u001b[0;34m:\u001b[0m\u001b[0;34m\u001b[0m\u001b[0;34m\u001b[0m\u001b[0m\n\u001b[0m\u001b[1;32m    588\u001b[0m         \u001b[0;32mdef\u001b[0m \u001b[0mremove_from\u001b[0m\u001b[0;34m(\u001b[0m\u001b[0;34m*\u001b[0m\u001b[0mdicts\u001b[0m\u001b[0;34m)\u001b[0m\u001b[0;34m:\u001b[0m\u001b[0;34m\u001b[0m\u001b[0;34m\u001b[0m\u001b[0m\n\u001b[1;32m    589\u001b[0m             \u001b[0;32mfor\u001b[0m \u001b[0md\u001b[0m \u001b[0;32min\u001b[0m \u001b[0mdicts\u001b[0m\u001b[0;34m:\u001b[0m\u001b[0;34m\u001b[0m\u001b[0;34m\u001b[0m\u001b[0m\n",
            "\u001b[0;31mKeyboardInterrupt\u001b[0m: "
          ]
        }
      ]
    },
    {
      "cell_type": "code",
      "metadata": {
        "id": "Ptl7Yd__tuuq",
        "colab_type": "code",
        "colab": {
          "base_uri": "https://localhost:8080/",
          "height": 279
        },
        "outputId": "3973a4ea-6bd7-46aa-c0af-8bcee8f71855"
      },
      "source": [
        "plt.plot(losses)\n"
      ],
      "execution_count": 26,
      "outputs": [
        {
          "output_type": "execute_result",
          "data": {
            "text/plain": [
              "[<matplotlib.lines.Line2D at 0x7f807006e6d8>]"
            ]
          },
          "metadata": {
            "tags": []
          },
          "execution_count": 26
        },
        {
          "output_type": "display_data",
          "data": {
            "image/png": "[encoded data removed]",
            "text/plain": [
              "<Figure size 432x288 with 1 Axes>"
            ]
          },
          "metadata": {
            "tags": []
          }
        }
      ]
    },
    {
      "cell_type": "code",
      "metadata": {
        "id": "BnQYWs236f0r",
        "colab_type": "code",
        "colab": {}
      },
      "source": [
        "net.save()"
      ],
      "execution_count": 0,
      "outputs": []
    }
  ]
}