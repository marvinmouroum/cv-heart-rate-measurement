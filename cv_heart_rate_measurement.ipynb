{
  "nbformat": 4,
  "nbformat_minor": 0,
  "metadata": {
    "colab": {
      "name": "Copy of cv-heart-rate-measurement.ipynb",
      "provenance": [],
      "collapsed_sections": [
        "NeG8b11c8351"
      ],
      "include_colab_link": true
    },
    "kernelspec": {
      "name": "python3",
      "display_name": "Python 3"
    },
    "language_info": {
      "codemirror_mode": {
        "name": "ipython",
        "version": 3
      },
      "file_extension": ".py",
      "mimetype": "text/x-python",
      "name": "python",
      "nbconvert_exporter": "python",
      "pygments_lexer": "ipython3",
      "version": "3.5.2"
    },
    "accelerator": "GPU"
  },
  "cells": [
    {
      "cell_type": "markdown",
      "metadata": {
        "id": "view-in-github",
        "colab_type": "text"
      },
      "source": [
        "<a href=\"https://colab.research.google.com/github/marvinmouroum/cv-heart-rate-measurement/blob/master/cv_heart_rate_measurement.ipynb\" target=\"_parent\"><img src=\"https://colab.research.google.com/assets/colab-badge.svg\" alt=\"Open In Colab\"/></a>"
      ]
    },
    {
      "cell_type": "markdown",
      "metadata": {
        "colab_type": "text",
        "id": "yPlqJBezCi4H"
      },
      "source": [
        "# Face detection"
      ]
    },
    {
      "cell_type": "markdown",
      "metadata": {
        "id": "CRuoy4ARqQQ0",
        "colab_type": "text"
      },
      "source": [
        "### Initialize the Code"
      ]
    },
    {
      "cell_type": "code",
      "metadata": {
        "colab_type": "code",
        "id": "r5RaNFXcCTVe",
        "colab": {}
      },
      "source": [
        "import os\n",
        "import cv2\n",
        "import numpy as np\n",
        "from pydrive.auth import GoogleAuth\n",
        "from pydrive.drive import GoogleDrive\n",
        "from google.colab import auth\n",
        "from oauth2client.client import GoogleCredentials\n",
        "import io\n",
        "from googleapiclient.http import MediaIoBaseDownload\n",
        "from google.colab import drive as gdrive\n",
        "\n",
        "import matplotlib.pyplot as plt\n",
        "plt.style.use('seaborn-whitegrid')\n",
        "import statistics\n",
        "\n",
        "from IPython.display import Math, HTML"
      ],
      "execution_count": 0,
      "outputs": []
    },
    {
      "cell_type": "code",
      "metadata": {
        "colab_type": "code",
        "id": "Dxd9JfOXDeNe",
        "outputId": "1bff3770-9559-494e-b65e-049353dbf05e",
        "colab": {
          "base_uri": "https://localhost:8080/",
          "height": 122
        }
      },
      "source": [
        "gdrive.mount('/content/gdrive')\n",
        "root_path = 'gdrive/My Drive/Project/'\n",
        "source_path = 'gdrive/My Drive/cohface/'\n",
        "\n",
        "auth.authenticate_user()\n",
        "gauth = GoogleAuth()\n",
        "gauth.credentials = GoogleCredentials.get_application_default()\n",
        "drive = GoogleDrive(gauth)"
      ],
      "execution_count": 2,
      "outputs": [
        {
          "output_type": "stream",
          "text": [
            "Go to this URL in a browser: https://accounts.google.com/o/oauth2/auth?client_id=947318989803-6bn6qk8qdgf4n4g3pfee6491hc0brc4i.apps.googleusercontent.com&redirect_uri=urn%3aietf%3awg%3aoauth%3a2.0%3aoob&response_type=code&scope=email%20https%3a%2f%2fwww.googleapis.com%2fauth%2fdocs.test%20https%3a%2f%2fwww.googleapis.com%2fauth%2fdrive%20https%3a%2f%2fwww.googleapis.com%2fauth%2fdrive.photos.readonly%20https%3a%2f%2fwww.googleapis.com%2fauth%2fpeopleapi.readonly\n",
            "\n",
            "Enter your authorization code:\n",
            "··········\n",
            "Mounted at /content/gdrive\n"
          ],
          "name": "stdout"
        }
      ]
    },
    {
      "cell_type": "code",
      "metadata": {
        "colab_type": "code",
        "id": "PpKV4LRdCoeg",
        "colab": {}
      },
      "source": [
        "# Define paths\n",
        "prototxt_path = os.path.join(root_path + 'deploy.prototxt')\n",
        "caffemodel_path = os.path.join(root_path + 'weights.caffemodel')\n",
        "\n",
        "prototxt_path_id = '1-zfDOBY5fVcEzwii2JlrIDFyhLyvu5m5'\n",
        "caffemodel_path_id = '1jxuFoSukXr78rLfBgkLwn2qiWNUfoONf'\n",
        "image_id = '1wb8whYMorQNU2YvmHZsZGFeUTDc-95DN'\n",
        "\n",
        "downloaded = drive.CreateFile({'id': prototxt_path_id})\n",
        "downloaded.GetContentFile('deploy.prototxt')\n",
        "\n",
        "downloaded = drive.CreateFile({'id': caffemodel_path_id})\n",
        "downloaded.GetContentFile('weights.caffemodel')\n",
        "\n",
        "# Read the model\n",
        "model = cv2.dnn.readNetFromCaffe(prototxt_path, caffemodel_path)"
      ],
      "execution_count": 0,
      "outputs": []
    },
    {
      "cell_type": "markdown",
      "metadata": {
        "colab_type": "text",
        "id": "NeG8b11c8351"
      },
      "source": [
        "### Proof of Concept\n",
        "\n",
        "Not needed for running for the detection"
      ]
    },
    {
      "cell_type": "code",
      "metadata": {
        "colab_type": "code",
        "id": "jgKG3CzNHfDJ",
        "outputId": "988590c8-904f-42cb-d616-83c4eb4113e8",
        "colab": {
          "base_uri": "https://localhost:8080/",
          "height": 34
        }
      },
      "source": [
        "!ls gdrive/My\\ Drive/Project"
      ],
      "execution_count": 0,
      "outputs": [
        {
          "output_type": "stream",
          "text": [
            "deploy.prototxt  example.jpg  weights.caffemodel\n"
          ],
          "name": "stdout"
        }
      ]
    },
    {
      "cell_type": "code",
      "metadata": {
        "colab_type": "code",
        "id": "RAi_gPq0CwCy",
        "outputId": "763a725a-e7d2-4e22-863a-cb66a8d36654",
        "colab": {
          "base_uri": "https://localhost:8080/",
          "height": 34
        }
      },
      "source": [
        "# Create directory 'updated_images' if it does not exist\n",
        "if not os.path.exists('updated_images'):\n",
        "\tprint(\"New directory created\")\n",
        "\tos.makedirs('updated_images')"
      ],
      "execution_count": 0,
      "outputs": [
        {
          "output_type": "stream",
          "text": [
            "New directory created\n"
          ],
          "name": "stdout"
        }
      ]
    },
    {
      "cell_type": "code",
      "metadata": {
        "colab_type": "code",
        "id": "Jbib6vYrCwlA",
        "outputId": "33c6dfd8-e049-4330-fc8e-10de15c97d6d",
        "colab": {
          "base_uri": "https://localhost:8080/",
          "height": 34
        }
      },
      "source": [
        "# Create directory 'faces' if it does not exist\n",
        "if not os.path.exists('faces'):\n",
        "\tprint(\"New directory created\")\n",
        "\tos.makedirs('faces')"
      ],
      "execution_count": 0,
      "outputs": [
        {
          "output_type": "stream",
          "text": [
            "New directory created\n"
          ],
          "name": "stdout"
        }
      ]
    },
    {
      "cell_type": "code",
      "metadata": {
        "colab_type": "code",
        "id": "bBV29KjSLd7y",
        "outputId": "41de866b-4107-48a4-baca-9c9c8b83ce7b",
        "colab": {
          "base_uri": "https://localhost:8080/",
          "height": 34
        }
      },
      "source": [
        "!ls images"
      ],
      "execution_count": 0,
      "outputs": [
        {
          "output_type": "stream",
          "text": [
            "ls: cannot access 'images': No such file or directory\n"
          ],
          "name": "stdout"
        }
      ]
    },
    {
      "cell_type": "code",
      "metadata": {
        "colab_type": "code",
        "id": "99zPtf5kC234",
        "outputId": "c8dd1e5d-6eca-4cf9-a112-1c60bdae9368",
        "colab": {
          "base_uri": "https://localhost:8080/",
          "height": 215
        }
      },
      "source": [
        "# Loop through all images and save images with marked faces\n",
        "for file in os.listdir('images'):\n",
        "\tfile_name, file_extension = os.path.splitext(file)\n",
        "\tif (file_extension in ['.png','.jpg']):\n",
        "\t\tprint(\"Image path: {}\".format('images/' + file))"
      ],
      "execution_count": 0,
      "outputs": [
        {
          "output_type": "error",
          "ename": "FileNotFoundError",
          "evalue": "ignored",
          "traceback": [
            "\u001b[0;31m---------------------------------------------------------------------------\u001b[0m",
            "\u001b[0;31mFileNotFoundError\u001b[0m                         Traceback (most recent call last)",
            "\u001b[0;32m<ipython-input-8-8bf837c853c6>\u001b[0m in \u001b[0;36m<module>\u001b[0;34m()\u001b[0m\n\u001b[0;32m----> 1\u001b[0;31m \u001b[0;32mfor\u001b[0m \u001b[0mfile\u001b[0m \u001b[0;32min\u001b[0m \u001b[0mos\u001b[0m\u001b[0;34m.\u001b[0m\u001b[0mlistdir\u001b[0m\u001b[0;34m(\u001b[0m\u001b[0;34m'images'\u001b[0m\u001b[0;34m)\u001b[0m\u001b[0;34m:\u001b[0m\u001b[0;34m\u001b[0m\u001b[0;34m\u001b[0m\u001b[0m\n\u001b[0m\u001b[1;32m      2\u001b[0m         \u001b[0mfile_name\u001b[0m\u001b[0;34m,\u001b[0m \u001b[0mfile_extension\u001b[0m \u001b[0;34m=\u001b[0m \u001b[0mos\u001b[0m\u001b[0;34m.\u001b[0m\u001b[0mpath\u001b[0m\u001b[0;34m.\u001b[0m\u001b[0msplitext\u001b[0m\u001b[0;34m(\u001b[0m\u001b[0mfile\u001b[0m\u001b[0;34m)\u001b[0m\u001b[0;34m\u001b[0m\u001b[0;34m\u001b[0m\u001b[0m\n\u001b[1;32m      3\u001b[0m         \u001b[0;32mif\u001b[0m \u001b[0;34m(\u001b[0m\u001b[0mfile_extension\u001b[0m \u001b[0;32min\u001b[0m \u001b[0;34m[\u001b[0m\u001b[0;34m'.png'\u001b[0m\u001b[0;34m,\u001b[0m\u001b[0;34m'.jpg'\u001b[0m\u001b[0;34m]\u001b[0m\u001b[0;34m)\u001b[0m\u001b[0;34m:\u001b[0m\u001b[0;34m\u001b[0m\u001b[0;34m\u001b[0m\u001b[0m\n\u001b[1;32m      4\u001b[0m                 \u001b[0mprint\u001b[0m\u001b[0;34m(\u001b[0m\u001b[0;34m\"Image path: {}\"\u001b[0m\u001b[0;34m.\u001b[0m\u001b[0mformat\u001b[0m\u001b[0;34m(\u001b[0m\u001b[0;34m'images/'\u001b[0m \u001b[0;34m+\u001b[0m \u001b[0mfile\u001b[0m\u001b[0;34m)\u001b[0m\u001b[0;34m)\u001b[0m\u001b[0;34m\u001b[0m\u001b[0;34m\u001b[0m\u001b[0m\n",
            "\u001b[0;31mFileNotFoundError\u001b[0m: [Errno 2] No such file or directory: 'images'"
          ]
        }
      ]
    },
    {
      "cell_type": "code",
      "metadata": {
        "colab_type": "code",
        "id": "wqjpDFJVC5FV",
        "colab": {}
      },
      "source": [
        "image = cv2.imread('images/' + file)\n",
        "\n",
        "(h, w) = image.shape[:2]\n",
        "blob = cv2.dnn.blobFromImage(cv2.resize(image, (300, 300)), 1.0, (300, 300), (104.0, 177.0, 123.0))\n",
        "\n",
        "model.setInput(blob)\n",
        "detections = model.forward()"
      ],
      "execution_count": 0,
      "outputs": []
    },
    {
      "cell_type": "code",
      "metadata": {
        "colab_type": "code",
        "id": "KEH4wDdxC8AL",
        "colab": {}
      },
      "source": [
        "# Create frame around face\n",
        "for i in range(0, detections.shape[2]):\n",
        "  box = detections[0, 0, i, 3:7] * np.array([w, h, w, h])\n",
        "  (startX, startY, endX, endY) = box.astype(\"int\")\n",
        "\n",
        "  confidence = detections[0, 0, i, 2]\n",
        "\n",
        "  # If confidence > 0.5, show box around face\n",
        "  if (confidence > 0.5):\n",
        "    cv2.rectangle(image, (startX, startY), (endX, endY), (255, 255, 255), 2)\n",
        "\n",
        "cv2.imwrite('updated_images/' + file, image)\n",
        "print(\"Image \" + file + \" converted successfully\")"
      ],
      "execution_count": 0,
      "outputs": []
    },
    {
      "cell_type": "code",
      "metadata": {
        "colab_type": "code",
        "id": "TrMDH_cQDDP8",
        "colab": {}
      },
      "source": [
        "count = 0\n",
        "# Identify each face\n",
        "for i in range(0, detections.shape[2]):\n",
        "  box = detections[0, 0, i, 3:7] * np.array([w, h, w, h])\n",
        "  (startX, startY, endX, endY) = box.astype(\"int\")\n",
        "\n",
        "  confidence = detections[0, 0, i, 2]\n",
        "\n",
        "  # If confidence > 0.5, save it as a separate file\n",
        "  if (confidence > 0.5):\n",
        "    count += 1\n",
        "    frame = image[startY:endY, startX:endX]\n",
        "    cv2.imwrite('faces/' + str(i) + '_' + file, frame)"
      ],
      "execution_count": 0,
      "outputs": []
    },
    {
      "cell_type": "code",
      "metadata": {
        "colab_type": "code",
        "id": "5JYmD2i4New2",
        "colab": {}
      },
      "source": [
        "!ls updated_images"
      ],
      "execution_count": 0,
      "outputs": []
    },
    {
      "cell_type": "code",
      "metadata": {
        "colab_type": "code",
        "id": "5WLdBEaLNk29",
        "colab": {}
      },
      "source": [
        "from IPython.display import Image\n",
        "display(Image('updated_images/image.jpg'))\n",
        "display(Image('faces/0_image.jpg'))"
      ],
      "execution_count": 0,
      "outputs": []
    },
    {
      "cell_type": "code",
      "metadata": {
        "colab_type": "code",
        "id": "dOZyGFX_RU0c",
        "colab": {}
      },
      "source": [
        "downloaded = drive.CreateFile({'id': '10d5-_YC2lX09LfnbbvraW0GoAKeqXUDu'})\n",
        "downloaded.GetContentFile('videos/data.avi')"
      ],
      "execution_count": 0,
      "outputs": []
    },
    {
      "cell_type": "markdown",
      "metadata": {
        "colab_type": "text",
        "id": "3GudD3Ta8-jK"
      },
      "source": [
        "## Video Implementation"
      ]
    },
    {
      "cell_type": "markdown",
      "metadata": {
        "id": "Cdw6WrXnlI5x",
        "colab_type": "text"
      },
      "source": [
        "### This sections creates a local document structure in order to \n",
        "\n",
        "*   save a video locally in *temp_video*\n",
        "*   extract the face and save the image with bounding box locally in *bounding*\n",
        "*   extract the face and save it in a specified folder *faces/videoID*\n",
        "*   resize the face and save it in the directory *resized/videoID\n",
        "\n",
        "\n",
        "\n",
        "\n"
      ]
    },
    {
      "cell_type": "code",
      "metadata": {
        "id": "FA1A-VGEmgIi",
        "colab_type": "code",
        "colab": {}
      },
      "source": [
        "#This will clean the creates data\n",
        "def clean(temp='temp_video',bound='bounding',faces='faces',resized='resized'):\n",
        "  !rm -r $temp\n",
        "  !rm -r $bound\n",
        "  !rm -r $faces\n",
        "  !rm -r $resized \n",
        "\n",
        "#This will create all the necessary directories in order to perform the preprocessing\n",
        "def create_infrastructure(temp='temp_video',bound='bounding',faces='faces',resized='resized'):\n",
        "  !mkdir $temp\n",
        "  !mkdir $bound\n",
        "  !mkdir $faces\n",
        "  !mkdir $resized\n",
        "  !mkdir 'gdrive/My Drive/cohface/frames'\n",
        "\n",
        "#This will copy a video from the drive in the respective directory and create a folder dedicated to it's id\n",
        "def getVideo(path,id,faces='faces',bound='bounding',resized='resized',temp='temp_video'):\n",
        "  !mkdir $faces/$id\n",
        "  !mkdir $bound/$id\n",
        "  !mkdir $resized/$id\n",
        "  filetype = path.split('.')[-1]\n",
        "  target   = \"'\" + temp + '/' + id + '.' + filetype + \"'\"\n",
        "  source   = \"'\" + path + \"'\"\n",
        "  #print(\"!cp\" + \" \" + source + \" \" + target)\n",
        "  !cp $path $target\n",
        "  return temp + '/' + id + '.' + filetype"
      ],
      "execution_count": 0,
      "outputs": []
    },
    {
      "cell_type": "code",
      "metadata": {
        "id": "rKxLOyZCEBew",
        "colab_type": "code",
        "colab": {}
      },
      "source": [
        "def resize_img(img,destination):\n",
        "  # Create square images from pepes by adding black margins preserving original aspect ratio\n",
        "  #Importing modules opencv + numpy\n",
        "  import cv2\n",
        "  import numpy as np\n",
        "\n",
        "  w = 128\n",
        "  h = 192\n",
        "\n",
        "  #Reading an image (you can use PNG or JPG)\n",
        "  name = img\n",
        "  img = cv2.imread(img)\n",
        "\n",
        "  if(img.shape[0] > h or img.shape[1] > w):\n",
        "    #print(\"bigger image detected\")\n",
        "    img = cv2.resize(img,(w,h))\n",
        "\n",
        "  if img is None:\n",
        "    print(\"Could not read image \", name)\n",
        "    return False\n",
        "\n",
        "  #Creating a dark square with NUMPY  \n",
        "  f = np.zeros((h,w,3),np.uint8)\n",
        "\n",
        "  #Getting the centering position\n",
        "  ax,ay = (w - img.shape[1])//2,(h - img.shape[0])//2\n",
        "\n",
        "  #Pasting the 'image' in a centering position\n",
        "  f[ay:img.shape[0]+ay,ax:ax+img.shape[1]] = img\n",
        "  \n",
        "\n",
        "  #Saving the image\n",
        "  f = cv2.resize(f,(w,h),interpolation=cv2.INTER_NEAREST)\n",
        "  cv2.imwrite(destination,f)\n",
        "  cv2.destroyAllWindows() \n",
        "  return True"
      ],
      "execution_count": 0,
      "outputs": []
    },
    {
      "cell_type": "code",
      "metadata": {
        "colab_type": "code",
        "id": "6ynbTkvZ6QwC",
        "colab": {}
      },
      "source": [
        "def find_face(image,id,fileID,bound='bounding',faces='faces'):\n",
        "\n",
        "  count = 0\n",
        "\n",
        "  (h, w) = image.shape[:2]\n",
        "  blob = cv2.dnn.blobFromImage(cv2.resize(image, (300, 300)), 1.0, (300, 300), (104.0, 177.0, 123.0))\n",
        "\n",
        "  model.setInput(blob)\n",
        "  detections = model.forward()\n",
        "  # Create frame around face\n",
        "  for i in range(0, detections.shape[2]):\n",
        "    box = detections[0, 0, i, 3:7] * np.array([w, h, w, h])\n",
        "    (startX, startY, endX, endY) = box.astype(\"int\")\n",
        "\n",
        "    confidence = detections[0, 0, i, 2]\n",
        "\n",
        "    # If confidence > 0.5, show box around face\n",
        "    if (confidence > 0.5):\n",
        "      cv2.rectangle(image, (startX, startY), (endX, endY), (255, 255, 255), 2)\n",
        "      #print(endX-startX)\n",
        "      #print(endY-startY)\n",
        "    \n",
        "  cv2.imwrite( bound + '/' + id + '/' + fileID + '.png', image)\n",
        "\n",
        "    # Identify each face#\n",
        "  for i in range(0, detections.shape[2]):\n",
        "    box = detections[0, 0, i, 3:7] * np.array([w, h, w, h])\n",
        "    (startX, startY, endX, endY) = box.astype(\"int\")\n",
        "\n",
        "    confidence = detections[0, 0, i, 2]\n",
        "\n",
        "    # If confidence > 0.5, save it as a separate file\n",
        "    if (confidence > 0.5):\n",
        "      count += 1\n",
        "      frame = image[startY:endY, startX:endX]\n",
        "      #print(faces + '/' + id + '/' + fileID + '.png')\n",
        "      cv2.imwrite( faces + '/' + id + '/' + fileID + '.png', frame)\n",
        "      #cv2_imshow(frame)\n",
        "      resize_img(faces + '/' + id + '/' + fileID + '.png','resized/' + id + '/' + fileID + '.png')\n",
        "  \n",
        "  if count == 0:\n",
        "    print(\"did not find face for \" , fileID)\n",
        "    return\n",
        "  else:\n",
        "    return 'resized/' + id + '/' + fileID + '.png'\n"
      ],
      "execution_count": 0,
      "outputs": []
    },
    {
      "cell_type": "code",
      "metadata": {
        "colab_type": "code",
        "id": "73LJ5-kWJEA3",
        "colab": {}
      },
      "source": [
        "def analyze_video(video,id,temp='temp_video'):\n",
        "\n",
        "  # load video stream\n",
        "  VIDEO_STREAM =  temp + '/' + video\n",
        "\n",
        "  # Initialize the video stream and pointer to output video file\n",
        "  vs = cv2.VideoCapture(VIDEO_STREAM)\n",
        "  writer = None\n",
        "  vs.set(cv2.CAP_PROP_POS_FRAMES, 1);\n",
        "  length = int(vs.get(cv2.CAP_PROP_FRAME_COUNT))\n",
        "  print( \"frame has length of \" , length )\n",
        "  i = 0\n",
        "  frames = []\n",
        "  while i < length:\n",
        "    # read the next frame from the file\n",
        "    (grabbed, frame) = vs.read()\n",
        "    i += 1\n",
        "    # If the frame was not grabbed, then we have reached the end\n",
        "    # of the stream\n",
        "    if not grabbed:\n",
        "      print(\"Not grabbed.\")\n",
        "      break;\n",
        "    newID = id + str(i)\n",
        "    img = find_face(frame,id,newID)\n",
        "    \n",
        "    if img is None:\n",
        "      print(\"image \"+str(id)+\" was not saved correctly\")\n",
        "      continue\n",
        "\n",
        "    img_array = cv2.imread(img)\n",
        "\n",
        "    if img_array is None:\n",
        "      print(\"array is none - black image appended\")\n",
        "      frames.append( np.zeros((192, 128, 3)) )\n",
        "      continue\n",
        "\n",
        "    frames.append( img_array )\n",
        "    \n",
        "    if i%100 == 0:\n",
        "      print(i)\n",
        "    #break\n",
        "  return frames"
      ],
      "execution_count": 0,
      "outputs": []
    },
    {
      "cell_type": "markdown",
      "metadata": {
        "id": "zWLaQh6epZuf",
        "colab_type": "text"
      },
      "source": [
        "### This section generates frames only of the face and saves them in a folder on the drive and local storage"
      ]
    },
    {
      "cell_type": "code",
      "metadata": {
        "colab_type": "code",
        "id": "v3Fj3puONz0W",
        "colab": {}
      },
      "source": [
        "from google.colab.patches import cv2_imshow\n",
        "\n",
        "def save_face_for(subject,folder):\n",
        "  myid = str(subject)+'_'+str(folder)\n",
        "  clean()\n",
        "  create_infrastructure()\n",
        "  filepath = getVideo('gdrive/My\\ Drive/cohface/'+str(subject)+'/'+str(folder)+'/data.avi',myid)\n",
        "  filename = filepath.split(\"/\")[-1]\n",
        "  frames = analyze_video(filename,myid)\n",
        "\n",
        "  destination = 'gdrive/My\\ Drive/cohface/frames/' + myid\n",
        "  _destination = \"'\" + 'gdrive/My Drive/cohface/frames/' + myid + \"'\" \n",
        "  _source = \"'resized/\"+myid+\"/.'\"\n",
        "  !mkdir $destination\n",
        "  !cp -a $_source $_destination\n",
        "  return frames"
      ],
      "execution_count": 0,
      "outputs": []
    },
    {
      "cell_type": "code",
      "metadata": {
        "id": "IFXRSqtCeTRs",
        "colab_type": "code",
        "colab": {}
      },
      "source": [
        "results = save_face_for(36,2)"
      ],
      "execution_count": 0,
      "outputs": []
    },
    {
      "cell_type": "code",
      "metadata": {
        "id": "74VFzV5sgb_Y",
        "colab_type": "code",
        "outputId": "f1139643-8408-4750-ce67-8b2a720d0fe3",
        "colab": {
          "base_uri": "https://localhost:8080/",
          "height": 226
        }
      },
      "source": [
        "cv2_imshow(results[1000])"
      ],
      "execution_count": 0,
      "outputs": [
        {
          "output_type": "display_data",
          "data": {
            "image/png": "[encoded data removed]",
            "text/plain": [
              "<PIL.Image.Image image mode=RGB size=128x192 at 0x7F37B62446A0>"
            ]
          },
          "metadata": {
            "tags": []
          }
        },
        {
          "output_type": "execute_result",
          "data": {
            "text/plain": [
              "(192, 128, 3)"
            ]
          },
          "metadata": {
            "tags": []
          },
          "execution_count": 322
        }
      ]
    },
    {
      "cell_type": "code",
      "metadata": {
        "id": "bD804V2Dku_R",
        "colab_type": "code",
        "colab": {}
      },
      "source": [
        "def getVideos(random, vtype, nb, path, videosPaths):\n",
        "    if nb > len(videosPaths):\n",
        "      for file in os.listdir(path): # Get files and directories of the directory\n",
        "          _, currVidType = os.path.splitext(file)\n",
        "          if os.path.isdir(file): # This is a directory\n",
        "              getVideos(random, vtype, nb, path+'/'+file, videosPaths) \n",
        "          elif currVidType == '.'+vtype: # This is a file with the good video type\n",
        "              videosPaths.append(path+'/'+file)\n",
        "    return videosPaths "
      ],
      "execution_count": 0,
      "outputs": []
    },
    {
      "cell_type": "code",
      "metadata": {
        "id": "L1zRQ2ekku_S",
        "colab_type": "code",
        "colab": {}
      },
      "source": [
        "def script(random, vtype, nb, directories):\n",
        "  videosPaths = []\n",
        "  if len(directories)==0:\n",
        "    currentdirpath = os.getcwd()\n",
        "    videosPaths = getVideos(random, vtype, nb, currentdirpath, videosPaths)\n",
        "  else: \n",
        "    # there is no directory\t \n",
        "    for i in range(0,len(directories)):\n",
        "        videosPaths += getVideos(random, vtype, nb, directories[i],videosPaths)  \n",
        "       \n",
        "  return videosPaths"
      ],
      "execution_count": 0,
      "outputs": []
    },
    {
      "cell_type": "code",
      "metadata": {
        "colab_type": "code",
        "id": "WOvexQEzgsIt",
        "colab": {}
      },
      "source": [
        ""
      ],
      "execution_count": 0,
      "outputs": []
    },
    {
      "cell_type": "markdown",
      "metadata": {
        "id": "VfMxqC7mppRn",
        "colab_type": "text"
      },
      "source": [
        "## Here will be the dataloader that organizes the dataset for our training"
      ]
    },
    {
      "cell_type": "markdown",
      "metadata": {
        "id": "Osnd3MXQqvUB",
        "colab_type": "text"
      },
      "source": [
        "### Insights\n",
        "\n",
        "This section is for reading the labeled data, plotting and analyzing it."
      ]
    },
    {
      "cell_type": "code",
      "metadata": {
        "id": "K-gvY0MBlyY2",
        "colab_type": "code",
        "colab": {}
      },
      "source": [
        "import h5py\n",
        "#library documentation: http://docs.h5py.org/en/stable/quick.html\n",
        "\n",
        "f = h5py.File('gdrive/My Drive/cohface/36/1/data.hdf5', 'r')\n",
        "list(f.keys())\n",
        "\n",
        "dset = f['pulse']\n",
        "tset = f['time'] #in seconds\n",
        "\n",
        "print(dset.shape)\n",
        "tset.shape\n",
        "int(tset[-1])\n",
        "\n",
        "avg = statistics.mean(dset)\n",
        "sd = statistics.stdev(dset)\n",
        "\n",
        "srt = 50\n",
        "stp = dset.size\n",
        "avgV = [avg] * (stp-srt)\n",
        "\n",
        "#have a look at the data\n",
        "plt.plot(tset[srt:stp], dset[srt:stp], '-', color='black');\n",
        "plt.plot(tset[srt:stp], avgV, '-', color='green');\n",
        "\n",
        "# calculate polynomial\n",
        "z = np.polyfit(tset[srt:stp], dset[srt:stp], 25)\n",
        "f = np.poly1d(z)\n",
        "\n",
        "y_new = f(tset[srt:stp])\n",
        "print(y_new)\n",
        "plt.plot(tset[srt:stp], y_new, '-', color='red');\n"
      ],
      "execution_count": 0,
      "outputs": []
    },
    {
      "cell_type": "markdown",
      "metadata": {
        "id": "VjwrMaNXrOPU",
        "colab_type": "text"
      },
      "source": [
        "### Methods\n",
        "\n",
        "This section contains methods to extract the real HR from the raw BVP data. Some methods will extract the HR for every other second, others will extract the HR for every frame. In the latter case missing fields will be filled by existing values closed by.\n",
        "Cleaning is performed to keep the HR values between 40 and 240 (like in the Paper) Wrong values will be substituted by the mean value."
      ]
    },
    {
      "cell_type": "code",
      "metadata": {
        "id": "6oKjbLdQrglw",
        "colab_type": "code",
        "colab": {}
      },
      "source": [
        "def clean_hr_vector(vector):\n",
        "  print(\"cleaning\")\n",
        "\n",
        "  cleaned = list(filter(lambda x: x < 240, vector))\n",
        "  cleaned = list(filter(lambda x: x > 40, vector))\n",
        "  mean = statistics.mean(cleaned)\n",
        "\n",
        "  if vector[0] > 240 or vector[0] < 40:\n",
        "    vector[0] = int(mean)\n",
        "\n",
        "  for i in range(1,vector.size-1):\n",
        "\n",
        "    if i % 500 == 0:\n",
        "      print(str(int(100*i/vector.size)) + \"%\")\n",
        "    \n",
        "    if vector[i] == 0 and vector[i+1] != 0:\n",
        "      vector[i] = int((vector[i-1]+vector[i+1])/2)\n",
        "    \n",
        "    if vector[i] > 240 or vector[i] < 40:\n",
        "      vector[i] = int(mean)\n",
        "\n",
        "  print(\"100%\")\n",
        "  return vector\n",
        "\n"
      ],
      "execution_count": 0,
      "outputs": []
    },
    {
      "cell_type": "code",
      "metadata": {
        "id": "yeMpEgebnRem",
        "colab_type": "code",
        "colab": {}
      },
      "source": [
        "def extract_hr(xset,yset,start=1,end=2000, plot=False):\n",
        "   old_value = yset[start-1]\n",
        "   old_t = xset[start-1]\n",
        "   old_abs_t = 0\n",
        "\n",
        "   vector = np.zeros((int(xset[-1])*2))\n",
        "\n",
        "   valley = False\n",
        "\n",
        "   nu = statistics.mean(yset)\n",
        "   std = statistics.stdev(yset)\n",
        "\n",
        "   # calculate polynomial\n",
        "   z = np.polyfit(xset[50:-1], yset[50:-1], 25)\n",
        "   f = np.poly1d(z)\n",
        "  \n",
        "   y_new = f(xset)\n",
        "   if plot:\n",
        "    plt.plot(xset[50:-1], y_new[50:-1], '-', color='red');\n",
        "    plt.show()\n",
        "\n",
        "\n",
        "   for i in range(start,end):\n",
        "     \n",
        "     if i >= yset.size or i >= y_new.size:\n",
        "       break\n",
        "\n",
        "     if yset[i] < y_new[i] and not valley:\n",
        "        valley = True\n",
        "\n",
        "     if yset[i] > y_new[i]+std*0.5 and valley:\n",
        "        valley = False\n",
        "        \n",
        "        #print(str(int(60/(xset[i]-old_t))) + \" bpm at \" + str(old_abs_t) )\n",
        "        if old_abs_t == int(xset[-1]):\n",
        "          break\n",
        "\n",
        "        hr = int(60/(xset[i]-old_t))\n",
        "\n",
        "        if(int(2*old_abs_t) >= len(vector)):\n",
        "          continue\n",
        "        \n",
        "        if vector[int(2*old_abs_t)] == 0:\n",
        "          vector[int(2*old_abs_t)] = hr\n",
        "        elif abs((vector[int(2*old_abs_t)-1]-vector[int(2*old_abs_t)])/vector[int(2*old_abs_t)-1]) > abs((vector[int(2*old_abs_t)-1]-hr)/vector[int(2*old_abs_t)-1]):\n",
        "          vector[int(2*old_abs_t)] = hr\n",
        "\n",
        "\n",
        "        old_t = xset[i]\n",
        "\n",
        "     if int(2*xset[i])/2 > old_abs_t:\n",
        "       old_abs_t = int(2*xset[i])/2\n",
        "\n",
        "   return clean_hr_vector(vector)\n",
        "\n",
        "def hr_frame_label(xset,yset,start=1,end=2000, plot=False):\n",
        "   old_value = yset[start-1]\n",
        "   old_t = xset[start-1]\n",
        "\n",
        "   vector = np.zeros(xset.size)\n",
        "\n",
        "   valley = False\n",
        "\n",
        "   lastI = 0\n",
        "\n",
        "   nu = statistics.mean(yset)\n",
        "   std = statistics.stdev(yset)\n",
        "\n",
        "   # calculate polynomial\n",
        "   z = np.polyfit(xset[50:-1], yset[50:-1], 25)\n",
        "   f = np.poly1d(z)\n",
        "  \n",
        "   y_new = f(xset)\n",
        "   if plot:\n",
        "    plt.plot(xset[50:-1], y_new[50:-1], '-', color='red');\n",
        "    plt.show()\n",
        "\n",
        "\n",
        "   for i in range(start,end):\n",
        "     \n",
        "     if i >= yset.size or i >= y_new.size:\n",
        "       break\n",
        "\n",
        "     if yset[i] < y_new[i] and not valley:\n",
        "        valley = True\n",
        "\n",
        "     if yset[i] > y_new[i]+std*0.25 and valley:\n",
        "        valley = False\n",
        "\n",
        "        hr = int(60/(xset[i]-old_t))\n",
        "        #print(str(xset[i])+\"-\"+str(old_t)+\"=\"+str(hr))\n",
        "        \n",
        "        if vector[i] == 0:\n",
        "\n",
        "          if i == 0:\n",
        "            vector[i] = hr\n",
        "          else:\n",
        "            vector[lastI:i+1] = [hr] * (i-lastI+1)\n",
        "\n",
        "          lastI = i\n",
        "        elif abs((vector[i-1]-vector[i])/vector[i-1]) > abs((vector[i-1]-hr)/vector[i-1]):\n",
        "          vector[lastI:i+1] = [hr] * (i-lastI+1)\n",
        "          lastI = i\n",
        "        #print(str(i)+\": \" + str(vector[i]) + \" - \" + str(hr))\n",
        "\n",
        "\n",
        "        old_t = xset[i]\n",
        "\n",
        "   return clean_hr_vector(vector)\n",
        "  \n",
        "from scipy.misc import electrocardiogram\n",
        "from scipy.signal import find_peaks\n",
        "\n",
        "def peak_hr_estimation(xset,yset,start=1,end=2000, plot=False):\n",
        "  data = yset[start:end]\n",
        "  times = xset[start:end]\n",
        "\n",
        "  peaks, _ = find_peaks(data, height=0)\n",
        "  avg = statistics.mean(data)\n",
        "  avgV = [avg]*len(list(data))\n",
        "  \n",
        "  z = np.polyfit(times,data, 5)\n",
        "  f = np.poly1d(z)\n",
        "\n",
        "  hr_times = []\n",
        "  hr = []\n",
        "\n",
        "  for i in range(0,len(data[list(peaks)])):\n",
        "    if data[list(peaks)][i] > f(times[list(peaks)][i])*1.01:\n",
        "      #print(str(times[list(peaks)][i]) + \": \" + str(data[list(peaks)][i]) + \">\" + str(f(times[list(peaks)][i])*1.02))\n",
        "      hr_times.append(times[list(peaks)][i])\n",
        "      if len(hr_times) > 1:\n",
        "        hr.append(int(60/(hr_times[-1] - hr_times[-2])))\n",
        "\n",
        "#  print(hr)\n",
        "\n",
        "\n",
        "  if plot:\n",
        "    plt.plot(times,data)\n",
        "    plt.plot(times,avgV,'-',color='green')\n",
        "    plt.plot(times,f(times),'-',color='red')\n",
        "    plt.plot(times[list(peaks)], data[list(peaks)],'x')\n",
        "    plt.show()\n",
        "\n",
        "  hr_times.pop()\n",
        "  return [hr_times,hr] \n"
      ],
      "execution_count": 0,
      "outputs": []
    },
    {
      "cell_type": "code",
      "metadata": {
        "id": "mtbVe4JN0INz",
        "colab_type": "code",
        "colab": {}
      },
      "source": [
        "#extract_hr(tset,dset,0,16000)\n",
        "def get_hr(subject,folder,window=1000):\n",
        "  f = h5py.File('gdrive/My Drive/cohface/'+str(subject)+'/'+str(folder)+'/data.hdf5', 'r')\n",
        "\n",
        "  dset = f['pulse']\n",
        "  tset = f['time'] #in seconds\n",
        "  rates = []\n",
        "  times = []\n",
        "  for i in range(0,len(dset),window):\n",
        "    res = peak_hr_estimation(tset[i:i+window],dset[i:i+window],0,window,False)\n",
        "    rates += res[1]\n",
        "    times += res[0]\n",
        "\n",
        "  return times, rates\n"
      ],
      "execution_count": 0,
      "outputs": []
    },
    {
      "cell_type": "code",
      "metadata": {
        "id": "sDmPM-MfIj6C",
        "colab_type": "code",
        "outputId": "547db9ad-7fb5-49b0-f6c7-4d3f3a13d4ac",
        "colab": {
          "base_uri": "https://localhost:8080/",
          "height": 139
        }
      },
      "source": [
        "print(rates)\n",
        "print(clean_hr_vector(np.array(rates)))"
      ],
      "execution_count": 0,
      "outputs": [
        {
          "output_type": "stream",
          "text": [
            "[111, 46, 247, 152, 93, 93, 232, 93, 93, 94, 96, 97, 95, 96, 94, 96, 96, 96, 94, 92, 93, 93, 93, 94, 93, 91, 91, 90, 89, 89, 89, 88, 88, 92, 93, 92, 91, 284, 134, 91, 100, 96, 96, 97, 94, 94, 93, 93, 93, 94, 91, 94, 93, 94]\n",
            "cleaning\n",
            "100%\n",
            "[111  46 103 152  93  93 232  93  93  94  96  97  95  96  94  96  96  96\n",
            "  94  92  93  93  93  94  93  91  91  90  89  89  89  88  88  92  93  92\n",
            "  91 103 134  91 100  96  96  97  94  94  93  93  93  94  91  94  93  94]\n"
          ],
          "name": "stdout"
        }
      ]
    },
    {
      "cell_type": "code",
      "metadata": {
        "id": "TntcKXUMAkH_",
        "colab_type": "code",
        "colab": {}
      },
      "source": [
        "def heartRateForSubjects(from_=1,to=40,folder_start=0,folder_end=3, plot = False):\n",
        "  rates = [[[0]]* (folder_end-folder_start)] * (to-from_)\n",
        "  print(rates)\n",
        "  for i in range(from_,to):\n",
        "    for j in range(folder_start,folder_end):\n",
        "      print(\"\\nsubject \" + str(i) + \" set: \" + str(j) + \"\\n_________________\")\n",
        "      f = h5py.File('gdrive/My Drive/cohface/' + str(i) + '/'+ str(j) +'/data.hdf5', 'r')\n",
        "      dset = f['pulse']\n",
        "      tset = f['time']\n",
        "      if plot:\n",
        "        plt.plot(tset[50:-1], dset[50:-1], '-', color='black');\n",
        "      rates[i-from_][j-folder_start] = extract_hr(tset,dset,0,16000,plot)\n",
        "  return rates\n",
        "\n",
        "def heartRateForFrames(from_=1,to=40,folder_start=0,folder_end=3, plot = False):\n",
        "  rates = [[[0]]* (folder_end-folder_start)] * (to-from_)\n",
        "  print(rates)\n",
        "  for i in range(from_,to):\n",
        "    for j in range(folder_start,folder_end):\n",
        "      print(\"\\nsubject \" + str(i) + \" set: \" + str(j) + \"\\n_________________\")\n",
        "      f = h5py.File('gdrive/My Drive/cohface/' + str(i) + '/'+ str(j) +'/data.hdf5', 'r')\n",
        "      dset = f['pulse']\n",
        "      tset = f['time']\n",
        "      if plot:\n",
        "        plt.plot(tset[50:-1], dset[50:-1], '-', color='black');\n",
        "      rates[i-from_][j-folder_start] = hr_frame_label(tset,dset,0,16000,plot)\n",
        "  return rates\n",
        "  \n",
        "\n"
      ],
      "execution_count": 0,
      "outputs": []
    },
    {
      "cell_type": "code",
      "metadata": {
        "id": "EhalSqyBs0uX",
        "colab_type": "code",
        "outputId": "a0537895-1ba3-4db1-cc8a-bf533b59973f",
        "colab": {
          "base_uri": "https://localhost:8080/",
          "height": 894
        }
      },
      "source": [
        "#values = heartRateForSubjects(19,20,0,4,True)\n",
        "\n",
        "values = heartRateForFrames(1,2,1,2,True)\n"
      ],
      "execution_count": 0,
      "outputs": [
        {
          "output_type": "stream",
          "text": [
            "[[[0]]]\n",
            "\n",
            "subject 1 set: 1\n",
            "_________________\n"
          ],
          "name": "stdout"
        },
        {
          "output_type": "stream",
          "text": [
            "/usr/local/lib/python3.6/dist-packages/ipykernel_launcher.py:26: RankWarning: Polyfit may be poorly conditioned\n"
          ],
          "name": "stderr"
        },
        {
          "output_type": "display_data",
          "data": {
            "image/png": "[encoded data removed]",
            "text/plain": [
              "<Figure size 432x288 with 1 Axes>"
            ]
          },
          "metadata": {
            "tags": []
          }
        },
        {
          "output_type": "stream",
          "text": [
            "cleaning\n",
            "3%\n",
            "6%\n",
            "9%\n",
            "12%\n",
            "16%\n",
            "19%\n",
            "22%\n",
            "25%\n",
            "29%\n",
            "32%\n",
            "35%\n",
            "38%\n",
            "42%\n",
            "45%\n",
            "48%\n",
            "51%\n",
            "54%\n",
            "58%\n",
            "61%\n",
            "64%\n",
            "67%\n",
            "71%\n",
            "74%\n",
            "77%\n",
            "80%\n",
            "84%\n",
            "87%\n",
            "90%\n",
            "93%\n",
            "97%\n",
            "100%\n"
          ],
          "name": "stdout"
        }
      ]
    },
    {
      "cell_type": "code",
      "metadata": {
        "id": "oECu40-GHztw",
        "colab_type": "code",
        "outputId": "62871a43-a4f6-4698-bc97-8adb05d34eb2",
        "colab": {
          "base_uri": "https://localhost:8080/",
          "height": 34
        }
      },
      "source": [
        "print(values[0][0].shape)"
      ],
      "execution_count": 0,
      "outputs": [
        {
          "output_type": "stream",
          "text": [
            "(15456,)\n"
          ],
          "name": "stdout"
        }
      ]
    },
    {
      "cell_type": "code",
      "metadata": {
        "id": "iGQB5Q49wPmH",
        "colab_type": "code",
        "colab": {}
      },
      "source": [
        "print(str(len(values)))\n",
        "\n",
        "for l in values:\n",
        "  print(str(len(l)))\n",
        "  for value in l:\n",
        "    print(len(value[1:-2]))\n",
        "    print(statistics.mean(value[1:-2]))\n",
        "    print(statistics.stdev(value[1:-2]))\n",
        "    print(min(value[1:-2]))\n",
        "    print(max(value[1:-2]))\n",
        "    print(\"\\n\")"
      ],
      "execution_count": 0,
      "outputs": []
    },
    {
      "cell_type": "code",
      "metadata": {
        "id": "oOoCT-s1BXL2",
        "colab_type": "code",
        "colab": {}
      },
      "source": [
        "heartRateForSubjects(folder_start=1,folder_end=2,plot=True)"
      ],
      "execution_count": 0,
      "outputs": []
    },
    {
      "cell_type": "markdown",
      "metadata": {
        "id": "aWSMlVIFsLbv",
        "colab_type": "text"
      },
      "source": [
        "### Dataloader\n",
        "\n",
        "A potential data loader object"
      ]
    },
    {
      "cell_type": "code",
      "metadata": {
        "id": "pIQyqZbFmZii",
        "colab_type": "code",
        "colab": {}
      },
      "source": [
        "import h5py\n",
        "\n",
        "def get_data(subject,folder,window=1000):\n",
        "  \n",
        "  print('\\nget data for subject ' +str(subject)+ ' folder ' + str(folder))\n",
        "  data = []\n",
        "  #print('saving face')\n",
        "  frames = save_face_for(subject,folder)\n",
        "  #print('extract heart rate from BVP')\n",
        "  hr = get_hr(subject,folder,window) #0 = time, 1 = heart rate\n",
        "  time = np.array(hr[0])\n",
        "  rate = clean_hr_vector(np.array(hr[1]))\n",
        "  #print('map the faces with the heart rate')\n",
        "  #associate a hr to every frame\n",
        "  #print(str(len(frames)) + 'frames in 60 seconds is ' + str(len(frames)/60) + ' frames per second' )\n",
        "  d = 1/(len(frames)/60)\n",
        "  t = 0.5\n",
        "  T = 0\n",
        "\n",
        "  #print(time)\n",
        "  #print(rate)\n",
        "\n",
        "  ass_rate = statistics.mean(rate)\n",
        "\n",
        "  for i in range(0,len(frames)):\n",
        "\n",
        "    if T > t:\n",
        "      t = t+0.5\n",
        "    \n",
        "    first_index = np.where(time >= t-0.5)[0]\n",
        "    \n",
        "    index = np.where(time[list(first_index)] < t)\n",
        "\n",
        "    #print('at t '+str(t) + ' index: ' + str(index[0]) + ' and value is ' + str(rate[first_index][index[0]]))\n",
        "\n",
        "    if first_index is None or first_index.size == 0 or index[0] is None or index[0].size == 0:\n",
        "      data.append((frames[i],ass_rate))\n",
        "    else:\n",
        "      ass_rate = rate[first_index][index[0]][-1]\n",
        "      data.append((frames[i],ass_rate))\n",
        "\n",
        "    T = T + d\n",
        "\n",
        "  return data"
      ],
      "execution_count": 0,
      "outputs": []
    },
    {
      "cell_type": "markdown",
      "metadata": {
        "id": "0EZVUDlbku_U",
        "colab_type": "text"
      },
      "source": [
        ""
      ]
    },
    {
      "cell_type": "code",
      "metadata": {
        "id": "COzIxkqZku_V",
        "colab_type": "code",
        "outputId": "eb4825f5-aee0-47fe-8e15-62fbde4a732a",
        "colab": {
          "base_uri": "https://localhost:8080/",
          "height": 357
        }
      },
      "source": [
        "labeled_data = get_data(1,1)"
      ],
      "execution_count": 0,
      "outputs": [
        {
          "output_type": "stream",
          "text": [
            "\n",
            "get data for subject 1 folder 1\n",
            "mkdir: cannot create directory ‘gdrive/My Drive/cohface/frames’: File exists\n",
            "frame has length of  1207\n",
            "100\n",
            "200\n",
            "300\n",
            "400\n",
            "500\n",
            "600\n",
            "700\n",
            "800\n",
            "900\n",
            "1000\n",
            "1100\n",
            "1200\n",
            "Not grabbed.\n",
            "mkdir: cannot create directory ‘gdrive/My Drive/cohface/frames/1_1’: File exists\n",
            "cleaning\n",
            "100%\n"
          ],
          "name": "stdout"
        }
      ]
    },
    {
      "cell_type": "code",
      "metadata": {
        "id": "SMU28Tu2qVQ4",
        "colab_type": "code",
        "colab": {}
      },
      "source": [
        "i = 500\n",
        "for i in range(0,len(labeled_data)):\n",
        "  cv2_imshow(labeled_data[i][0])\n",
        "  print(labeled_data[i][1])"
      ],
      "execution_count": 0,
      "outputs": []
    },
    {
      "cell_type": "markdown",
      "metadata": {
        "id": "dFTaI0MMUwzo",
        "colab_type": "text"
      },
      "source": [
        "## Network"
      ]
    },
    {
      "cell_type": "markdown",
      "metadata": {
        "id": "U8MLasszU1ah",
        "colab_type": "text"
      },
      "source": [
        "### Loss function\n",
        "\n",
        "\n",
        "\n",
        "*   𝓁: loss\n",
        "*   ϕ: concatenation of convolutional filter parameters\n",
        "*   𝓣: labelled training set\n",
        "*   SNR: Signal-To-Noise Ratio\n",
        "*   PSD: Power Spectral Density\n",
        "*   f: true HR\n",
        "*   X: a sequence of N facial images\n",
        "\n",
        "\n",
        "\n",
        "\n"
      ]
    },
    {
      "cell_type": "code",
      "metadata": {
        "id": "2vK_AEpRVW7B",
        "colab_type": "code",
        "outputId": "66c9c8e1-5727-49d2-bf2c-cde5cd5dd7f4",
        "colab": {
          "base_uri": "https://localhost:8080/",
          "height": 99
        }
      },
      "source": [
        "display(HTML(\"<script src='https://cdnjs.cloudflare.com/ajax/libs/mathjax/2.7.3/\"\n",
        "               \"latest.js?config=default'></script>\"))\n",
        "Math(r'\\ell(\\mathcal{T};\\phi) = -\\frac{1}{l} \\sum_{j=1}^{l} SNR(f^j,X^j;\\phi)')"
      ],
      "execution_count": 0,
      "outputs": [
        {
          "output_type": "display_data",
          "data": {
            "text/html": [
              "<script src='https://cdnjs.cloudflare.com/ajax/libs/mathjax/2.7.3/latest.js?config=default'></script>"
            ],
            "text/plain": [
              "<IPython.core.display.HTML object>"
            ]
          },
          "metadata": {
            "tags": []
          }
        },
        {
          "output_type": "execute_result",
          "data": {
            "text/latex": "$$\\ell(\\mathcal{T};\\phi) = -\\frac{1}{l} \\sum_{j=1}^{l} SNR(f^j,X^j;\\phi)$$",
            "text/plain": [
              "<IPython.core.display.Math object>"
            ]
          },
          "metadata": {
            "tags": []
          },
          "execution_count": 24
        }
      ]
    },
    {
      "cell_type": "code",
      "metadata": {
        "id": "XGTbztTwWTsa",
        "colab_type": "code",
        "colab": {}
      },
      "source": [
        "def PSD(f,X,h,n,fs=20):\n",
        "\n",
        "  #f given frequency in Hz\n",
        "  #X is set of images\n",
        "  #Phi is filter parameters\n",
        "  #h is extractor output\n",
        "  #fs is sampling frequency in Hz\n",
        "\n",
        "  f_hat = f/60\n",
        "\n",
        "  result1 = torch.sum(h(X)*torch.cos(2*math.pi*f_hat*n/fs), dim=1)\n",
        "  result2 = torch.sum(h(X)*torch.sin(2*math.pi*f_hat*n/fs), dim=1)\n",
        "\n",
        "\n",
        "  return result1**2 + result2**2\n"
      ],
      "execution_count": 0,
      "outputs": []
    },
    {
      "cell_type": "code",
      "metadata": {
        "id": "XUVOXntLb3DR",
        "colab_type": "code",
        "colab": {}
      },
      "source": [
        "def SNR(f,X,F,d,h):\n",
        "\n",
        "  #f true hr\n",
        "  #X set of images\n",
        "  #F is set of possible HR\n",
        "  #d tolerance interval\n",
        "\n",
        "  Fplus = list(filter(lambda x: x > f-d, F))\n",
        "  Fplus = list(filter(lambda x: x < f+d, Fplus))\n",
        "\n",
        "  Fminus1 = list(filter(lambda x: x < f-d, F))\n",
        "  Fminus2 = list(filter(lambda x: x > f+d, F))\n",
        "  Fminus = Fminus1 + Fminus2\n",
        "  del Fminus1, Fminus2\n",
        "\n",
        "  N = X.shape[0]\n",
        "\n",
        "  n = torch.linspace(0,N-1,1).cuda()\n",
        "\n",
        "  result1 = sum(list(map(lambda x:PSD(x,X,h,n),Fplus)))\n",
        "  result2 = sum(list(map(lambda x:PSD(x,X,h,n),Fminus)))\n",
        "\n",
        "\n",
        "  return 10*torch.log10(result1/result2)\n"
      ],
      "execution_count": 0,
      "outputs": []
    },
    {
      "cell_type": "code",
      "metadata": {
        "id": "7nbG_FgRgAcL",
        "colab_type": "code",
        "colab": {}
      },
      "source": [
        "def loss_function(h,X,f,F,d=5):\n",
        "  #X is a list of lists\n",
        "  #f is the corresponding hr to a list in X\n",
        "\n",
        "  #result = 0\n",
        "  l = len(X)\n",
        "\n",
        "  result = -1*sum(list(map(lambda x,y:SNR(x.item(),y,F,d,h),f[:,-1],X)))/l\n",
        "  \n",
        "  #for i in range(0,l):\n",
        "    #result = result + SNR(f[i,-1].item(),X[i],F,d,h)\n",
        "    \n",
        "  return result"
      ],
      "execution_count": 0,
      "outputs": []
    },
    {
      "cell_type": "code",
      "metadata": {
        "id": "cl7bPi9sd-F6",
        "colab_type": "code",
        "colab": {}
      },
      "source": [
        "#Initiate set of possible heart rates\n",
        "F = []\n",
        "for i in range(40,240):\n",
        "  F.append(i)"
      ],
      "execution_count": 0,
      "outputs": []
    },
    {
      "cell_type": "markdown",
      "metadata": {
        "id": "kyFY7YlhExLX",
        "colab_type": "text"
      },
      "source": [
        "### Network definition"
      ]
    },
    {
      "cell_type": "markdown",
      "metadata": {
        "id": "nobt0DeRYKFW",
        "colab_type": "text"
      },
      "source": [
        "Implementation details Both networks use a standard chain of convolution, MaxPool and\n",
        "activation functions. Before the first convolution layer and after every MaxPool layer, a\n",
        "batch normalization was inserted. Exponential Linear Units [2] were used as the activation\n",
        "functions. Dropout was used. Batch normalization was initialized with weights randomly\n",
        "sampled from a Gaussian distribution with m = 0 and s = 0:1, convolution layers were\n",
        "initialized according to the method described in [3]. Both network components were trained\n",
        "using PyTorch library, Adam optimizer was used with learning rate set to 0:0001 in case of\n",
        "the Extractor and to 0:1 in case of the HR estimator. For both training setups, a set of all input\n",
        "facial RGB images X = R192\u0002128. Faces were found by a face detector, the bounding boxes\n",
        "were adjusted to the aspect ratio 3 : 2 to cover the whole face, cropped out and resized to\n",
        "192\u0002128 pixels. The set of true HR F = {40/60 ; 41/60; : : : ; 240/60} in case of extractor and F = R0+\n",
        "in case of estimator."
      ]
    },
    {
      "cell_type": "code",
      "metadata": {
        "id": "VAPj8GePaB5O",
        "colab_type": "code",
        "colab": {}
      },
      "source": [
        "## PyTorch \n",
        "import torch\n",
        "import torch.nn as nn\n",
        "import torch.nn.functional as F\n",
        "import torchvision.transforms as transforms\n",
        "from torch.autograd import Variable\n",
        "from torch import Tensor\n",
        "import torch.optim as optim\n",
        "import torchvision\n",
        "\n",
        "import math #for calculus\n",
        "import cv2\n",
        "from google.colab.patches import cv2_imshow\n",
        "import numpy as np\n",
        "\n",
        "from sklearn import svm\n",
        "import pickle"
      ],
      "execution_count": 0,
      "outputs": []
    },
    {
      "cell_type": "code",
      "metadata": {
        "id": "57vd2o-NE0bl",
        "colab_type": "code",
        "colab": {}
      },
      "source": [
        "class Extractor(nn.Module):\n",
        "    \n",
        "    def __init__(self,name='Extractor'):\n",
        "        super(Extractor, self).__init__()\n",
        "        self.T = 120\n",
        "        \n",
        "        self.name = name\n",
        "        \n",
        "        self.training_epochs = 0\n",
        "        \n",
        "        self.lr_history       = []\n",
        "        self.accuracy_history = []\n",
        "        self.loss_history     = []\n",
        "        \n",
        "        self.batchnorm0 = nn.BatchNorm2d(3)\n",
        "        self.conv1 = nn.Conv2d(3,64,(10,15),2,2,2)\n",
        "\n",
        "        self.pooling1 = nn.MaxPool2d((10,15), stride=2, padding=(2,4), dilation=2)\n",
        "        self.batchnorm1 = nn.BatchNorm2d(64)\n",
        "\n",
        "        self.pooling2 = nn.MaxPool2d((10,15), stride=2, padding=(2,4), dilation=2)\n",
        "        self.batchnorm2 = nn.BatchNorm2d(64)\n",
        "        \n",
        "        self.pooling3 = nn.MaxPool2d((10,14), stride=2, padding=(3,4), dilation=1)\n",
        "        self.batchnorm3 = nn.BatchNorm2d(64)\n",
        "\n",
        "        self.fc = torch.nn.Linear(in_features=64*1*1, out_features=1)\n",
        "      \n",
        "        \n",
        "        # robust weight initialization\n",
        "        torch.nn.init.xavier_normal_(self.conv1.weight)\n",
        "      \n",
        "\n",
        "        \n",
        "    def forward(self, x):\n",
        "\n",
        "        # first set of CNNs and then a max pool\n",
        "        x = x.permute(0,3,2,1)\n",
        "        #print(x.shape)\n",
        "        x = self.batchnorm0(x)\n",
        "        x = self.conv1(x)\n",
        "        x = F.elu(x)\n",
        "        #print(x.shape)\n",
        "        x = self.pooling1(x)\n",
        "        x = self.batchnorm1(x)\n",
        "        #print(x.shape)\n",
        "        x = self.pooling2(x)\n",
        "        x = self.batchnorm2(x)\n",
        "        #print(x.shape)\n",
        "        x = self.pooling3(x)\n",
        "        x = self.batchnorm3(x)\n",
        "        #print(x.shape)\n",
        "        \n",
        "        batch_size, C, H, W = x.size()\n",
        "        \n",
        "        x = x.view(batch_size, H*W*C)\n",
        "\n",
        "        x = F.elu(self.fc(x))\n",
        "        \n",
        "        return x\n",
        "      \n",
        "    def save(self,root='gdrive/My\\ Drive/DeepLearning/Nets'):\n",
        "      !mkdir $root\n",
        "  \n",
        "      path = root.replace('\\\\','') + '/' + self.name + '.pickle'\n",
        "    \n",
        "      print(\"\\nsaving network under:\\n\",path)\n",
        "      \n",
        "      with open(path, 'wb') as f:\n",
        "        pickle.dump(self, f)\n",
        "        \n",
        "    def next_epoch(self,lr,acc_hist,loss_hist):\n",
        "      self.training_epochs += 1\n",
        "      self.lr_history.append(lr)\n",
        "      self.accuracy_history.append(acc_hist)\n",
        "      self.loss_history.append(loss_hist)\n",
        "    \n",
        "    def reset(self):\n",
        "      self.training_epochs = 0\n",
        "      self.lr_history = []\n",
        "      self.accuracy_history = []\n",
        "      self.loss_history = []"
      ],
      "execution_count": 0,
      "outputs": []
    },
    {
      "cell_type": "markdown",
      "metadata": {
        "id": "ZafPofryZ5R0",
        "colab_type": "text"
      },
      "source": [
        "### Network Training Methods"
      ]
    },
    {
      "cell_type": "code",
      "metadata": {
        "id": "ac_bdeTwaGMz",
        "colab_type": "code",
        "colab": {}
      },
      "source": [
        "def get_cost_function():\n",
        "    \n",
        "  return loss_function\n",
        "    \n",
        "def get_optimizer(net, lr=0.0001, wd=1e-5, momentum=0.01):\n",
        "  optimizer = torch.optim.Adam(net.parameters(), lr=lr, betas=(0.9, 0.999), eps=1e-08, weight_decay=wd, amsgrad=False)\n",
        "  return optimizer"
      ],
      "execution_count": 0,
      "outputs": []
    },
    {
      "cell_type": "code",
      "metadata": {
        "id": "vTntqDhCaaXQ",
        "colab_type": "code",
        "colab": {}
      },
      "source": [
        "def test(net, cost_function, device='cuda:0'):\n",
        "  samples = 0.\n",
        "  sequences = 0.\n",
        "  cumulative_loss = 0.\n",
        "  cumulative_accuracy = 0.\n",
        "  cumulative_seq_accuracy = 0.\n",
        "\n",
        "  seq = 200\n",
        "\n",
        "  net.eval() # Strictly needed if network contains layers which has different behaviours between train and test\n",
        "  \n",
        "  with torch.no_grad():\n",
        "      \n",
        "    #zero mean and normalize the data\n",
        "    mean = t_data.mean()\n",
        "    std  = t_data.std()\n",
        "      \n",
        "    t_data = (t_data - mean)/std\n",
        "      \n",
        "    # Load data into GPU\n",
        "    inputs = t_data.float().to(device)\n",
        "    targets = t_labels.to(device)\n",
        "      \n",
        "    # Apply the loss (h,X,f,Phi,F,d=5)\n",
        "    loss = cost_function(net,inputs,targets, net.parameters,F,d=5)\n",
        "\n",
        "    cumulative_loss += loss\n",
        "  \n",
        "  \n",
        "  return cumulative_loss/samples"
      ],
      "execution_count": 0,
      "outputs": []
    },
    {
      "cell_type": "code",
      "metadata": {
        "id": "LWmLymsyfu2b",
        "colab_type": "code",
        "colab": {}
      },
      "source": [
        "def train(net, t_data, t_labels, cost_function,optimizer,batch_size = 5, device='cuda:0'):\n",
        "  samples = 0.\n",
        "  sequences = 0.\n",
        "  cumulative_loss = 0.\n",
        "  cumulative_accuracy = 0.\n",
        "  cumulative_seq_accuracy = 0.\n",
        "\n",
        "  seq = 200\n",
        "\n",
        "  net.train() # Strictly needed if network contains layers which has different behaviours between train and test\n",
        "      \n",
        "  #zero mean and normalize the data\n",
        "  mean = t_data.mean()\n",
        "  std  = t_data.std()\n",
        "      \n",
        "  t_data = (t_data - mean)/std\n",
        "\n",
        "  count,h,w,d = np.array(t_data).shape\n",
        "  \n",
        "  batch = int(count/batch_size)\n",
        "  \n",
        "  # Load data into GPU\n",
        "  inputs = t_data.view(batch,batch_size,h,w,d).float().to(device)\n",
        "  targets = t_labels.view(batch,batch_size).to(device)\n",
        "\n",
        "  F = []\n",
        "  for i in range(40,240):\n",
        "    F.append(i)\n",
        "    \n",
        "  # Apply the loss (h,X,f,Phi,F,d=5)\n",
        "  loss = cost_function(net,inputs,targets,F,d=5)\n",
        "\n",
        "  # Backward pass\n",
        "  loss.sum().backward()\n",
        "    \n",
        "  # Update parameters\n",
        "  optimizer.step()\n",
        "    \n",
        "  # Reset the optimizer\n",
        "  optimizer.zero_grad()\n",
        "\n",
        "  cumulative_loss += loss.sum()\n",
        "  \n",
        "  \n",
        "  return cumulative_loss"
      ],
      "execution_count": 0,
      "outputs": []
    },
    {
      "cell_type": "markdown",
      "metadata": {
        "id": "sMZBBUNpWF3z",
        "colab_type": "text"
      },
      "source": [
        "* Video Visualization of the Face color\n",
        "\n",
        "* Results for CNN\n",
        "\n",
        "* send the specification of delivery"
      ]
    },
    {
      "cell_type": "code",
      "metadata": {
        "id": "FocYJFtwXQx5",
        "colab_type": "code",
        "colab": {
          "base_uri": "https://localhost:8080/",
          "height": 425
        },
        "outputId": "14a3821f-b4de-4d8f-c0bf-c0f285e23bd2"
      },
      "source": [
        "net = Extractor()\n",
        "i = 0\n",
        "dataset = get_data(1,i)\n"
      ],
      "execution_count": 24,
      "outputs": [
        {
          "output_type": "stream",
          "text": [
            "\n",
            "get data for subject 1 folder 0\n",
            "rm: cannot remove 'temp_video': No such file or directory\n",
            "rm: cannot remove 'bounding': No such file or directory\n",
            "rm: cannot remove 'faces': No such file or directory\n",
            "rm: cannot remove 'resized': No such file or directory\n",
            "mkdir: cannot create directory ‘gdrive/My Drive/cohface/frames’: File exists\n",
            "frame has length of  1205\n",
            "100\n",
            "200\n",
            "300\n",
            "400\n",
            "500\n",
            "600\n",
            "700\n",
            "800\n",
            "900\n",
            "1000\n",
            "1100\n",
            "1200\n",
            "Not grabbed.\n",
            "mkdir: cannot create directory ‘gdrive/My Drive/cohface/frames/1_0’: File exists\n",
            "cleaning\n",
            "100%\n"
          ],
          "name": "stdout"
        }
      ]
    },
    {
      "cell_type": "code",
      "metadata": {
        "id": "s1DfvHTdtjbW",
        "colab_type": "code",
        "colab": {}
      },
      "source": [
        "imgs = torch.Tensor(list(map(lambda x: x[0], dataset)))\n",
        "labels = torch.LongTensor(list(map(lambda x: x[1], dataset)))\n",
        "\n",
        "net = Extractor()\n",
        "net.to('cuda:0')\n",
        "losses = []\n",
        "for i in range(0,len(imgs),4):\n",
        "  if i+4 >= len(imgs):\n",
        "    break\n",
        "  print(i)\n",
        "  L = train(net,imgs[i:i+4],labels[i:i+4],get_cost_function(),optimizer=get_optimizer(net),batch_size = 2)\n",
        "  losses.append(L)\n",
        "\n",
        "mlt.plot(losses)"
      ],
      "execution_count": 0,
      "outputs": []
    },
    {
      "cell_type": "code",
      "metadata": {
        "id": "Ptl7Yd__tuuq",
        "colab_type": "code",
        "colab": {}
      },
      "source": [
        ""
      ],
      "execution_count": 0,
      "outputs": []
    }
  ]
}